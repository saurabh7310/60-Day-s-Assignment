{
 "cells": [
  {
   "cell_type": "markdown",
   "id": "30930c82-24ac-41aa-b208-9f96bc69cd00",
   "metadata": {},
   "source": [
    "## 1"
   ]
  },
  {
   "cell_type": "code",
   "execution_count": 1,
   "id": "45ba9703-bc5f-4430-8c3a-15c644407436",
   "metadata": {},
   "outputs": [
    {
     "name": "stdout",
     "output_type": "stream",
     "text": [
      "!dlroW ,olleH\n"
     ]
    }
   ],
   "source": [
    "# Task 1: Reverse a string without using any built-in string reversal functions.\n",
    "def reverse_string(s):\n",
    "    return s[::-1]\n",
    "\n",
    "print(reverse_string(\"Hello, World!\"))"
   ]
  },
  {
   "cell_type": "markdown",
   "id": "9c36e6ff-acf5-4805-9ba8-5d59c83fa15f",
   "metadata": {},
   "source": [
    "## 2"
   ]
  },
  {
   "cell_type": "code",
   "execution_count": 2,
   "id": "5ffe3091-a406-4dae-82ed-7342799b8fc3",
   "metadata": {
    "tags": []
   },
   "outputs": [
    {
     "name": "stdout",
     "output_type": "stream",
     "text": [
      "True\n"
     ]
    }
   ],
   "source": [
    "# Task 2: Implement a function to check if a given string is a palindrome.\n",
    "def is_palindrome(s):\n",
    "    return s == s[::-1]\n",
    "\n",
    "print(is_palindrome(\"radar\"))"
   ]
  },
  {
   "cell_type": "markdown",
   "id": "a5ed4e41-b4f3-43e7-914e-55998f8805f3",
   "metadata": {},
   "source": [
    "## 3"
   ]
  },
  {
   "cell_type": "code",
   "execution_count": 3,
   "id": "1d5eadf3-1ece-423e-8d82-77061c02d0cc",
   "metadata": {},
   "outputs": [
    {
     "name": "stdout",
     "output_type": "stream",
     "text": [
      "9\n"
     ]
    }
   ],
   "source": [
    "# Task 3: Find the largest element in a given list.\n",
    "def find_largest_element(lst):\n",
    "    return max(lst)\n",
    "print(find_largest_element([5, 2, 9, 1, 7]))"
   ]
  },
  {
   "cell_type": "markdown",
   "id": "8dbadb12-02b1-413b-8d03-fab3b37a0859",
   "metadata": {},
   "source": [
    "## 4"
   ]
  },
  {
   "cell_type": "code",
   "execution_count": 4,
   "id": "3b24cd3b-b78d-437d-b938-d58434a65808",
   "metadata": {},
   "outputs": [
    {
     "name": "stdout",
     "output_type": "stream",
     "text": [
      "{2: 3, 3: 1, 4: 2, 5: 1}\n"
     ]
    }
   ],
   "source": [
    "# Task 4: Implement a function to count the occurrence of each element in a list.\n",
    "def count_occurrences(lst):\n",
    "    occurrences = {}\n",
    "    for element in lst:\n",
    "        if element in occurrences:\n",
    "            occurrences[element] += 1\n",
    "        else:\n",
    "            occurrences[element] = 1\n",
    "    return occurrences\n",
    "print(count_occurrences([2, 3, 4, 2, 5, 4, 2]))"
   ]
  },
  {
   "cell_type": "markdown",
   "id": "4129ea5d-06dd-4615-b88a-a9ebc1a07650",
   "metadata": {},
   "source": [
    "## 5"
   ]
  },
  {
   "cell_type": "code",
   "execution_count": 5,
   "id": "18d6a285-275f-471c-b66a-46c3a732a558",
   "metadata": {},
   "outputs": [
    {
     "name": "stdout",
     "output_type": "stream",
     "text": [
      "7\n"
     ]
    }
   ],
   "source": [
    "# Task 5: Find the second largest number in a list.\n",
    "def find_second_largest(lst):\n",
    "    lst = list(set(lst))\n",
    "    lst.sort(reverse=True)\n",
    "    return lst[1]\n",
    "print(find_second_largest([5, 2, 9, 1, 7]))"
   ]
  },
  {
   "cell_type": "markdown",
   "id": "eaedca30-6892-421c-8e05-265f628b283a",
   "metadata": {},
   "source": [
    "## 6"
   ]
  },
  {
   "cell_type": "code",
   "execution_count": 6,
   "id": "da473440-a567-4cca-b4bb-d75b64740874",
   "metadata": {},
   "outputs": [
    {
     "name": "stdout",
     "output_type": "stream",
     "text": [
      "[2, 3, 4, 5]\n"
     ]
    }
   ],
   "source": [
    "# Task 6: Remove duplicate elements from a list.\n",
    "def remove_duplicates(lst):\n",
    "    return list(set(lst))\n",
    "print(remove_duplicates([2, 3, 4, 2, 5, 4, 2]))"
   ]
  },
  {
   "cell_type": "markdown",
   "id": "2d8160bb-7de3-40e3-8c53-39cbdef14186",
   "metadata": {},
   "source": [
    "## 7"
   ]
  },
  {
   "cell_type": "code",
   "execution_count": 7,
   "id": "1acd16ce-06fc-4577-a8e1-01401d438270",
   "metadata": {},
   "outputs": [
    {
     "name": "stdout",
     "output_type": "stream",
     "text": [
      "120\n"
     ]
    }
   ],
   "source": [
    "# Task 7: Calculate the factorial of a given number.\n",
    "def factorial(n):\n",
    "    if n == 0:\n",
    "        return 1\n",
    "    else:\n",
    "        return n * factorial(n-1)\n",
    "print(factorial(5))"
   ]
  },
  {
   "cell_type": "markdown",
   "id": "ada87317-2444-428f-9c0f-21ce49b4c9c0",
   "metadata": {},
   "source": [
    "## 8"
   ]
  },
  {
   "cell_type": "code",
   "execution_count": 8,
   "id": "9b8f323b-b7f0-4b13-9844-e77414f8532d",
   "metadata": {},
   "outputs": [
    {
     "name": "stdout",
     "output_type": "stream",
     "text": [
      "True\n"
     ]
    }
   ],
   "source": [
    "# Task 8: Check if a given number is prime.\n",
    "def is_prime(n):\n",
    "    if n < 2:\n",
    "        return False\n",
    "    for i in range(2, int(n**0.5) + 1):\n",
    "        if n % i == 0:\n",
    "            return False\n",
    "    return True\n",
    "print(is_prime(17))"
   ]
  },
  {
   "cell_type": "markdown",
   "id": "a16f58ba-f385-460b-8fcc-334263bff347",
   "metadata": {},
   "source": [
    "## 9"
   ]
  },
  {
   "cell_type": "code",
   "execution_count": 9,
   "id": "1d002f20-1aab-4941-9e51-0cc8480b24f9",
   "metadata": {},
   "outputs": [
    {
     "name": "stdout",
     "output_type": "stream",
     "text": [
      "[1, 2, 5, 7, 9]\n"
     ]
    }
   ],
   "source": [
    "# Task 9: Sort a list of integers in ascending order.\n",
    "def sort_list(lst):\n",
    "    return sorted(lst)\n",
    "print(sort_list([5, 2, 9, 1, 7]))"
   ]
  },
  {
   "cell_type": "markdown",
   "id": "b6241a94-4427-4f37-a8bc-a4e30279243d",
   "metadata": {},
   "source": [
    "## 10"
   ]
  },
  {
   "cell_type": "code",
   "execution_count": 10,
   "id": "224698a1-6a5c-40d0-90a4-08c211f789d5",
   "metadata": {},
   "outputs": [
    {
     "name": "stdout",
     "output_type": "stream",
     "text": [
      "24\n"
     ]
    }
   ],
   "source": [
    "# Task 10: Find the sum of all numbers in a list.\n",
    "def find_sum(lst):\n",
    "    return sum(lst)\n",
    "print(find_sum([5, 2, 9, 1, 7]))"
   ]
  },
  {
   "cell_type": "markdown",
   "id": "ae3c2f97-f345-4416-bc7d-ca309dec600a",
   "metadata": {},
   "source": [
    "## 11"
   ]
  },
  {
   "cell_type": "code",
   "execution_count": 11,
   "id": "16c707d6-c137-405c-a003-c110da72ff8d",
   "metadata": {},
   "outputs": [
    {
     "name": "stdout",
     "output_type": "stream",
     "text": [
      "[4, 5, 6]\n"
     ]
    }
   ],
   "source": [
    "# Task 11: Find the common elements between two lists.\n",
    "def find_common_elements(lst1, lst2):\n",
    "    return list(set(lst1) & set(lst2))\n",
    "print(find_common_elements([2, 3, 4, 5, 6], [4, 5, 6, 7, 8]))"
   ]
  },
  {
   "cell_type": "markdown",
   "id": "bef7399d-58ca-46de-b626-9e5fce2ceb21",
   "metadata": {},
   "source": [
    "## 12"
   ]
  },
  {
   "cell_type": "code",
   "execution_count": 12,
   "id": "ec142bf8-280a-4978-8cca-a434098d3347",
   "metadata": {},
   "outputs": [
    {
     "name": "stdout",
     "output_type": "stream",
     "text": [
      "True\n"
     ]
    }
   ],
   "source": [
    "# Task 12: Check if a given string is an anagram of another string.\n",
    "def is_anagram(str1, str2):\n",
    "    return sorted(str1) == sorted(str2)\n",
    "print(is_anagram(\"listen\", \"silent\"))"
   ]
  },
  {
   "cell_type": "markdown",
   "id": "daee98e6-d6c2-4d09-b6aa-868b7a10f027",
   "metadata": {},
   "source": [
    "## 13"
   ]
  },
  {
   "cell_type": "code",
   "execution_count": 13,
   "id": "e539ab97-5691-4500-b3ae-cc37a674e6c2",
   "metadata": {},
   "outputs": [
    {
     "name": "stdout",
     "output_type": "stream",
     "text": [
      "['abc', 'acb', 'bac', 'bca', 'cab', 'cba']\n"
     ]
    }
   ],
   "source": [
    "# Task 13: Generate all permutations of a given string.\n",
    "def generate_permutations(s):\n",
    "    if len(s) <= 1:\n",
    "        return [s]\n",
    "    permutations = []\n",
    "    for i in range(len(s)):\n",
    "        for perm in generate_permutations(s[:i] + s[i+1:]):\n",
    "            permutations.append(s[i] + perm)\n",
    "    return permutations\n",
    "print(generate_permutations(\"abc\"))"
   ]
  },
  {
   "cell_type": "markdown",
   "id": "52ecf3c2-97ed-44b3-87f5-8c4ce7b9293b",
   "metadata": {},
   "source": [
    "## 14"
   ]
  },
  {
   "cell_type": "code",
   "execution_count": 14,
   "id": "8545e1a5-6140-4f30-899b-b96182eee360",
   "metadata": {},
   "outputs": [
    {
     "name": "stdout",
     "output_type": "stream",
     "text": [
      "[0, 1, 1, 2, 3, 5, 8, 13, 21, 34]\n"
     ]
    }
   ],
   "source": [
    "# Task 14: Calculate the Fibonacci sequence up to a given number of terms.\n",
    "def fibonacci_sequence(n):\n",
    "    sequence = [0, 1]\n",
    "    while len(sequence) < n:\n",
    "        sequence.append(sequence[-1] + sequence[-2])\n",
    "    return sequence\n",
    "print(fibonacci_sequence(10))"
   ]
  },
  {
   "cell_type": "markdown",
   "id": "740c9f85-c133-4530-93bb-dcb976e5b703",
   "metadata": {},
   "source": [
    "## 15"
   ]
  },
  {
   "cell_type": "code",
   "execution_count": 15,
   "id": "fe3feac0-9d1e-49ba-a38a-dd91c1a58a09",
   "metadata": {},
   "outputs": [
    {
     "name": "stdout",
     "output_type": "stream",
     "text": [
      "4.0\n"
     ]
    }
   ],
   "source": [
    "# Task 15: Find the median of a list of numbers.\n",
    "def find_median(lst):\n",
    "    sorted_lst = sorted(lst)\n",
    "    n = len(sorted_lst)\n",
    "    if n % 2 == 0:\n",
    "        return (sorted_lst[n//2 - 1] + sorted_lst[n//2]) / 2\n",
    "    else:\n",
    "        return sorted_lst[n//2]\n",
    "print(find_median([3, 5, 2, 8, 1, 9]))"
   ]
  },
  {
   "cell_type": "markdown",
   "id": "04c41c41-9bbf-467f-8483-2c16651edc2b",
   "metadata": {},
   "source": [
    "## 16"
   ]
  },
  {
   "cell_type": "code",
   "execution_count": 16,
   "id": "a16c9c27-b97c-4f10-9968-27c8f3f15347",
   "metadata": {},
   "outputs": [
    {
     "name": "stdout",
     "output_type": "stream",
     "text": [
      "True\n",
      "False\n"
     ]
    }
   ],
   "source": [
    "# Task 16: Check if a given list is sorted in non-decreasing order.\n",
    "def is_sorted(lst):\n",
    "    return all(lst[i] <= lst[i+1] for i in range(len(lst)-1))\n",
    "print(is_sorted([1, 2, 3, 4, 5]))\n",
    "print(is_sorted([5, 4, 3, 2, 1]))"
   ]
  },
  {
   "cell_type": "markdown",
   "id": "2c1e19cf-62ee-46d7-a926-581685aa34da",
   "metadata": {},
   "source": [
    "## 17"
   ]
  },
  {
   "cell_type": "code",
   "execution_count": 17,
   "id": "02aed76e-f7ad-4d05-aaad-1d0f961268ac",
   "metadata": {},
   "outputs": [
    {
     "name": "stdout",
     "output_type": "stream",
     "text": [
      "[4, 5]\n"
     ]
    }
   ],
   "source": [
    "# Task 17: Find the intersection of two lists.\n",
    "def find_intersection(lst1, lst2):\n",
    "    return list(set(lst1) & set(lst2))\n",
    "print(find_intersection([1, 2, 3, 4, 5], [4, 5, 6, 7, 8]))"
   ]
  },
  {
   "cell_type": "markdown",
   "id": "17fea57c-8ea2-4c5d-893b-75bec1cd33bd",
   "metadata": {},
   "source": [
    "## 18"
   ]
  },
  {
   "cell_type": "code",
   "execution_count": 18,
   "id": "364c9286-be88-4358-ad1e-207b0aa7d3f1",
   "metadata": {},
   "outputs": [
    {
     "name": "stdout",
     "output_type": "stream",
     "text": [
      "7\n"
     ]
    }
   ],
   "source": [
    "# Task 18: Find the maximum subarray sum in a given list.\n",
    "def find_maximum_subarray_sum(lst):\n",
    "    max_sum = float('-inf')\n",
    "    current_sum = 0\n",
    "    for num in lst:\n",
    "        current_sum += num\n",
    "        if current_sum > max_sum:\n",
    "            max_sum = current_sum\n",
    "        if current_sum < 0:\n",
    "            current_sum = 0\n",
    "    return max_sum\n",
    "print(find_maximum_subarray_sum([-2, -3, 4, -1, -2, 1, 5, -3]))"
   ]
  },
  {
   "cell_type": "markdown",
   "id": "37d83f68-f500-448c-ad4d-561b0b1bcfc5",
   "metadata": {},
   "source": [
    "## 19"
   ]
  },
  {
   "cell_type": "code",
   "execution_count": 19,
   "id": "51c2d3f6-1c85-4077-aba9-4ad594f0f546",
   "metadata": {},
   "outputs": [
    {
     "name": "stdout",
     "output_type": "stream",
     "text": [
      "Hll, Wrld!\n"
     ]
    }
   ],
   "source": [
    "# Task 19: Remove all vowels from a given string.\n",
    "def remove_vowels(s):\n",
    "    vowels = ['a', 'e', 'i', 'o', 'u']\n",
    "    return ''.join([char for char in s if char.lower() not in vowels])\n",
    "print(remove_vowels(\"Hello, World!\"))"
   ]
  },
  {
   "cell_type": "markdown",
   "id": "adb6f97a-31e9-497c-b72f-36341ff94db6",
   "metadata": {},
   "source": [
    "## 20"
   ]
  },
  {
   "cell_type": "code",
   "execution_count": 20,
   "id": "a9f0f4d9-3acf-4360-92f9-0421cfc24486",
   "metadata": {},
   "outputs": [
    {
     "name": "stdout",
     "output_type": "stream",
     "text": [
      "World! Hello,\n"
     ]
    }
   ],
   "source": [
    "# Task 20: Reverse the order of words in a given sentence.\n",
    "def reverse_words(sentence):\n",
    "    words = sentence.split()\n",
    "    reversed_words = ' '.join(words[::-1])\n",
    "    return reversed_words\n",
    "print(reverse_words(\"Hello, World!\"))"
   ]
  },
  {
   "cell_type": "markdown",
   "id": "6e82de92-4b5c-4868-8a51-e39fde90dc1e",
   "metadata": {},
   "source": [
    "## 21"
   ]
  },
  {
   "cell_type": "code",
   "execution_count": 21,
   "id": "49ba21a9-5b35-453a-8eab-9bc14b2427b4",
   "metadata": {},
   "outputs": [
    {
     "name": "stdout",
     "output_type": "stream",
     "text": [
      "True\n"
     ]
    }
   ],
   "source": [
    "# Task 21: Check if two strings are anagrams of each other.\n",
    "def are_anagrams(str1, str2):\n",
    "    return sorted(str1) == sorted(str2)\n",
    "print(are_anagrams(\"listen\", \"silent\"))"
   ]
  },
  {
   "cell_type": "markdown",
   "id": "c0addc89-affa-4f52-ba30-83e1d4cf89f6",
   "metadata": {},
   "source": [
    "## 22"
   ]
  },
  {
   "cell_type": "code",
   "execution_count": 22,
   "id": "07b8eb26-b3cd-4970-893a-1d93e5b48f1e",
   "metadata": {},
   "outputs": [
    {
     "name": "stdout",
     "output_type": "stream",
     "text": [
      "c\n"
     ]
    }
   ],
   "source": [
    "# Task 22: Find the first non-repeating character in a string.\n",
    "def find_first_non_repeating_character(s):\n",
    "    char_count = {}\n",
    "    for char in s:\n",
    "        if char in char_count:\n",
    "            char_count[char] += 1\n",
    "        else:\n",
    "            char_count[char] = 1\n",
    "    for char in s:\n",
    "        if char_count[char] == 1:\n",
    "            return char\n",
    "    return None\n",
    "print(find_first_non_repeating_character(\"abracadabra\"))"
   ]
  },
  {
   "cell_type": "markdown",
   "id": "0c566b7f-ba7b-4349-b839-56e61a2d2691",
   "metadata": {},
   "source": [
    "## 23"
   ]
  },
  {
   "cell_type": "code",
   "execution_count": 23,
   "id": "a399bec5-d64f-4482-8005-44eee1178de0",
   "metadata": {},
   "outputs": [
    {
     "name": "stdout",
     "output_type": "stream",
     "text": [
      "[2, 2, 3, 3]\n"
     ]
    }
   ],
   "source": [
    "# Task 23: Find the prime factors of a given number.\n",
    "def find_prime_factors(n):\n",
    "    factors = []\n",
    "    i = 2\n",
    "    while i <= n:\n",
    "        if n % i == 0:\n",
    "            factors.append(i)\n",
    "            n /= i\n",
    "        else:\n",
    "            i += 1\n",
    "    return factors\n",
    "print(find_prime_factors(36))"
   ]
  },
  {
   "cell_type": "markdown",
   "id": "e9f63363-8d2b-42ac-80e3-39cdd41d7300",
   "metadata": {},
   "source": [
    "## 24"
   ]
  },
  {
   "cell_type": "code",
   "execution_count": 24,
   "id": "613ff9f4-446c-4811-9e8b-b353eefeed18",
   "metadata": {},
   "outputs": [
    {
     "name": "stdout",
     "output_type": "stream",
     "text": [
      "True\n"
     ]
    }
   ],
   "source": [
    "# Task 24: Check if a given number is a power of two.\n",
    "def is_power_of_two(n):\n",
    "    return n > 0 and (n & (n - 1)) == 0\n",
    "print(is_power_of_two(16))"
   ]
  },
  {
   "cell_type": "markdown",
   "id": "bb255981-2c9f-4882-ab02-e5c79be3f1cf",
   "metadata": {},
   "source": [
    "## 25"
   ]
  },
  {
   "cell_type": "code",
   "execution_count": 25,
   "id": "71516642-3450-41be-80c7-a846b5990fed",
   "metadata": {},
   "outputs": [
    {
     "name": "stdout",
     "output_type": "stream",
     "text": [
      "[1, 2, 3, 4, 5, 6]\n"
     ]
    }
   ],
   "source": [
    "# Task 25: Merge two sorted lists into a single sorted list.\n",
    "def merge_sorted_lists(lst1, lst2):\n",
    "    merged_list = []\n",
    "    i, j = 0, 0\n",
    "    while i < len(lst1) and j < len(lst2):\n",
    "        if lst1[i] < lst2[j]:\n",
    "            merged_list.append(lst1[i])\n",
    "            i += 1\n",
    "        else:\n",
    "            merged_list.append(lst2[j])\n",
    "            j += 1\n",
    "    while i < len(lst1):\n",
    "        merged_list.append(lst1[i])\n",
    "        i += 1\n",
    "    while j < len(lst2):\n",
    "        merged_list.append(lst2[j])\n",
    "        j += 1\n",
    "    return merged_list\n",
    "print(merge_sorted_lists([1, 3, 5], [2, 4, 6]))"
   ]
  },
  {
   "cell_type": "markdown",
   "id": "4a3cc7be-38cb-49b3-b45e-3104bf7ab71d",
   "metadata": {},
   "source": [
    "## 26"
   ]
  },
  {
   "cell_type": "code",
   "execution_count": 26,
   "id": "e1842f66-e91f-4b63-8781-f1a9188b8918",
   "metadata": {},
   "outputs": [
    {
     "name": "stdout",
     "output_type": "stream",
     "text": [
      "[2]\n"
     ]
    }
   ],
   "source": [
    "# Task 26: Find the mode of a list of numbers.\n",
    "def find_mode(lst):\n",
    "    counts = {}\n",
    "    for num in lst:\n",
    "        if num in counts:\n",
    "            counts[num] += 1\n",
    "        else:\n",
    "            counts[num] = 1\n",
    "    max_count = max(counts.values())\n",
    "    mode = [num for num, count in counts.items() if count == max_count]\n",
    "    return mode\n",
    "print(find_mode([2, 3, 4, 2, 5, 4, 2]))"
   ]
  },
  {
   "cell_type": "markdown",
   "id": "d8077077-aed8-4bea-91fd-c9292198119b",
   "metadata": {},
   "source": [
    "## 27"
   ]
  },
  {
   "cell_type": "code",
   "execution_count": 27,
   "id": "3cc7271f-92e7-463d-a1ff-c351308f7323",
   "metadata": {},
   "outputs": [
    {
     "name": "stdout",
     "output_type": "stream",
     "text": [
      "12\n"
     ]
    }
   ],
   "source": [
    "# Task 27: Find the greatest common divisor (GCD) of two numbers.\n",
    "def find_gcd(a, b):\n",
    "    while b:\n",
    "        a, b = b, a % b\n",
    "    return a\n",
    "print(find_gcd(24, 36))"
   ]
  },
  {
   "cell_type": "markdown",
   "id": "53a1b801-e085-4c93-9d1e-ecdb2684d350",
   "metadata": {},
   "source": [
    "## 28"
   ]
  },
  {
   "cell_type": "code",
   "execution_count": 28,
   "id": "bfbf63e5-e231-488f-8035-2d8a9d73b9f9",
   "metadata": {},
   "outputs": [
    {
     "name": "stdout",
     "output_type": "stream",
     "text": [
      "3.000000001396984\n"
     ]
    }
   ],
   "source": [
    "# Task 28: Calculate the square root of a given number.\n",
    "def square_root(n):\n",
    "    if n < 0:\n",
    "        return None\n",
    "    guess = n\n",
    "    while abs(guess*guess - n) > 0.0001:\n",
    "        guess = (guess + n/guess) / 2\n",
    "    return guess\n",
    "print(square_root(9))"
   ]
  },
  {
   "cell_type": "markdown",
   "id": "6f4d9cd2-d417-4a08-9d58-581d8fe70266",
   "metadata": {},
   "source": [
    "## 29"
   ]
  },
  {
   "cell_type": "code",
   "execution_count": 29,
   "id": "25863c9c-e110-4d7f-9a64-104e59d3681e",
   "metadata": {},
   "outputs": [
    {
     "name": "stdout",
     "output_type": "stream",
     "text": [
      "True\n"
     ]
    }
   ],
   "source": [
    "# Task 29: Check if a given string is a valid palindrome ignoring non-alphanumeric characters.\n",
    "import re\n",
    "def is_valid_palindrome(s):\n",
    "    cleaned_s = re.sub(r'[^a-zA-Z0-9]', '', s.lower())\n",
    "    return cleaned_s == cleaned_s[::-1]\n",
    "print(is_valid_palindrome(\"A man, a plan, a canal: Panama\"))"
   ]
  },
  {
   "cell_type": "markdown",
   "id": "30ee1bab-9c04-49cb-a2dc-7a0dccbe5c1e",
   "metadata": {},
   "source": [
    "## 30"
   ]
  },
  {
   "cell_type": "code",
   "execution_count": 30,
   "id": "64081662-6792-43e4-bda2-15cdaa486993",
   "metadata": {},
   "outputs": [
    {
     "name": "stdout",
     "output_type": "stream",
     "text": [
      "0\n"
     ]
    }
   ],
   "source": [
    "# Task 30: Find the minimum element in a rotated sorted list.\n",
    "def find_min_element_rotated_sorted(lst):\n",
    "    left, right = 0, len(lst) - 1\n",
    "    while left < right:\n",
    "        mid = (left + right) // 2\n",
    "        if lst[mid] > lst[right]:\n",
    "            left = mid + 1\n",
    "        else:\n",
    "            right = mid\n",
    "    return lst[left]\n",
    "print(find_min_element_rotated_sorted([4, 5, 6, 7, 0, 1, 2]))"
   ]
  },
  {
   "cell_type": "markdown",
   "id": "4e9661ea-e3f1-4597-8886-28dc1224b843",
   "metadata": {},
   "source": [
    "## 31"
   ]
  },
  {
   "cell_type": "code",
   "execution_count": 31,
   "id": "8748e34f-caff-49d8-aa9b-3433d918ae92",
   "metadata": {},
   "outputs": [
    {
     "name": "stdout",
     "output_type": "stream",
     "text": [
      "30\n"
     ]
    }
   ],
   "source": [
    "# Task 31: Find the sum of all even numbers in a list.\n",
    "def find_sum_of_evens(lst):\n",
    "    return sum(num for num in lst if num % 2 == 0)\n",
    "print(find_sum_of_evens([1, 2, 3, 4, 5, 6, 7, 8, 9, 10]))"
   ]
  },
  {
   "cell_type": "markdown",
   "id": "5a82f4c8-a4f1-4482-b8c9-b82ac47f4983",
   "metadata": {},
   "source": [
    "## 32"
   ]
  },
  {
   "cell_type": "code",
   "execution_count": 32,
   "id": "23aa4b48-3f1e-43ed-b221-6cdd041bb8fe",
   "metadata": {},
   "outputs": [
    {
     "name": "stdout",
     "output_type": "stream",
     "text": [
      "32\n"
     ]
    }
   ],
   "source": [
    "# Task 32: Calculate the power of a number using recursion.\n",
    "def power(base, exponent):\n",
    "    if exponent == 0:\n",
    "        return 1\n",
    "    else:\n",
    "        return base * power(base, exponent - 1)\n",
    "print(power(2, 5))"
   ]
  },
  {
   "cell_type": "markdown",
   "id": "c8a2d924-7c18-4e8d-8dd2-9d80d495819b",
   "metadata": {},
   "source": [
    "## 33"
   ]
  },
  {
   "cell_type": "code",
   "execution_count": 33,
   "id": "be9dad56-3e8e-446e-a409-8fc33fc514e9",
   "metadata": {},
   "outputs": [
    {
     "name": "stdout",
     "output_type": "stream",
     "text": [
      "[2, 3, 4, 5]\n"
     ]
    }
   ],
   "source": [
    "# Task 33: Remove duplicates from a list while preserving the order.\n",
    "def remove_duplicates_preserve_order(lst):\n",
    "    unique_lst = []\n",
    "    for num in lst:\n",
    "        if num not in unique_lst:\n",
    "            unique_lst.append(num)\n",
    "    return unique_lst\n",
    "print(remove_duplicates_preserve_order([2, 3, 4, 2, 5, 4, 2]))"
   ]
  },
  {
   "cell_type": "markdown",
   "id": "0bc36137-0f94-4c90-ba24-27da5b0cc26d",
   "metadata": {},
   "source": [
    "## 34"
   ]
  },
  {
   "cell_type": "code",
   "execution_count": 34,
   "id": "b2b15733-65e3-4d4a-8f38-6973201bd339",
   "metadata": {},
   "outputs": [
    {
     "name": "stdout",
     "output_type": "stream",
     "text": [
      "fl\n"
     ]
    }
   ],
   "source": [
    "# Task 34: Find the longest common prefix among a list of strings.\n",
    "def find_longest_common_prefix(strs):\n",
    "    if not strs:\n",
    "        return \"\"\n",
    "    shortest_str = min(strs, key=len)\n",
    "    for i, char in enumerate(shortest_str):\n",
    "        for other in strs:\n",
    "            if other[i] != char:\n",
    "                return shortest_str[:i]\n",
    "    return shortest_str\n",
    "print(find_longest_common_prefix([\"flower\", \"flow\", \"flight\"]))"
   ]
  },
  {
   "cell_type": "markdown",
   "id": "d20ab9ef-4de1-41b6-aeb9-6fe595408526",
   "metadata": {},
   "source": [
    "## 35"
   ]
  },
  {
   "cell_type": "code",
   "execution_count": 35,
   "id": "eaa5d311-aa43-4536-a879-f734c8f3e43f",
   "metadata": {},
   "outputs": [
    {
     "name": "stdout",
     "output_type": "stream",
     "text": [
      "True\n"
     ]
    }
   ],
   "source": [
    "# Task 35: Check if a given number is a perfect square.\n",
    "def is_perfect_square(n):\n",
    "    return n >= 0 and int(n ** 0.5) ** 2 == n\n",
    "print(is_perfect_square(16))"
   ]
  },
  {
   "cell_type": "markdown",
   "id": "917871f3-d776-4495-8396-e9c07399bfa1",
   "metadata": {},
   "source": [
    "## 36"
   ]
  },
  {
   "cell_type": "code",
   "execution_count": 36,
   "id": "1401ab08-3460-4b92-b6fb-e06c1a0abf08",
   "metadata": {},
   "outputs": [
    {
     "name": "stdout",
     "output_type": "stream",
     "text": [
      "120\n"
     ]
    }
   ],
   "source": [
    "# Task 36: Calculate the product of all elements in a list.\n",
    "def calculate_product(lst):\n",
    "    product = 1\n",
    "    for num in lst:\n",
    "        product *= num\n",
    "    return product\n",
    "print(calculate_product([2, 3, 4, 5]))"
   ]
  },
  {
   "cell_type": "markdown",
   "id": "b514a47d-4798-4d10-8985-f236997de1ab",
   "metadata": {},
   "source": [
    "## 37"
   ]
  },
  {
   "cell_type": "code",
   "execution_count": 37,
   "id": "1f90d636-9991-43e1-8480-b47cb937ec7a",
   "metadata": {},
   "outputs": [
    {
     "name": "stdout",
     "output_type": "stream",
     "text": [
      "World! Hello,\n"
     ]
    }
   ],
   "source": [
    "# Task 37: Reverse the order of words in a sentence while preserving the word order.\n",
    "def reverse_words_preserve_order(sentence):\n",
    "    words = sentence.split()\n",
    "    return ' '.join(words[::-1])\n",
    "print(reverse_words_preserve_order(\"Hello, World!\"))"
   ]
  },
  {
   "cell_type": "markdown",
   "id": "05e7b807-d6ab-484a-8e99-1c3c11564b6f",
   "metadata": {},
   "source": [
    "## 38"
   ]
  },
  {
   "cell_type": "code",
   "execution_count": 38,
   "id": "4808801b-de85-419b-aa2d-853aa590ba6f",
   "metadata": {},
   "outputs": [
    {
     "name": "stdout",
     "output_type": "stream",
     "text": [
      "3\n"
     ]
    }
   ],
   "source": [
    "# Task 38: Find the missing number in a given list of consecutive numbers.\n",
    "def find_missing_number(lst):\n",
    "    n = len(lst) + 1\n",
    "    total_sum = n * (n + 1) // 2\n",
    "    current_sum = sum(lst)\n",
    "    return total_sum - current_sum\n",
    "print(find_missing_number([1, 2, 4, 5, 6]))"
   ]
  },
  {
   "cell_type": "markdown",
   "id": "8060224e-026c-4ee7-b4fc-a546b61cf123",
   "metadata": {},
   "source": [
    "## 39"
   ]
  },
  {
   "cell_type": "code",
   "execution_count": 39,
   "id": "8ee64d6f-8e78-4ff8-9c45-1be1d09db2f5",
   "metadata": {},
   "outputs": [
    {
     "name": "stdout",
     "output_type": "stream",
     "text": [
      "15\n"
     ]
    }
   ],
   "source": [
    "# Task 39: Find the sum of digits of a given number.\n",
    "def sum_of_digits(n):\n",
    "    return sum(int(digit) for digit in str(n))\n",
    "print(sum_of_digits(12345))"
   ]
  },
  {
   "cell_type": "markdown",
   "id": "de3d3085-9e55-4959-9c19-65911d494c0d",
   "metadata": {},
   "source": [
    "## 40"
   ]
  },
  {
   "cell_type": "code",
   "execution_count": 40,
   "id": "93a178b6-59b5-450b-a54d-7d6ed61110af",
   "metadata": {},
   "outputs": [
    {
     "name": "stdout",
     "output_type": "stream",
     "text": [
      "True\n"
     ]
    }
   ],
   "source": [
    "# Task 40: Check if a given string is a valid palindrome considering case sensitivity.\n",
    "def is_valid_palindrome_case_sensitive(s):\n",
    "    return s == s[::-1]\n",
    "print(is_valid_palindrome_case_sensitive(\"racecar\"))"
   ]
  },
  {
   "cell_type": "markdown",
   "id": "2bebdda1-c9c8-460c-8db8-3970d617e399",
   "metadata": {},
   "source": [
    "## 41"
   ]
  },
  {
   "cell_type": "code",
   "execution_count": 41,
   "id": "5f406030-6374-458f-a3c8-f363770ddc94",
   "metadata": {},
   "outputs": [
    {
     "name": "stdout",
     "output_type": "stream",
     "text": [
      "1\n"
     ]
    }
   ],
   "source": [
    "# Task 41: Find the smallest missing positive integer in a list.\n",
    "def find_smallest_missing_positive(lst):\n",
    "    smallest = 1\n",
    "    for num in sorted(lst):\n",
    "        if num == smallest:\n",
    "            smallest += 1\n",
    "        elif num > smallest:\n",
    "            return smallest\n",
    "    return smallest\n",
    "print(find_smallest_missing_positive([-1, 0, 2, 3, 4]))"
   ]
  },
  {
   "cell_type": "markdown",
   "id": "eb2c5b8b-3631-4de6-a1ed-177350c6142d",
   "metadata": {},
   "source": [
    "## 42"
   ]
  },
  {
   "cell_type": "code",
   "execution_count": 42,
   "id": "894c888e-4cfb-474b-b173-9c9325003f40",
   "metadata": {},
   "outputs": [
    {
     "name": "stdout",
     "output_type": "stream",
     "text": [
      "bab\n"
     ]
    }
   ],
   "source": [
    "# Task 42: Find the longest palindrome substring in a given string.\n",
    "def find_longest_palindrome_substring(s):\n",
    "    longest_palindrome = \"\"\n",
    "    for i in range(len(s)):\n",
    "        for j in range(i+1, len(s)+1):\n",
    "            substr = s[i:j]\n",
    "            if substr == substr[::-1] and len(substr) > len(longest_palindrome):\n",
    "                longest_palindrome = substr\n",
    "    return longest_palindrome\n",
    "print(find_longest_palindrome_substring(\"babad\"))"
   ]
  },
  {
   "cell_type": "markdown",
   "id": "8df4f9e6-2dbf-41a7-a51e-f20e4e28e633",
   "metadata": {},
   "source": [
    "## 43"
   ]
  },
  {
   "cell_type": "code",
   "execution_count": 43,
   "id": "292dbd60-29c0-46aa-9a61-a68a9bb859ba",
   "metadata": {},
   "outputs": [
    {
     "name": "stdout",
     "output_type": "stream",
     "text": [
      "3\n"
     ]
    }
   ],
   "source": [
    "# Task 43: Find the number of occurrences of a given element in a list.\n",
    "def count_occurrences_element(lst, element):\n",
    "    return lst.count(element)\n",
    "print(count_occurrences_element([2, 3, 4, 2, 5, 4, 2], 2))"
   ]
  },
  {
   "cell_type": "markdown",
   "id": "23147898-119a-4446-832d-2b010f412041",
   "metadata": {},
   "source": [
    "## 44"
   ]
  },
  {
   "cell_type": "code",
   "execution_count": 44,
   "id": "deec174d-3544-4dee-a92c-c623bc09e76a",
   "metadata": {},
   "outputs": [
    {
     "name": "stdout",
     "output_type": "stream",
     "text": [
      "True\n"
     ]
    }
   ],
   "source": [
    "# Task 44: Check if a given number is a perfect number.\n",
    "def is_perfect_number(n):\n",
    "    divisors = [1]\n",
    "    for i in range(2, int(n ** 0.5) + 1):\n",
    "        if n % i == 0:\n",
    "            divisors.extend([i, n//i])\n",
    "    return sum(divisors) == n\n",
    "print(is_perfect_number(28))"
   ]
  },
  {
   "cell_type": "markdown",
   "id": "e16498b1-f317-4454-b8c9-5df36662cba2",
   "metadata": {},
   "source": [
    "## 45"
   ]
  },
  {
   "cell_type": "code",
   "execution_count": 45,
   "id": "195b3192-7aa6-4550-80fe-363f7ca40250",
   "metadata": {},
   "outputs": [
    {
     "name": "stdout",
     "output_type": "stream",
     "text": [
      "ed,Wl !roH\n"
     ]
    }
   ],
   "source": [
    "# Task 45: Remove all duplicates from a string.\n",
    "def remove_duplicates_string(s):\n",
    "    return ''.join(set(s))\n",
    "print(remove_duplicates_string(\"Hello, World!\"))\n"
   ]
  },
  {
   "cell_type": "markdown",
   "id": "516cee83-7d05-4124-b302-41f74c60f2a7",
   "metadata": {},
   "source": [
    "## 46"
   ]
  },
  {
   "cell_type": "code",
   "execution_count": 46,
   "id": "11e224f7-8626-40d5-99fc-81e2e8da9063",
   "metadata": {},
   "outputs": [
    {
     "name": "stdout",
     "output_type": "stream",
     "text": [
      "2\n"
     ]
    }
   ],
   "source": [
    "# Task 46: Find the first missing positive.\n",
    "def find_first_missing_positive(lst):\n",
    "    n = len(lst)\n",
    "    for i in range(n):\n",
    "        while 1 <= lst[i] <= n and lst[i] != lst[lst[i] - 1]:\n",
    "            lst[lst[i] - 1], lst[i] = lst[i], lst[lst[i] - 1]\n",
    "    for i in range(n):\n",
    "        if lst[i] != i + 1:\n",
    "            return i + 1\n",
    "    return n + 1\n",
    "print(find_first_missing_positive([3, 4, -1, 1]))"
   ]
  }
 ],
 "metadata": {
  "kernelspec": {
   "display_name": "Python 3 (ipykernel)",
   "language": "python",
   "name": "python3"
  },
  "language_info": {
   "codemirror_mode": {
    "name": "ipython",
    "version": 3
   },
   "file_extension": ".py",
   "mimetype": "text/x-python",
   "name": "python",
   "nbconvert_exporter": "python",
   "pygments_lexer": "ipython3",
   "version": "3.9.9"
  }
 },
 "nbformat": 4,
 "nbformat_minor": 5
}
