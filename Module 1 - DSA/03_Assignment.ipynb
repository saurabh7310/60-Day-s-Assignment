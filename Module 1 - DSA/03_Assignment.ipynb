{
 "cells": [
  {
   "cell_type": "markdown",
   "id": "0daee140-f06e-47ab-8ca4-a38957fc8444",
   "metadata": {},
   "source": [
    "## Question 1\n",
    "Given an integer array nums of length n and an integer target, find three integers\n",
    "in nums such that the sum is closest to the target.\n",
    "Return the sum of the three integers.\n",
    "\n",
    "You may assume that each input would have exactly one solution.\n",
    "\n",
    "Example 1:\n",
    "Input: nums = [-1,2,1,-4], target = 1\n",
    "Output: 2Given an integer array nums of length n and an integer target, find three integers\n",
    "in nums such that the sum is closest to the target.\n",
    "Return the sum of the three integers.\n",
    "\n",
    "You may assume that each input would have exactly one solution.\n",
    "\n",
    "Example 1:\n",
    "Input: nums = [-1,2,1,-4], target = 1\n",
    "Output: 2"
   ]
  },
  {
   "cell_type": "code",
   "execution_count": 1,
   "id": "8dde87ef-0a73-43c0-a102-b98223dcfc90",
   "metadata": {},
   "outputs": [
    {
     "name": "stdout",
     "output_type": "stream",
     "text": [
      "2\n"
     ]
    }
   ],
   "source": [
    "def threeSumClosest(nums, target):\n",
    "    nums.sort()  # Sort the array in ascending order\n",
    "    n = len(nums)\n",
    "    closestSum = float('inf')  # Initialize closestSum to a large value\n",
    "\n",
    "    for i in range(n - 2):\n",
    "        left = i + 1\n",
    "        right = n - 1\n",
    "\n",
    "        while left < right:\n",
    "            currentSum = nums[i] + nums[left] + nums[right]\n",
    "\n",
    "            if currentSum == target:\n",
    "                return currentSum\n",
    "\n",
    "            if abs(currentSum - target) < abs(closestSum - target):\n",
    "                closestSum = currentSum\n",
    "\n",
    "            if currentSum < target:\n",
    "                left += 1\n",
    "            else:\n",
    "                right -= 1\n",
    "\n",
    "    return closestSum\n",
    "\n",
    "nums = [-1,2,1,-4]\n",
    "target = 1\n",
    "print(threeSumClosest(nums, target))"
   ]
  },
  {
   "cell_type": "markdown",
   "id": "12509e80-9420-43a1-b252-30c31d047cc1",
   "metadata": {},
   "source": [
    "## Question 2\n",
    "Given an array nums of n integers, return an array of all the unique quadruplets\n",
    "[nums[a], nums[b], nums[c], nums[d]] such that:\n",
    "           ● 0 <= a, b, c, d < n\n",
    "           ● a, b, c, and d are distinct.\n",
    "           ● nums[a] + nums[b] + nums[c] + nums[d] == target\n",
    "\n",
    "You may return the answer in any order.\n",
    "\n",
    "Example 1:\n",
    "Input: nums = [1,0,-1,0,-2,2], target = 0\n",
    "Output: [[-2,-1,1,2],[-2,0,0,2],[-1,0,0,1]]Given an array nums of n integers, return an array of all the unique quadruplets\n",
    "[nums[a], nums[b], nums[c], nums[d]] such that:\n",
    "           ● 0 <= a, b, c, d < n\n",
    "           ● a, b, c, and d are distinct.\n",
    "           ● nums[a] + nums[b] + nums[c] + nums[d] == target\n",
    "\n",
    "You may return the answer in any order.\n",
    "\n",
    "Example 1:\n",
    "Input: nums = [1,0,-1,0,-2,2], target = 0\n",
    "Output: [[-2,-1,1,2],[-2,0,0,2],[-1,0,0,1]]"
   ]
  },
  {
   "cell_type": "code",
   "execution_count": 2,
   "id": "45e07e09-6074-419c-a115-331a56f41b83",
   "metadata": {},
   "outputs": [
    {
     "name": "stdout",
     "output_type": "stream",
     "text": [
      "[[-2, -1, 1, 2], [-2, 0, 0, 2], [-1, 0, 0, 1]]\n"
     ]
    }
   ],
   "source": [
    "def fourSum(nums, target):\n",
    "    nums.sort()  # Sort the array in ascending order\n",
    "    n = len(nums)\n",
    "    result = []\n",
    "\n",
    "    for i in range(n - 3):\n",
    "        # Skip duplicates for the first element of the quadruplet\n",
    "        if i > 0 and nums[i] == nums[i - 1]:\n",
    "            continue\n",
    "\n",
    "        for j in range(i + 1, n - 2):\n",
    "            # Skip duplicates for the second element of the quadruplet\n",
    "            if j > i + 1 and nums[j] == nums[j - 1]:\n",
    "                continue\n",
    "\n",
    "            left = j + 1\n",
    "            right = n - 1\n",
    "\n",
    "            while left < right:\n",
    "                currentSum = nums[i] + nums[j] + nums[left] + nums[right]\n",
    "\n",
    "                if currentSum == target:\n",
    "                    result.append([nums[i], nums[j], nums[left], nums[right]])\n",
    "\n",
    "                    # Skip duplicates for the third and fourth elements of the quadruplet\n",
    "                    while left < right and nums[left] == nums[left + 1]:\n",
    "                        left += 1\n",
    "                    while left < right and nums[right] == nums[right - 1]:\n",
    "                        right -= 1\n",
    "\n",
    "                    left += 1\n",
    "                    right -= 1\n",
    "\n",
    "                elif currentSum < target:\n",
    "                    left += 1\n",
    "                else:\n",
    "                    right -= 1\n",
    "\n",
    "    return result\n",
    "\n",
    "nums =  [1,0,-1,0,-2,2]\n",
    "target = 0\n",
    "print(fourSum(nums, target))"
   ]
  },
  {
   "cell_type": "markdown",
   "id": "6f99f9ac-39dc-44b5-9365-389257660608",
   "metadata": {},
   "source": [
    "## Question 3\n",
    "A permutation of an array of integers is an arrangement of its members into a\n",
    "sequence or linear order.\n",
    "\n",
    "For example, for arr = [1,2,3], the following are all the permutations of arr:\n",
    "[1,2,3], [1,3,2], [2, 1, 3], [2, 3, 1], [3,1,2], [3,2,1]A permutation of an array of integers is an arrangement of its members into a\n",
    "sequence or linear order.\n",
    "\n",
    "For example, for arr = [1,2,3], the following are all the permutations of arr:\n",
    "[1,2,3], [1,3,2], [2, 1, 3], [2, 3, 1], [3,1,2], [3,2,1]"
   ]
  },
  {
   "cell_type": "code",
   "execution_count": 3,
   "id": "a8132ced-4421-4f4b-8d6d-2c3bb4cc21ae",
   "metadata": {},
   "outputs": [
    {
     "name": "stdout",
     "output_type": "stream",
     "text": [
      "[1, 3, 2]\n"
     ]
    }
   ],
   "source": [
    "def nextPermutation(nums):\n",
    "    n = len(nums)\n",
    "    i = n - 2\n",
    "\n",
    "    # Find the first pair of adjacent elements where nums[i] < nums[i+1]\n",
    "    while i >= 0 and nums[i] >= nums[i + 1]:\n",
    "        i -= 1\n",
    "\n",
    "    if i >= 0:\n",
    "        j = n - 1\n",
    "        # Find the first element greater than nums[i]\n",
    "        while j >= 0 and nums[j] <= nums[i]:\n",
    "            j -= 1\n",
    "        # Swap nums[i] and nums[j]\n",
    "        nums[i], nums[j] = nums[j], nums[i]\n",
    "\n",
    "    # Reverse the subarray from index i+1 to the end\n",
    "    left = i + 1\n",
    "    right = n - 1\n",
    "    while left < right:\n",
    "        nums[left], nums[right] = nums[right], nums[left]\n",
    "        left += 1\n",
    "        right -= 1\n",
    "\n",
    "    return nums\n",
    "\n",
    "nums = [1, 2, 3]\n",
    "print(nextPermutation(nums))"
   ]
  },
  {
   "cell_type": "markdown",
   "id": "74d24368-3ab3-4fc0-81cf-cae420fa1008",
   "metadata": {},
   "source": [
    "## Question 4\n",
    "Given a sorted array of distinct integers and a target value, return the index if the\n",
    "target is found. If not, return the index where it would be if it were inserted in\n",
    "order.\n",
    "\n",
    "You must write an algorithm with O(log n) runtime complexity.\n",
    "\n",
    "Example 1:\n",
    "Input: nums = [1,3,5,6], target = 5\n",
    "Output: 2Question 4\n",
    "Given a sorted array of distinct integers and a target value, return the index if the\n",
    "target is found. If not, return the index where it would be if it were inserted in\n",
    "order.\n",
    "\n",
    "You must write an algorithm with O(log n) runtime complexity.\n",
    "\n",
    "Example 1:\n",
    "Input: nums = [1,3,5,6], target = 5\n",
    "Output: 2"
   ]
  },
  {
   "cell_type": "code",
   "execution_count": 4,
   "id": "f243e778-0841-42dd-ad88-dacf4f698aea",
   "metadata": {},
   "outputs": [
    {
     "name": "stdout",
     "output_type": "stream",
     "text": [
      "2\n"
     ]
    }
   ],
   "source": [
    "def searchInsert(nums, target):\n",
    "    left = 0\n",
    "    right = len(nums) - 1\n",
    "\n",
    "    while left <= right:\n",
    "        mid = (left + right) // 2\n",
    "\n",
    "        if nums[mid] == target:\n",
    "            return mid\n",
    "        elif nums[mid] < target:\n",
    "            left = mid + 1\n",
    "        else:\n",
    "            right = mid - 1\n",
    "\n",
    "    return left\n",
    "\n",
    "nums = [1, 3, 5, 6]\n",
    "target = 5\n",
    "print(searchInsert(nums, target))"
   ]
  },
  {
   "cell_type": "markdown",
   "id": "ab1fcd7b-a28f-4ebe-9f0c-cb40f8dfec7d",
   "metadata": {},
   "source": [
    "## Question 5\n",
    "You are given a large integer represented as an integer array digits, where each\n",
    "digits[i] is the ith digit of the integer. The digits are ordered from most significant\n",
    "to least significant in left-to-right order. The large integer does not contain any\n",
    "leading 0's.\n",
    "\n",
    "Increment the large integer by one and return the resulting array of digits.\n",
    "\n",
    "Example 1:\n",
    "Input: digits = [1,2,3]\n",
    "Output: [1,2,4]\n",
    "Question 5\n",
    "You are given a large integer represented as an integer array digits, where each\n",
    "digits[i] is the ith digit of the integer. The digits are ordered from most significant\n",
    "to least significant in left-to-right order. The large integer does not contain any\n",
    "leading 0's.\n",
    "\n",
    "Increment the large integer by one and return the resulting array of digits.\n",
    "\n",
    "Example 1:\n",
    "Input: digits = [1,2,3]\n",
    "Output: [1,2,4]\n"
   ]
  },
  {
   "cell_type": "code",
   "execution_count": 5,
   "id": "c2bd25a6-2580-46ee-8c78-0f346e78261b",
   "metadata": {},
   "outputs": [
    {
     "name": "stdout",
     "output_type": "stream",
     "text": [
      "[1, 2, 4]\n"
     ]
    }
   ],
   "source": [
    "def plusOne(digits):\n",
    "    n = len(digits)\n",
    "    carry = 1\n",
    "\n",
    "    for i in range(n - 1, -1, -1):\n",
    "        digits[i] += carry\n",
    "        carry = digits[i] // 10\n",
    "        digits[i] %= 10\n",
    "\n",
    "        if carry == 0:\n",
    "            break\n",
    "\n",
    "    if carry > 0:\n",
    "        digits.insert(0, carry)\n",
    "\n",
    "    return digits\n",
    "\n",
    "digits = [1, 2, 3]\n",
    "print(plusOne(digits))"
   ]
  },
  {
   "cell_type": "markdown",
   "id": "cfa17c48-784a-4787-841c-063720fb5a71",
   "metadata": {},
   "source": [
    "## Question 6\n",
    "Given a non-empty array of integers nums, every element appears twice except\n",
    "for one. Find that single one.\n",
    "\n",
    "You must implement a solution with a linear runtime complexity and use only\n",
    "constant extra space.\n",
    "\n",
    "Example 1:\n",
    "Input: nums = [2,2,1]\n",
    "Output: 1Question 6\n",
    "Given a non-empty array of integers nums, every element appears twice except\n",
    "for one. Find that single one.\n",
    "\n",
    "You must implement a solution with a linear runtime complexity and use only\n",
    "constant extra space.\n",
    "\n",
    "Example 1:\n",
    "Input: nums = [2,2,1]\n",
    "Output: 1"
   ]
  },
  {
   "cell_type": "code",
   "execution_count": 6,
   "id": "7984b95c-62c4-488b-8098-7de36d25b73b",
   "metadata": {},
   "outputs": [
    {
     "name": "stdout",
     "output_type": "stream",
     "text": [
      "1\n"
     ]
    }
   ],
   "source": [
    "def singleNumber(nums):\n",
    "    result = 0\n",
    "\n",
    "    for num in nums:\n",
    "        result ^= num\n",
    "\n",
    "    return result\n",
    "\n",
    "nums = [2, 2, 1]\n",
    "print(singleNumber(nums))"
   ]
  },
  {
   "cell_type": "markdown",
   "id": "0725c26d-0393-49a4-9090-8cc2cc6d629a",
   "metadata": {},
   "source": [
    "## Question 7\n",
    "You are given an inclusive range [lower, upper] and a sorted unique integer array\n",
    "nums, where all elements are within the inclusive range.\n",
    "\n",
    "A number x is considered missing if x is in the range [lower, upper] and x is not in\n",
    "nums.\n",
    "\n",
    "Return the shortest sorted list of ranges that exactly covers all the missing\n",
    "numbers. That is, no element of nums is included in any of the ranges, and each\n",
    "missing number is covered by one of the ranges.\n",
    "\n",
    "Example 1:\n",
    "Input: nums = [0,1,3,50,75], lower = 0, upper = 99\n",
    "Output: [[2,2],[4,49],[51,74],[76,99]]\n",
    "\n",
    "Explanation: The ranges are:\n",
    "[2,2]\n",
    "[4,49]\n",
    "[51,74]\n",
    "[76,99]Question 7\n",
    "You are given an inclusive range [lower, upper] and a sorted unique integer array\n",
    "nums, where all elements are within the inclusive range.\n",
    "\n",
    "A number x is considered missing if x is in the range [lower, upper] and x is not in\n",
    "nums.\n",
    "\n",
    "Return the shortest sorted list of ranges that exactly covers all the missing\n",
    "numbers. That is, no element of nums is included in any of the ranges, and each\n",
    "missing number is covered by one of the ranges.\n",
    "\n",
    "Example 1:\n",
    "Input: nums = [0,1,3,50,75], lower = 0, upper = 99\n",
    "Output: [[2,2],[4,49],[51,74],[76,99]]\n",
    "\n",
    "Explanation: The ranges are:\n",
    "[2,2]\n",
    "[4,49]\n",
    "[51,74]\n",
    "[76,99]"
   ]
  },
  {
   "cell_type": "code",
   "execution_count": 7,
   "id": "1bcd170e-de09-4aec-a8c0-cb66eb5316ec",
   "metadata": {},
   "outputs": [
    {
     "name": "stdout",
     "output_type": "stream",
     "text": [
      "[[2, 2], [4, 49], [51, 74], [76, 99]]\n"
     ]
    }
   ],
   "source": [
    "def findMissingRanges(nums, lower, upper):\n",
    "    result = []\n",
    "    n = len(nums)\n",
    "\n",
    "    if lower < nums[0]:\n",
    "        result.append([lower, nums[0] - 1])\n",
    "\n",
    "    for i in range(1, n):\n",
    "        if nums[i] != nums[i - 1] + 1:\n",
    "            result.append([nums[i - 1] + 1, nums[i] - 1])\n",
    "\n",
    "    if upper > nums[-1]:\n",
    "        result.append([nums[-1] + 1, upper])\n",
    "\n",
    "    return result\n",
    "\n",
    "nums = [0, 1, 3, 50, 75]\n",
    "lower = 0\n",
    "upper = 99\n",
    "print(findMissingRanges(nums, lower, upper))"
   ]
  },
  {
   "cell_type": "markdown",
   "id": "25e7cfda-c56a-4509-b687-241f3b4c3b59",
   "metadata": {},
   "source": [
    "## Question 8\n",
    "Given an array of meeting time intervals where intervals[i] = [starti, endi],\n",
    "determine if a person could attend all meetings.\n",
    "\n",
    "Example 1:\n",
    "Input: intervals = [[0,30],[5,10],[15,20]]\n",
    "Output: falseQuestion 8\n",
    "Given an array of meeting time intervals where intervals[i] = [starti, endi],\n",
    "determine if a person could attend all meetings.\n",
    "\n",
    "Example 1:\n",
    "Input: intervals = [[0,30],[5,10],[15,20]]\n",
    "Output: false"
   ]
  },
  {
   "cell_type": "code",
   "execution_count": 8,
   "id": "a5945a3f-ec94-4980-a2ac-681d30d2abcc",
   "metadata": {},
   "outputs": [
    {
     "name": "stdout",
     "output_type": "stream",
     "text": [
      "False\n"
     ]
    }
   ],
   "source": [
    "def canAttendMeetings(intervals):\n",
    "    intervals.sort(key=lambda x: x[0])  # Sort intervals based on start time\n",
    "\n",
    "    for i in range(1, len(intervals)):\n",
    "        if intervals[i][0] < intervals[i - 1][1]:\n",
    "            return False\n",
    "\n",
    "    return True\n",
    "\n",
    "intervals = [[0, 30], [5, 10], [15, 20]]\n",
    "print(canAttendMeetings(intervals))"
   ]
  }
 ],
 "metadata": {
  "kernelspec": {
   "display_name": "Python 3 (ipykernel)",
   "language": "python",
   "name": "python3"
  },
  "language_info": {
   "codemirror_mode": {
    "name": "ipython",
    "version": 3
   },
   "file_extension": ".py",
   "mimetype": "text/x-python",
   "name": "python",
   "nbconvert_exporter": "python",
   "pygments_lexer": "ipython3",
   "version": "3.9.9"
  }
 },
 "nbformat": 4,
 "nbformat_minor": 5
}
