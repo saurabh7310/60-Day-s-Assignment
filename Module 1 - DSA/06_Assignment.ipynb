{
 "cells": [
  {
   "cell_type": "markdown",
   "id": "f9cb688c-77bb-4790-a1d2-f1305c716318",
   "metadata": {},
   "source": [
    "## Question 1"
   ]
  },
  {
   "cell_type": "code",
   "execution_count": 1,
   "id": "79734ac1-6edf-4af2-9625-2590856791c0",
   "metadata": {},
   "outputs": [
    {
     "name": "stdout",
     "output_type": "stream",
     "text": [
      "[0, 4, 1, 3, 2]\n"
     ]
    }
   ],
   "source": [
    "def reconstruct_permutation(s):\n",
    "    perm = []\n",
    "    start = 0\n",
    "    end = len(s)\n",
    "    \n",
    "    for ch in s:\n",
    "        if ch == 'I':\n",
    "            perm.append(start)\n",
    "            start += 1\n",
    "        else:\n",
    "            perm.append(end)\n",
    "            end -= 1\n",
    "    \n",
    "    perm.append(start)  # or perm.append(end)\n",
    "    return perm\n",
    "\n",
    "s = \"IDID\"\n",
    "result = reconstruct_permutation(s)\n",
    "print(result)"
   ]
  },
  {
   "cell_type": "markdown",
   "id": "665c057f-af27-4b94-abf2-5577169ef261",
   "metadata": {},
   "source": [
    "## Question 2"
   ]
  },
  {
   "cell_type": "code",
   "execution_count": 2,
   "id": "796464ad-d897-4918-87fd-f78149305be2",
   "metadata": {},
   "outputs": [
    {
     "name": "stdout",
     "output_type": "stream",
     "text": [
      "True\n"
     ]
    }
   ],
   "source": [
    "def searchMatrix(matrix, target):\n",
    "    m = len(matrix)\n",
    "    n = len(matrix[0]) if m > 0 else 0\n",
    "\n",
    "    start = 0\n",
    "    end = m * n - 1\n",
    "\n",
    "    while start <= end:\n",
    "        mid = (start + end) // 2\n",
    "        row = mid // n\n",
    "        col = mid % n\n",
    "        num = matrix[row][col]\n",
    "\n",
    "        if num == target:\n",
    "            return True\n",
    "        elif num < target:\n",
    "            start = mid + 1\n",
    "        else:\n",
    "            end = mid - 1\n",
    "\n",
    "    return False\n",
    "matrix = [[1, 3, 5, 7], [10, 11, 16, 20], [23, 30, 34, 60]]\n",
    "target = 3\n",
    "\n",
    "print(searchMatrix(matrix, target))"
   ]
  },
  {
   "cell_type": "markdown",
   "id": "2f8d2cb1-5bb9-4ef5-aa15-ae277cc0c60c",
   "metadata": {},
   "source": [
    "## Question 3"
   ]
  },
  {
   "cell_type": "code",
   "execution_count": 3,
   "id": "1de082e0-9aab-4b1d-b89a-9595cb5ec29f",
   "metadata": {},
   "outputs": [
    {
     "name": "stdout",
     "output_type": "stream",
     "text": [
      "False\n"
     ]
    }
   ],
   "source": [
    "def validMountainArray(arr):\n",
    "    n = len(arr)\n",
    "    if n < 3:\n",
    "        return False\n",
    "\n",
    "    i = 0\n",
    "    while i + 1 < n and arr[i] < arr[i + 1]:\n",
    "        i += 1\n",
    "\n",
    "    if i == 0 or i == n - 1:\n",
    "        return False\n",
    "\n",
    "    while i + 1 < n and arr[i] > arr[i + 1]:\n",
    "        i += 1\n",
    "\n",
    "    return i == n - 1\n",
    "arr = [2, 1]\n",
    "print(validMountainArray(arr))"
   ]
  },
  {
   "cell_type": "markdown",
   "id": "2066deff-c29d-44cb-a3d1-31343c4cb9b7",
   "metadata": {},
   "source": [
    "## Question 4"
   ]
  },
  {
   "cell_type": "code",
   "execution_count": 4,
   "id": "c2887284-96e6-44cb-8592-76996a48a479",
   "metadata": {},
   "outputs": [
    {
     "name": "stdout",
     "output_type": "stream",
     "text": [
      "2\n"
     ]
    }
   ],
   "source": [
    "def findMaxLength(nums):\n",
    "    max_len = 0\n",
    "    count = 0\n",
    "    seen = {0: -1}\n",
    "\n",
    "    for i in range(len(nums)):\n",
    "        if nums[i] == 1:\n",
    "            count += 1\n",
    "        else:\n",
    "            count -= 1\n",
    "\n",
    "        if count in seen:\n",
    "            max_len = max(max_len, i - seen[count])\n",
    "        else:\n",
    "            seen[count] = i\n",
    "\n",
    "    return max_len\n",
    "nums = [0, 1]\n",
    "print(findMaxLength(nums))"
   ]
  },
  {
   "cell_type": "markdown",
   "id": "5ee77f96-4857-4c01-a563-c088df6d4c02",
   "metadata": {},
   "source": [
    "## Question 5"
   ]
  },
  {
   "cell_type": "code",
   "execution_count": 5,
   "id": "7e46bcec-e9be-410d-b550-f0a0364fb489",
   "metadata": {},
   "outputs": [
    {
     "name": "stdout",
     "output_type": "stream",
     "text": [
      "40\n"
     ]
    }
   ],
   "source": [
    "def minProductSum(nums1, nums2):\n",
    "    nums1.sort()\n",
    "    nums2.sort(reverse=True)\n",
    "\n",
    "    min_product_sum = float('inf')\n",
    "\n",
    "    for i in range(len(nums1)):\n",
    "        product_sum = sum(nums1[j] * nums2[j] for j in range(len(nums1)))\n",
    "        min_product_sum = min(min_product_sum, product_sum)\n",
    "        nums1.append(nums1.pop(0))\n",
    "\n",
    "    return min_product_sum\n",
    "nums1 = [5, 3, 4, 2]\n",
    "nums2 = [4, 2, 2, 5]\n",
    "print(minProductSum(nums1, nums2))"
   ]
  },
  {
   "cell_type": "markdown",
   "id": "857576f2-010a-4219-94a3-5db738ae24a4",
   "metadata": {},
   "source": [
    "## Question 6"
   ]
  },
  {
   "cell_type": "code",
   "execution_count": 6,
   "id": "3657de12-ea51-468c-8665-7b71167a6e4f",
   "metadata": {},
   "outputs": [
    {
     "name": "stdout",
     "output_type": "stream",
     "text": [
      "[]\n"
     ]
    }
   ],
   "source": [
    "from collections import defaultdict\n",
    "\n",
    "def findOriginalArray(changed):\n",
    "    count = defaultdict(int)\n",
    "\n",
    "    for num in changed:\n",
    "        if num % 2 == 0 and count[num // 2] > 0:\n",
    "            count[num // 2] -= 1\n",
    "        else:\n",
    "            if num % 2 == 1 or count[num // 2] == 0:\n",
    "                return []\n",
    "        count[num] += 1\n",
    "\n",
    "    original = []\n",
    "    for num, freq in count.items():\n",
    "        original.extend([num] * freq)\n",
    "\n",
    "    return original\n",
    "\n",
    "changed = [1, 3, 4, 2, 6, 8]\n",
    "print(findOriginalArray(changed))"
   ]
  },
  {
   "cell_type": "markdown",
   "id": "a5e1667e-c8d6-4ed4-8943-770c4cb5d6eb",
   "metadata": {},
   "source": [
    "## Question 7"
   ]
  },
  {
   "cell_type": "code",
   "execution_count": 7,
   "id": "e86fd701-71e0-469c-8c67-bd51b7ec74b4",
   "metadata": {},
   "outputs": [
    {
     "name": "stdout",
     "output_type": "stream",
     "text": [
      "[[1, 2, 3], [8, 9, 4], [7, 6, 5]]\n"
     ]
    }
   ],
   "source": [
    "def generateMatrix(n):\n",
    "    # Initialize the matrix\n",
    "    matrix = [[0] * n for _ in range(n)]\n",
    "\n",
    "    # Variables for current row, current column, and current number\n",
    "    row, col, num = 0, 0, 1\n",
    "\n",
    "    # Variables for starting row, ending row, starting column, and ending column\n",
    "    start_row, end_row, start_col, end_col = 0, n - 1, 0, n - 1\n",
    "\n",
    "    while num <= n * n:\n",
    "        # Traverse right\n",
    "        for i in range(start_col, end_col + 1):\n",
    "            matrix[start_row][i] = num\n",
    "            num += 1\n",
    "        start_row += 1\n",
    "\n",
    "        # Traverse down\n",
    "        for i in range(start_row, end_row + 1):\n",
    "            matrix[i][end_col] = num\n",
    "            num += 1\n",
    "        end_col -= 1\n",
    "\n",
    "        # Traverse left\n",
    "        if start_row <= end_row:\n",
    "            for i in range(end_col, start_col - 1, -1):\n",
    "                matrix[end_row][i] = num\n",
    "                num += 1\n",
    "            end_row -= 1\n",
    "\n",
    "        # Traverse up\n",
    "        if start_col <= end_col:\n",
    "            for i in range(end_row, start_row - 1, -1):\n",
    "                matrix[i][start_col] = num\n",
    "                num += 1\n",
    "            start_col += 1\n",
    "\n",
    "    return matrix\n",
    "\n",
    "# Example usage\n",
    "n = 3\n",
    "spiral_matrix = generateMatrix(n)\n",
    "print(spiral_matrix)\n"
   ]
  },
  {
   "cell_type": "markdown",
   "id": "89db4658-76f7-4dba-8d6f-d3384535557d",
   "metadata": {},
   "source": [
    "## Question 8"
   ]
  },
  {
   "cell_type": "code",
   "execution_count": 8,
   "id": "eedb4f3b-9944-446d-b25b-4139597375ea",
   "metadata": {},
   "outputs": [
    {
     "name": "stdout",
     "output_type": "stream",
     "text": [
      "[[7, 0, 0], [-7, 0, 3]]\n"
     ]
    }
   ],
   "source": [
    "def multiply(mat1, mat2):\n",
    "    m = len(mat1)  # Number of rows in mat1\n",
    "    k = len(mat1[0])  # Number of columns in mat1 and rows in mat2\n",
    "    n = len(mat2[0])  # Number of columns in mat2\n",
    "\n",
    "    # Initialize the result matrix with zeros\n",
    "    result = [[0] * n for _ in range(m)]\n",
    "\n",
    "    for i in range(m):\n",
    "        for j in range(n):\n",
    "            for l in range(k):\n",
    "                if mat1[i][l] != 0 and mat2[l][j] != 0:\n",
    "                    result[i][j] += mat1[i][l] * mat2[l][j]\n",
    "\n",
    "    return result\n",
    "\n",
    "# Example usage\n",
    "mat1 = [[1, 0, 0], [-1, 0, 3]]\n",
    "mat2 = [[7, 0, 0], [0, 0, 0], [0, 0, 1]]\n",
    "result = multiply(mat1, mat2)\n",
    "print(result)"
   ]
  }
 ],
 "metadata": {
  "kernelspec": {
   "display_name": "Python 3 (ipykernel)",
   "language": "python",
   "name": "python3"
  },
  "language_info": {
   "codemirror_mode": {
    "name": "ipython",
    "version": 3
   },
   "file_extension": ".py",
   "mimetype": "text/x-python",
   "name": "python",
   "nbconvert_exporter": "python",
   "pygments_lexer": "ipython3",
   "version": "3.9.9"
  }
 },
 "nbformat": 4,
 "nbformat_minor": 5
}
