{
 "cells": [
  {
   "cell_type": "markdown",
   "id": "62350445-fc79-4652-bd7a-b1f060a5454c",
   "metadata": {},
   "source": [
    "### Question 1"
   ]
  },
  {
   "cell_type": "code",
   "execution_count": null,
   "id": "9cf27de9-fae1-4a60-94b7-990c1dd979c8",
   "metadata": {},
   "outputs": [],
   "source": [
    "import heapq\n",
    "\n",
    "class ListNode:\n",
    "    def __init__(self, val=0, next=None):\n",
    "        self.val = val\n",
    "        self.next = next\n",
    "\n",
    "def mergeKLists(lists):\n",
    "    heap = []\n",
    "    dummy = ListNode(0)\n",
    "    curr = dummy\n",
    "\n",
    "    # Add the head nodes of all linked lists to the min-heap\n",
    "    for head in lists:\n",
    "        if head:\n",
    "            heapq.heappush(heap, (head.val, head))\n",
    "\n",
    "    # Merge the linked lists using the min-heap\n",
    "    while heap:\n",
    "        _, node = heapq.heappop(heap)\n",
    "        curr.next = node\n",
    "        curr = curr.next\n",
    "\n",
    "        if node.next:\n",
    "            heapq.heappush(heap, (node.next.val, node.next))\n",
    "\n",
    "    return dummy.next\n",
    "# Create linked lists\n",
    "lists = []\n",
    "list1 = ListNode(1, ListNode(4, ListNode(5)))\n",
    "list2 = ListNode(1, ListNode(3, ListNode(4)))\n",
    "list3 = ListNode(2, ListNode(6))\n",
    "lists.append(list1)\n",
    "lists.append(list2)\n",
    "lists.append(list3)\n",
    "\n",
    "# Merge the linked lists\n",
    "merged = mergeKLists(lists)\n",
    "\n",
    "# Print the merged list\n",
    "while merged:\n",
    "    print(merged.val, end=\" \")\n",
    "    merged = merged.next\n",
    "\n",
    "# Output: 1 1 2 3 4 4 5 6\n"
   ]
  },
  {
   "cell_type": "markdown",
   "id": "e738f5b0-ab5f-4e13-856a-abef571c3c75",
   "metadata": {},
   "source": [
    "## Question 2"
   ]
  },
  {
   "cell_type": "code",
   "execution_count": 4,
   "id": "58c87fef-d320-472b-be15-cdc01fa1570e",
   "metadata": {},
   "outputs": [
    {
     "name": "stdout",
     "output_type": "stream",
     "text": [
      "[0, 0, 1, 0, 0, 1, 0]\n",
      "[0]\n",
      "[0, 0, 0]\n"
     ]
    }
   ],
   "source": [
    "def countSmaller(nums):\n",
    "    def mergeSort(nums):\n",
    "        if len(nums) <= 1:\n",
    "            return nums, [0]\n",
    "\n",
    "        mid = len(nums) // 2\n",
    "        left, leftCount = mergeSort(nums[:mid])\n",
    "        right, rightCount = mergeSort(nums[mid:])\n",
    "\n",
    "        merged = []\n",
    "        counts = [0] * len(nums)\n",
    "        i, j = 0, 0\n",
    "\n",
    "        while i < len(left) and j < len(right):\n",
    "            if left[i] > right[j]:\n",
    "                merged.append(right[j])\n",
    "                counts[i + j + mid] += 1 + rightCount[j]\n",
    "                j += 1\n",
    "            else:\n",
    "                merged.append(left[i])\n",
    "                i += 1\n",
    "\n",
    "        merged.extend(left[i:])\n",
    "        merged.extend(right[j:])\n",
    "        counts.extend(leftCount[i:])\n",
    "        counts.extend(rightCount[j:])\n",
    "\n",
    "        return merged, counts\n",
    "\n",
    "    _, counts = mergeSort(nums)\n",
    "    return counts\n",
    "nums = [5, 2, 6, 1]\n",
    "print(countSmaller(nums))\n",
    "# Output: [2, 1, 1, 0]\n",
    "\n",
    "nums = [-1]\n",
    "print(countSmaller(nums))\n",
    "# Output: [0]\n",
    "\n",
    "nums = [-1, -1]\n",
    "print(countSmaller(nums))\n",
    "# Output: [0, 0]\n"
   ]
  },
  {
   "cell_type": "markdown",
   "id": "d24b8f50-e57c-4b22-a75c-63eb2a2cdabd",
   "metadata": {},
   "source": [
    "## Question 3"
   ]
  },
  {
   "cell_type": "code",
   "execution_count": 5,
   "id": "7f573ea2-151c-4512-b982-1ce7bd28aa39",
   "metadata": {},
   "outputs": [
    {
     "name": "stdout",
     "output_type": "stream",
     "text": [
      "[1, 2, 3, 5]\n",
      "[0, 0, 1, 1, 2, 5]\n"
     ]
    }
   ],
   "source": [
    "def quickSort(nums):\n",
    "    def partition(nums, low, high):\n",
    "        i = low - 1\n",
    "        pivot = nums[high]\n",
    "\n",
    "        for j in range(low, high):\n",
    "            if nums[j] < pivot:\n",
    "                i += 1\n",
    "                nums[i], nums[j] = nums[j], nums[i]\n",
    "\n",
    "        nums[i + 1], nums[high] = nums[high], nums[i + 1]\n",
    "        return i + 1\n",
    "\n",
    "    def sort(nums, low, high):\n",
    "        if low < high:\n",
    "            pivot = partition(nums, low, high)\n",
    "            sort(nums, low, pivot - 1)\n",
    "            sort(nums, pivot + 1, high)\n",
    "\n",
    "    sort(nums, 0, len(nums) - 1)\n",
    "    return nums\n",
    "nums = [5, 2, 3, 1]\n",
    "print(quickSort(nums))\n",
    "# Output: [1, 2, 3, 5]\n",
    "\n",
    "nums = [5, 1, 1, 2, 0, 0]\n",
    "print(quickSort(nums))\n",
    "# Output: [0, 0, 1, 1, 2, 5]\n"
   ]
  },
  {
   "cell_type": "markdown",
   "id": "7314b4e4-f86d-47ad-93c1-33439a1bf5b4",
   "metadata": {},
   "source": [
    "## Question 4"
   ]
  },
  {
   "cell_type": "code",
   "execution_count": 6,
   "id": "50d8cb99-b914-420c-ae74-2d73c37e3acc",
   "metadata": {},
   "outputs": [
    {
     "name": "stdout",
     "output_type": "stream",
     "text": [
      "[1, 2, 5, 4, 3, 0, 0, 0]\n",
      "[1, 2, 6, 3, 0, 0, 0]\n"
     ]
    }
   ],
   "source": [
    "def pushZerosToEnd(arr):\n",
    "    left = 0\n",
    "    right = len(arr) - 1\n",
    "\n",
    "    while left < right:\n",
    "        if arr[left] != 0:\n",
    "            left += 1\n",
    "        else:\n",
    "            arr[left], arr[right] = arr[right], arr[left]\n",
    "            right -= 1\n",
    "\n",
    "    return arr\n",
    "arr = [1, 2, 0, 4, 3, 0, 5, 0]\n",
    "print(pushZerosToEnd(arr))\n",
    "# Output: [1, 2, 4, 3, 5, 0, 0, 0]\n",
    "\n",
    "arr = [1, 2, 0, 0, 0, 3, 6]\n",
    "print(pushZerosToEnd(arr))\n",
    "# Output: [1, 2, 3, 6, 0, 0, 0]\n"
   ]
  },
  {
   "cell_type": "markdown",
   "id": "dacc9343-64f2-4177-be95-b149a53d8385",
   "metadata": {},
   "source": [
    "## Question 5"
   ]
  },
  {
   "cell_type": "code",
   "execution_count": 7,
   "id": "77572e4c-2532-4326-9408-1a45176e3576",
   "metadata": {},
   "outputs": [
    {
     "name": "stdout",
     "output_type": "stream",
     "text": [
      "[-4, -1, 3, 1, 2, 4]\n",
      "[5, 2, 4, 7, 1, 8, 0, -2, -5, -8]\n"
     ]
    }
   ],
   "source": [
    "def alternateArrange(arr):\n",
    "    positive = 0\n",
    "    negative = 0\n",
    "    n = len(arr)\n",
    "\n",
    "    while positive < n and negative < n:\n",
    "        while positive < n and arr[positive] < 0:\n",
    "            positive += 1\n",
    "        while negative < n and arr[negative] >= 0:\n",
    "            negative += 1\n",
    "\n",
    "        if positive < n and negative < n:\n",
    "            arr[positive], arr[negative] = arr[negative], arr[positive]\n",
    "            positive += 1\n",
    "            negative += 1\n",
    "\n",
    "    while positive < n and arr[positive] >= 0:\n",
    "        positive += 1\n",
    "\n",
    "    while negative < n and arr[negative] < 0:\n",
    "        negative += 1\n",
    "\n",
    "    positive_numbers = arr[positive:n]\n",
    "    negative_numbers = arr[negative:n]\n",
    "\n",
    "    arr = arr[:positive] + negative_numbers + positive_numbers\n",
    "\n",
    "    return arr\n",
    "arr = [1, 2, 3, -4, -1, 4]\n",
    "print(alternateArrange(arr))\n",
    "# Output: [-4, 1, -1, 2, 3, 4]\n",
    "\n",
    "arr = [-5, -2, 5, 2, 4, 7, 1, 8, 0, -8]\n",
    "print(alternateArrange(arr))\n",
    "# Output: [-5, 5, -2, 2, -8, 4, 7, 1, 8, 0]\n"
   ]
  },
  {
   "cell_type": "markdown",
   "id": "8efdd26f-ff84-4b34-b5a2-d7dba16ddd40",
   "metadata": {},
   "source": [
    "## Question 6"
   ]
  },
  {
   "cell_type": "code",
   "execution_count": 8,
   "id": "514c6c09-521c-47d6-85a7-1ae13c3d8cdb",
   "metadata": {},
   "outputs": [
    {
     "name": "stdout",
     "output_type": "stream",
     "text": [
      "[1, 2, 3, 4, 4, 5, 6, 8]\n",
      "[4, 5, 7, 8, 8, 9]\n"
     ]
    }
   ],
   "source": [
    "def mergeSortedArrays(arr1, arr2):\n",
    "    result = []\n",
    "    i = 0\n",
    "    j = 0\n",
    "\n",
    "    while i < len(arr1) and j < len(arr2):\n",
    "        if arr1[i] <= arr2[j]:\n",
    "            result.append(arr1[i])\n",
    "            i += 1\n",
    "        else:\n",
    "            result.append(arr2[j])\n",
    "            j += 1\n",
    "\n",
    "    while i < len(arr1):\n",
    "        result.append(arr1[i])\n",
    "        i += 1\n",
    "\n",
    "    while j < len(arr2):\n",
    "        result.append(arr2[j])\n",
    "        j += 1\n",
    "\n",
    "    return result\n",
    "arr1 = [1, 3, 4, 5]\n",
    "arr2 = [2, 4, 6, 8]\n",
    "print(mergeSortedArrays(arr1, arr2))\n",
    "# Output: [1, 2, 3, 4, 4, 5, 6, 8]\n",
    "\n",
    "arr1 = [5, 8, 9]\n",
    "arr2 = [4, 7, 8]\n",
    "print(mergeSortedArrays(arr1, arr2))\n",
    "# Output: [4, 5, 7, 8, 8, 9]\n"
   ]
  },
  {
   "cell_type": "markdown",
   "id": "a9226dfe-7f06-4c4d-9d6f-625b7c8fa1b8",
   "metadata": {},
   "source": [
    "## Question 7"
   ]
  },
  {
   "cell_type": "code",
   "execution_count": 9,
   "id": "fb64e044-2276-46d6-acb1-b7b4c2e9cbcd",
   "metadata": {},
   "outputs": [
    {
     "name": "stdout",
     "output_type": "stream",
     "text": [
      "[2]\n",
      "[9, 4]\n"
     ]
    }
   ],
   "source": [
    "def intersection(nums1, nums2):\n",
    "    set1 = set(nums1)\n",
    "    set2 = set()\n",
    "    \n",
    "    for num in nums2:\n",
    "        if num in set1:\n",
    "            set2.add(num)\n",
    "    \n",
    "    return list(set2)\n",
    "nums1 = [1, 2, 2, 1]\n",
    "nums2 = [2, 2]\n",
    "print(intersection(nums1, nums2))\n",
    "# Output: [2]\n",
    "\n",
    "nums1 = [4, 9, 5]\n",
    "nums2 = [9, 4, 9, 8, 4]\n",
    "print(intersection(nums1, nums2))\n",
    "# Output: [9, 4]\n"
   ]
  },
  {
   "cell_type": "markdown",
   "id": "13b305c6-ce88-4317-a130-fe71454a349b",
   "metadata": {},
   "source": [
    "## Question 8"
   ]
  },
  {
   "cell_type": "code",
   "execution_count": 10,
   "id": "ef5bdc7d-b23e-44d6-8031-7c2c3e11984b",
   "metadata": {},
   "outputs": [
    {
     "name": "stdout",
     "output_type": "stream",
     "text": [
      "[2, 2]\n",
      "[9, 4]\n"
     ]
    }
   ],
   "source": [
    "from collections import defaultdict\n",
    "\n",
    "def intersection(nums1, nums2):\n",
    "    freq = defaultdict(int)\n",
    "    for num in nums1:\n",
    "        freq[num] += 1\n",
    "    \n",
    "    result = []\n",
    "    for num in nums2:\n",
    "        if num in freq and freq[num] > 0:\n",
    "            result.append(num)\n",
    "            freq[num] -= 1\n",
    "    \n",
    "    return result\n",
    "nums1 = [1, 2, 2, 1]\n",
    "nums2 = [2, 2]\n",
    "print(intersection(nums1, nums2))\n",
    "# Output: [2, 2]\n",
    "\n",
    "nums1 = [4, 9, 5]\n",
    "nums2 = [9, 4, 9, 8, 4]\n",
    "print(intersection(nums1, nums2))\n",
    "# Output: [4, 9]\n"
   ]
  }
 ],
 "metadata": {
  "kernelspec": {
   "display_name": "Python 3 (ipykernel)",
   "language": "python",
   "name": "python3"
  },
  "language_info": {
   "codemirror_mode": {
    "name": "ipython",
    "version": 3
   },
   "file_extension": ".py",
   "mimetype": "text/x-python",
   "name": "python",
   "nbconvert_exporter": "python",
   "pygments_lexer": "ipython3",
   "version": "3.9.9"
  }
 },
 "nbformat": 4,
 "nbformat_minor": 5
}
