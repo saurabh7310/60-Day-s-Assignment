{
 "cells": [
  {
   "cell_type": "markdown",
   "id": "f8eac7bb-93b6-49c7-9765-eb17f6025d66",
   "metadata": {},
   "source": [
    "## Question 1"
   ]
  },
  {
   "cell_type": "code",
   "execution_count": 1,
   "id": "c35b1733-142c-4330-9a13-2ff0d814dfd1",
   "metadata": {},
   "outputs": [
    {
     "name": "stdout",
     "output_type": "stream",
     "text": [
      "0\n"
     ]
    }
   ],
   "source": [
    "def firstUniqChar(s):\n",
    "    charCount = {}\n",
    "    \n",
    "    # Count the occurrences of each character\n",
    "    for char in s:\n",
    "        if char in charCount:\n",
    "            charCount[char] += 1\n",
    "        else:\n",
    "            charCount[char] = 1\n",
    "    \n",
    "    # Find the first non-repeating character\n",
    "    for i in range(len(s)):\n",
    "        if charCount[s[i]] == 1:\n",
    "            return i\n",
    "    \n",
    "    return -1\n",
    "\n",
    "# Example usage\n",
    "s = \"leetcode\"\n",
    "output = firstUniqChar(s)\n",
    "print(output)\n",
    "# Output: 0\n"
   ]
  },
  {
   "cell_type": "markdown",
   "id": "7a2f746f-ae4e-4b90-923f-44b3ecb4b75e",
   "metadata": {},
   "source": [
    "## Question 2"
   ]
  },
  {
   "cell_type": "code",
   "execution_count": 2,
   "id": "6eb29a93-88bc-4707-8aff-c377829576a9",
   "metadata": {},
   "outputs": [
    {
     "name": "stdout",
     "output_type": "stream",
     "text": [
      "3\n"
     ]
    }
   ],
   "source": [
    "def maxSubarraySumCircular(nums):\n",
    "    maxSum = float('-inf')\n",
    "    currentMax = 0\n",
    "\n",
    "    # Find maximum sum subarray within the circular array\n",
    "    for num in nums:\n",
    "        currentMax = max(num, currentMax + num)\n",
    "        maxSum = max(maxSum, currentMax)\n",
    "\n",
    "    if maxSum <= 0:\n",
    "        return maxSum\n",
    "\n",
    "    totalSum = sum(nums)\n",
    "    minSum = float('inf')\n",
    "    currentMin = 0\n",
    "\n",
    "    # Find minimum sum subarray within the circular array\n",
    "    for num in nums:\n",
    "        currentMin = min(num, currentMin + num)\n",
    "        minSum = min(minSum, currentMin)\n",
    "\n",
    "    maxCircularSum = totalSum - minSum\n",
    "\n",
    "    return max(maxSum, maxCircularSum)\n",
    "\n",
    "nums = [1,-2,3,-2]\n",
    "print(maxSubarraySumCircular(nums))\n"
   ]
  },
  {
   "cell_type": "markdown",
   "id": "c628da05-361b-4ec7-8671-fabb79742b66",
   "metadata": {},
   "source": [
    "## Question 3"
   ]
  },
  {
   "cell_type": "code",
   "execution_count": 3,
   "id": "b35172fa-6755-42b7-a858-b3ff3fcfce78",
   "metadata": {},
   "outputs": [
    {
     "name": "stdout",
     "output_type": "stream",
     "text": [
      "4\n"
     ]
    }
   ],
   "source": [
    "def countStudents(students, sandwiches):\n",
    "    studentPtr = 0\n",
    "    sandwichPtr = 0\n",
    "\n",
    "    while studentPtr < len(students) and sandwichPtr < len(sandwiches):\n",
    "        if students[studentPtr] == sandwiches[sandwichPtr]:\n",
    "            studentPtr += 1\n",
    "        else:\n",
    "            found = False\n",
    "            for i in range(sandwichPtr + 1, len(sandwiches)):\n",
    "                if students[studentPtr] == sandwiches[i]:\n",
    "                    sandwiches[sandwichPtr], sandwiches[i] = sandwiches[i], sandwiches[sandwichPtr]\n",
    "                    found = True\n",
    "                    break\n",
    "\n",
    "            if not found:\n",
    "                break\n",
    "\n",
    "        sandwichPtr += 1\n",
    "\n",
    "    return len(students) - studentPtr\n",
    "\n",
    "\n",
    "# Example usage\n",
    "students = [1, 1, 0, 0]\n",
    "sandwiches = [0, 1, 0, 1]\n",
    "result = countStudents(students, sandwiches)\n",
    "print(result)\n"
   ]
  },
  {
   "cell_type": "markdown",
   "id": "b1a68db9-e988-41eb-9f1c-d6445fadd249",
   "metadata": {},
   "source": [
    "## Question 4"
   ]
  },
  {
   "cell_type": "code",
   "execution_count": 4,
   "id": "65ff8c0d-eb2f-4de2-96bd-7a4119d00dea",
   "metadata": {},
   "outputs": [
    {
     "name": "stdout",
     "output_type": "stream",
     "text": [
      "1\n",
      "2\n",
      "3\n",
      "3\n"
     ]
    }
   ],
   "source": [
    "class RecentCounter:\n",
    "    def __init__(self):\n",
    "        self.requests = []\n",
    "\n",
    "    def ping(self, t: int) -> int:\n",
    "        self.requests.append(t)\n",
    "\n",
    "        while self.requests and self.requests[0] < t - 3000:\n",
    "            self.requests.pop(0)\n",
    "\n",
    "        return len(self.requests)\n",
    "\n",
    "\n",
    "# Example usage\n",
    "recentCounter = RecentCounter()\n",
    "print(recentCounter.ping(1))     # Output: 1\n",
    "print(recentCounter.ping(100))   # Output: 2\n",
    "print(recentCounter.ping(3001))  # Output: 3\n",
    "print(recentCounter.ping(3002))  # Output: 3\n"
   ]
  },
  {
   "cell_type": "markdown",
   "id": "67b76b74-f659-4687-9e47-6f4ae11a5fbb",
   "metadata": {},
   "source": [
    "## Question 5"
   ]
  },
  {
   "cell_type": "code",
   "execution_count": 5,
   "id": "d7b2f092-742d-421b-8f2a-8e6ed6f9b756",
   "metadata": {},
   "outputs": [
    {
     "name": "stdout",
     "output_type": "stream",
     "text": [
      "3\n"
     ]
    }
   ],
   "source": [
    "def findTheWinner(n: int, k: int) -> int:\n",
    "    # Create a list of friends numbered from 1 to n\n",
    "    friends = list(range(1, n+1))\n",
    "\n",
    "    # Start the game with the first friend\n",
    "    current = 0\n",
    "\n",
    "    while len(friends) > 1:\n",
    "        # Count k friends in the clockwise direction\n",
    "        current = (current + k - 1) % len(friends)\n",
    "\n",
    "        # Remove the friend at the current index\n",
    "        friends.pop(current)\n",
    "\n",
    "    return friends[0]\n",
    "\n",
    "# Example usage\n",
    "n = 5\n",
    "k = 2\n",
    "print(findTheWinner(n, k))  # Output: 3\n"
   ]
  },
  {
   "cell_type": "markdown",
   "id": "9596c337-b0b7-4185-ad8a-9beda42a3290",
   "metadata": {},
   "source": [
    "## Question 6"
   ]
  },
  {
   "cell_type": "code",
   "execution_count": 6,
   "id": "94c6669f-eeea-40e2-8301-63cad996065f",
   "metadata": {},
   "outputs": [
    {
     "name": "stdout",
     "output_type": "stream",
     "text": [
      "[2, 13, 3, 11, 5, 17, 7]\n"
     ]
    }
   ],
   "source": [
    "from collections import deque\n",
    "import heapq\n",
    "\n",
    "def deckRevealedIncreasing(deck):\n",
    "    # Sort the deck in ascending order\n",
    "    deck.sort()\n",
    "\n",
    "    # Initialize a queue with indices from 0 to n-1\n",
    "    queue = deque(range(len(deck)))\n",
    "\n",
    "    # Initialize the result array\n",
    "    result = [0] * len(deck)\n",
    "\n",
    "    for card in deck:\n",
    "        # Get the next index from the queue\n",
    "        index = queue.popleft()\n",
    "\n",
    "        # Assign the card to the corresponding index in the result\n",
    "        result[index] = card\n",
    "\n",
    "        if queue:\n",
    "            # Move the next index to the back of the queue\n",
    "            queue.append(queue.popleft())\n",
    "\n",
    "    return result\n",
    "\n",
    "# Example usage\n",
    "deck = [17, 13, 11, 2, 3, 5, 7]\n",
    "print(deckRevealedIncreasing(deck))  # Output: [2, 13, 3, 11, 5, 17, 7]\n"
   ]
  },
  {
   "cell_type": "markdown",
   "id": "fc68e458-8ac1-4da8-983e-7488d53081d0",
   "metadata": {},
   "source": [
    "## Question 7"
   ]
  },
  {
   "cell_type": "code",
   "execution_count": 7,
   "id": "78c6e44d-3a78-4f9b-bdd4-d1dd728af914",
   "metadata": {},
   "outputs": [
    {
     "name": "stdout",
     "output_type": "stream",
     "text": [
      "3\n",
      "1\n",
      "2\n",
      "4\n",
      "-1\n"
     ]
    }
   ],
   "source": [
    "class FrontMiddleBackQueue:\n",
    "    def __init__(self):\n",
    "        self.front = []\n",
    "        self.back = []\n",
    "        self.middle = []\n",
    "\n",
    "    def pushFront(self, val: int) -> None:\n",
    "        self.front.append(val)\n",
    "        self._adjustMiddle()\n",
    "\n",
    "    def pushMiddle(self, val: int) -> None:\n",
    "        self.middle.append(val)\n",
    "        self._adjustMiddle()\n",
    "\n",
    "    def pushBack(self, val: int) -> None:\n",
    "        self.back.append(val)\n",
    "        self._adjustMiddle()\n",
    "\n",
    "    def popFront(self) -> int:\n",
    "        if not self.isEmpty():\n",
    "            if self.front:\n",
    "                return self.front.pop()\n",
    "            else:\n",
    "                val = self.middle.pop(0)\n",
    "                self._adjustMiddle()\n",
    "                return val\n",
    "        return -1\n",
    "\n",
    "    def popMiddle(self) -> int:\n",
    "        if not self.isEmpty():\n",
    "            if len(self.front) >= len(self.back):\n",
    "                return self.front.pop()\n",
    "            else:\n",
    "                return self.back.pop(0)\n",
    "        return -1\n",
    "\n",
    "    def popBack(self) -> int:\n",
    "        if not self.isEmpty():\n",
    "            if self.back:\n",
    "                return self.back.pop()\n",
    "            else:\n",
    "                val = self.middle.pop()\n",
    "                self._adjustMiddle()\n",
    "                return val\n",
    "        return -1\n",
    "\n",
    "    def isEmpty(self) -> bool:\n",
    "        return len(self.front) == 0 and len(self.middle) == 0 and len(self.back) == 0\n",
    "\n",
    "    def _adjustMiddle(self) -> None:\n",
    "        if len(self.front) > len(self.back) + 1:\n",
    "            self.back.insert(0, self.front.pop())\n",
    "        elif len(self.front) < len(self.back):\n",
    "            self.front.append(self.back.pop(0))\n",
    "        elif len(self.middle) > 0 and len(self.front) == len(self.back):\n",
    "            self.front.append(self.middle.pop(0))\n",
    "\n",
    "# Example usage\n",
    "q = FrontMiddleBackQueue()\n",
    "q.pushFront(1)\n",
    "q.pushBack(2)\n",
    "q.pushMiddle(3)\n",
    "q.pushMiddle(4)\n",
    "print(q.popFront())    # Output: 1\n",
    "print(q.popMiddle())   # Output: 3\n",
    "print(q.popMiddle())   # Output: 4\n",
    "print(q.popBack())     # Output: 2\n",
    "print(q.popFront())    # Output: -1 (The queue is empty)\n"
   ]
  },
  {
   "cell_type": "markdown",
   "id": "d6a9ff37-d873-4e83-9ffc-65e03bee5118",
   "metadata": {},
   "source": [
    "## Question 8"
   ]
  },
  {
   "cell_type": "code",
   "execution_count": 8,
   "id": "e288c1e6-a200-49a2-8452-e2e3a370d92b",
   "metadata": {},
   "outputs": [
    {
     "name": "stdout",
     "output_type": "stream",
     "text": [
      "False\n",
      "False\n",
      "True\n",
      "False\n"
     ]
    }
   ],
   "source": [
    "class DataStream:\n",
    "    def __init__(self, value: int, k: int):\n",
    "        self.stream = []\n",
    "        self.value = value\n",
    "        self.k = k\n",
    "\n",
    "    def consec(self, num: int) -> bool:\n",
    "        self.stream.append(num)\n",
    "        if len(self.stream) >= self.k:\n",
    "            last_k = self.stream[-self.k:]\n",
    "            return all(x == self.value for x in last_k)\n",
    "        return False\n",
    "\n",
    "# Example usage\n",
    "dataStream = DataStream(4, 3)\n",
    "print(dataStream.consec(4))   # Output: False\n",
    "print(dataStream.consec(4))   # Output: False\n",
    "print(dataStream.consec(4))   # Output: True\n",
    "print(dataStream.consec(3))   # Output: False\n"
   ]
  }
 ],
 "metadata": {
  "kernelspec": {
   "display_name": "Python 3 (ipykernel)",
   "language": "python",
   "name": "python3"
  },
  "language_info": {
   "codemirror_mode": {
    "name": "ipython",
    "version": 3
   },
   "file_extension": ".py",
   "mimetype": "text/x-python",
   "name": "python",
   "nbconvert_exporter": "python",
   "pygments_lexer": "ipython3",
   "version": "3.9.9"
  }
 },
 "nbformat": 4,
 "nbformat_minor": 5
}
