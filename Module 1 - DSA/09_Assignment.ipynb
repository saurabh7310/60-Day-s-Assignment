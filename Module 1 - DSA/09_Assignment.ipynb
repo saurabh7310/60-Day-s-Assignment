{
 "cells": [
  {
   "cell_type": "markdown",
   "id": "1a055c10-2b6d-446d-be58-08f2dd9ef2ce",
   "metadata": {},
   "source": [
    "## Question 1"
   ]
  },
  {
   "cell_type": "code",
   "execution_count": 1,
   "id": "29245fcd-ab6b-4574-8d12-bd5cb1d88ecb",
   "metadata": {},
   "outputs": [
    {
     "name": "stdout",
     "output_type": "stream",
     "text": [
      "True\n",
      "True\n",
      "False\n"
     ]
    }
   ],
   "source": [
    "def isPowerOfTwo(n):\n",
    "    if n <= 0:\n",
    "        return False\n",
    "\n",
    "    return n & (n - 1) == 0\n",
    "n = 1\n",
    "print(isPowerOfTwo(n))  \n",
    "n = 16\n",
    "print(isPowerOfTwo(n)) \n",
    "n = 3\n",
    "print(isPowerOfTwo(n)) "
   ]
  },
  {
   "cell_type": "markdown",
   "id": "c7a6f1d1-012e-4d75-9eb2-4e442a7aefeb",
   "metadata": {},
   "source": [
    "## Question 2"
   ]
  },
  {
   "cell_type": "code",
   "execution_count": 2,
   "id": "6568b9a1-81bc-4ed8-b623-d577a4f7f40a",
   "metadata": {},
   "outputs": [
    {
     "name": "stdout",
     "output_type": "stream",
     "text": [
      "6\n",
      "15\n"
     ]
    }
   ],
   "source": [
    "def sumOfFirstNNumbers(n):\n",
    "    return n * (n + 1) // 2\n",
    "n = 3\n",
    "print(sumOfFirstNNumbers(n))  \n",
    "n = 5\n",
    "print(sumOfFirstNNumbers(n)) "
   ]
  },
  {
   "cell_type": "markdown",
   "id": "d54dde90-4830-4cd9-bf21-ba45b650db2f",
   "metadata": {},
   "source": [
    "## Question 3"
   ]
  },
  {
   "cell_type": "code",
   "execution_count": 3,
   "id": "300c1a24-2343-4066-91f3-8d3297bdbcc9",
   "metadata": {},
   "outputs": [
    {
     "name": "stdout",
     "output_type": "stream",
     "text": [
      "120\n",
      "24\n"
     ]
    }
   ],
   "source": [
    "def factorial(N):\n",
    "    factorial = 1\n",
    "    for i in range(2, N+1):\n",
    "        factorial *= i\n",
    "    return factorial\n",
    "N = 5\n",
    "print(factorial(N))  \n",
    "N = 4\n",
    "print(factorial(N)) "
   ]
  },
  {
   "cell_type": "markdown",
   "id": "882ebbba-2c21-4ab5-9589-d1cd229a6389",
   "metadata": {},
   "source": [
    "## Question 4"
   ]
  },
  {
   "cell_type": "code",
   "execution_count": 4,
   "id": "95ecbeda-1657-41cc-b68f-96143e5ca87b",
   "metadata": {},
   "outputs": [
    {
     "name": "stdout",
     "output_type": "stream",
     "text": [
      "25\n",
      "32\n"
     ]
    }
   ],
   "source": [
    "def exponent(N, P):\n",
    "    result = 1\n",
    "    for i in range(P):\n",
    "        result *= N\n",
    "    return result\n",
    "N = 5\n",
    "P = 2\n",
    "print(exponent(N, P))  \n",
    "N = 2\n",
    "P = 5\n",
    "print(exponent(N, P))  "
   ]
  },
  {
   "cell_type": "markdown",
   "id": "7d361bf1-b554-4de5-9dca-df10f42dde56",
   "metadata": {},
   "source": [
    "## Question 5"
   ]
  },
  {
   "cell_type": "code",
   "execution_count": 5,
   "id": "0f48c554-3b86-4f16-b3b6-4ae657a2dcbe",
   "metadata": {},
   "outputs": [
    {
     "name": "stdout",
     "output_type": "stream",
     "text": [
      "8\n",
      "45\n"
     ]
    }
   ],
   "source": [
    "def findMax(arr):\n",
    "    length = len(arr)\n",
    "    if length == 1:\n",
    "        return arr[0]\n",
    "\n",
    "    mid = length // 2\n",
    "    left_half = arr[:mid]\n",
    "    right_half = arr[mid:]\n",
    "\n",
    "    left_max = findMax(left_half)\n",
    "    right_max = findMax(right_half)\n",
    "\n",
    "    return max(left_max, right_max)\n",
    "arr = [1, 4, 3, -5, -4, 8, 6]\n",
    "print(findMax(arr)) \n",
    "\n",
    "arr = [1, 4, 45, 6, 10, -8]\n",
    "print(findMax(arr))"
   ]
  },
  {
   "cell_type": "markdown",
   "id": "0c261943-34e7-4a33-9815-66ab1166c389",
   "metadata": {},
   "source": [
    "## Question 6"
   ]
  },
  {
   "cell_type": "code",
   "execution_count": 6,
   "id": "3c21d951-1cad-4e29-9b23-938cd00f51c9",
   "metadata": {},
   "outputs": [
    {
     "name": "stdout",
     "output_type": "stream",
     "text": [
      "6\n",
      "23\n"
     ]
    }
   ],
   "source": [
    "def findNthTerm(a, d, N):\n",
    "    nth_term = a + (N - 1) * d\n",
    "    return nth_term\n",
    "a = 2\n",
    "d = 1\n",
    "N = 5\n",
    "print(findNthTerm(a, d, N))  \n",
    "\n",
    "a = 5\n",
    "d = 2\n",
    "N = 10\n",
    "print(findNthTerm(a, d, N)) \n"
   ]
  },
  {
   "cell_type": "markdown",
   "id": "7b752dcd-9635-4720-9a30-86ee5e54aff9",
   "metadata": {},
   "source": [
    "## Question 7"
   ]
  },
  {
   "cell_type": "code",
   "execution_count": 7,
   "id": "d7663534-c936-4b64-9179-ebfcef4e56f1",
   "metadata": {},
   "outputs": [
    {
     "name": "stdout",
     "output_type": "stream",
     "text": [
      "['ABC', 'ACB', 'BAC', 'BCA', 'CAB', 'CBA']\n",
      "['XY', 'YX']\n"
     ]
    }
   ],
   "source": [
    "def permutations(S):\n",
    "    if len(S) == 1:\n",
    "        return [S]\n",
    "\n",
    "    result = []\n",
    "    for i in range(len(S)):\n",
    "        c = S[i]\n",
    "        remaining = S[:i] + S[i+1:]\n",
    "        remaining_perms = permutations(remaining)\n",
    "        for perm in remaining_perms:\n",
    "            result.append(c + perm)\n",
    "\n",
    "    return result\n",
    "S = \"ABC\"\n",
    "print(permutations(S)) \n",
    "\n",
    "S = \"XY\"\n",
    "print(permutations(S)) "
   ]
  },
  {
   "cell_type": "markdown",
   "id": "bfd34c9f-91a9-4e3d-93aa-6c1ecc1b97eb",
   "metadata": {},
   "source": [
    "## Question 8"
   ]
  },
  {
   "cell_type": "code",
   "execution_count": 8,
   "id": "a92750d3-1083-4d12-bc91-0669951edb3d",
   "metadata": {},
   "outputs": [
    {
     "name": "stdout",
     "output_type": "stream",
     "text": [
      "120\n",
      "18\n"
     ]
    }
   ],
   "source": [
    "def productOfArray(arr):\n",
    "    product = 1\n",
    "    for num in arr:\n",
    "        product *= num\n",
    "    return product\n",
    "arr = [1, 2, 3, 4, 5]\n",
    "print(productOfArray(arr))  \n",
    "arr = [1, 6, 3]\n",
    "print(productOfArray(arr))  "
   ]
  }
 ],
 "metadata": {
  "kernelspec": {
   "display_name": "Python 3 (ipykernel)",
   "language": "python",
   "name": "python3"
  },
  "language_info": {
   "codemirror_mode": {
    "name": "ipython",
    "version": 3
   },
   "file_extension": ".py",
   "mimetype": "text/x-python",
   "name": "python",
   "nbconvert_exporter": "python",
   "pygments_lexer": "ipython3",
   "version": "3.9.9"
  }
 },
 "nbformat": 4,
 "nbformat_minor": 5
}
