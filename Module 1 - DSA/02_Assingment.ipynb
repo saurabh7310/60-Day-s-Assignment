{
 "cells": [
  {
   "cell_type": "markdown",
   "id": "0b731864-f201-4797-be12-d1d2992d5721",
   "metadata": {
    "tags": []
   },
   "source": [
    "# Assingment_02"
   ]
  },
  {
   "cell_type": "markdown",
   "id": "e9e9dccc-20c5-4392-81f4-feebeb49523c",
   "metadata": {},
   "source": [
    "##### Question 1\n",
    "Given an integer array nums of 2n integers, group these integers into n pairs (a1, b1), (a2, b2),..., (an, bn) such that the sum of min(ai, bi) for all i is maximized. Return the maximized sum.\n",
    "\n",
    "**Example 1:**\n",
    "Input: nums = [1,4,3,2]\n",
    "Output: 4\n",
    "\n",
    "**Explanation:** All possible pairings (ignoring the ordering of elements) are:\n",
    "\n",
    "1. (1, 4), (2, 3) -> min(1, 4) + min(2, 3) = 1 + 2 = 3\n",
    "2. (1, 3), (2, 4) -> min(1, 3) + min(2, 4) = 1 + 2 = 3\n",
    "3. (1, 2), (3, 4) -> min(1, 2) + min(3, 4) = 1 + 3 = 4\n",
    "So the maximum possible sum is 4\n",
    "</aside><aside>\n",
    "💡 **Question 1**\n",
    "Given an integer array nums of 2n integers, group these integers into n pairs (a1, b1), (a2, b2),..., (an, bn) such that the sum of min(ai, bi) for all i is maximized. Return the maximized sum.\n",
    "\n",
    "**Example 1:**\n",
    "Input: nums = [1,4,3,2]\n",
    "Output: 4\n",
    "\n",
    "**Explanation:** All possible pairings (ignoring the ordering of elements) are:\n",
    "\n",
    "1. (1, 4), (2, 3) -> min(1, 4) + min(2, 3) = 1 + 2 = 3\n",
    "2. (1, 3), (2, 4) -> min(1, 3) + min(2, 4) = 1 + 2 = 3\n",
    "3. (1, 2), (3, 4) -> min(1, 2) + min(3, 4) = 1 + 3 = 4\n",
    "So the maximum possible sum is 4\n"
   ]
  },
  {
   "cell_type": "code",
   "execution_count": 11,
   "id": "708ca117-1bfb-4aa3-a009-2cd62878ad11",
   "metadata": {},
   "outputs": [
    {
     "name": "stdout",
     "output_type": "stream",
     "text": [
      "4\n"
     ]
    }
   ],
   "source": [
    "def array_pair_sum(nums):\n",
    "    nums.sort()  # Step 1: Sort the array\n",
    "\n",
    "    max_sum = 0  # Step 2: Initialize the maximum sum\n",
    "\n",
    "    for i in range(0, len(nums), 2):  # Step 3: Iterate with step size 2\n",
    "        max_sum += nums[i]  # Step 4: Add minimum value to max_sum\n",
    "\n",
    "    return max_sum  # Step 6: Return the maximum sum\n",
    "\n",
    "\n",
    "num = [1,4,3,2]\n",
    "print(array_pair_sum(nums=num))"
   ]
  },
  {
   "cell_type": "markdown",
   "id": "a524609f-5107-4247-815f-3240b5502068",
   "metadata": {},
   "source": [
    "##### Question 2\n",
    "Alice has n candies, where the ith candy is of type candyType[i]. Alice noticed that she started to gain weight, so she visited a doctor. \n",
    "\n",
    "The doctor advised Alice to only eat n / 2 of the candies she has (n is always even). Alice likes her candies very much, and she wants to eat the maximum number of different types of candies while still following the doctor's advice. \n",
    "\n",
    "Given the integer array candyType of length n, return the maximum number of different types of candies she can eat if she only eats n / 2 of them.\n",
    "\n",
    "Example 1:\n",
    "Input: candyType = [1,1,2,2,3,3]\n",
    "Output: 3\n",
    "\n",
    "Explanation: Alice can only eat 6 / 2 = 3 candies. Since there are only 3 types, she can eat one of each type.Question 2\n",
    "Alice has n candies, where the ith candy is of type candyType[i]. Alice noticed that she started to gain weight, so she visited a doctor. \n",
    "\n",
    "The doctor advised Alice to only eat n / 2 of the candies she has (n is always even). Alice likes her candies very much, and she wants to eat the maximum number of different types of candies while still following the doctor's advice. \n",
    "\n",
    "Given the integer array candyType of length n, return the maximum number of different types of candies she can eat if she only eats n / 2 of them.\n",
    "\n",
    "Example 1:\n",
    "Input: candyType = [1,1,2,2,3,3]\n",
    "Output: 3\n",
    "\n",
    "Explanation: Alice can only eat 6 / 2 = 3 candies. Since there are only 3 types, she can eat one of each type."
   ]
  },
  {
   "cell_type": "code",
   "execution_count": 12,
   "id": "8878602b-de77-42be-a838-6a4e036e54ab",
   "metadata": {},
   "outputs": [
    {
     "name": "stdout",
     "output_type": "stream",
     "text": [
      "3\n"
     ]
    }
   ],
   "source": [
    "def max_candies(candyType):\n",
    "    candy_count = {}  # Step 1: Count the frequency of each candy type\n",
    "\n",
    "    for candy in candyType:\n",
    "        candy_count[candy] = candy_count.get(candy, 0) + 1\n",
    "\n",
    "    max_candies = min(len(candy_count), len(candyType) // 2)  # Step 2: Calculate the maximum number of different types of candies\n",
    "\n",
    "    return max_candies  # Step 3: Return the result\n",
    "\n",
    "candyType = [1, 1, 2, 2, 3, 3]\n",
    "print(max_candies(candyType))"
   ]
  },
  {
   "cell_type": "markdown",
   "id": "ae0bc215-c3ed-4841-a95d-975ecde93b88",
   "metadata": {},
   "source": [
    "##### Question 3\n",
    "We define a harmonious array as an array where the difference between its maximum value\n",
    "and its minimum value is exactly 1.\n",
    "\n",
    "Given an integer array nums, return the length of its longest harmonious subsequence\n",
    "among all its possible subsequences.\n",
    "\n",
    "A subsequence of an array is a sequence that can be derived from the array by deleting some or no elements without changing the order of the remaining elements.\n",
    "\n",
    "Example 1:\n",
    "Input: nums = [1,3,2,2,5,2,3,7]\n",
    "Output: 5\n",
    "\n",
    "Explanation: The longest harmonious subsequence is [3,2,2,2,3].Question 3\n",
    "We define a harmonious array as an array where the difference between its maximum value\n",
    "and its minimum value is exactly 1.\n",
    "\n",
    "Given an integer array nums, return the length of its longest harmonious subsequence\n",
    "among all its possible subsequences.\n",
    "\n",
    "A subsequence of an array is a sequence that can be derived from the array by deleting some or no elements without changing the order of the remaining elements.\n",
    "\n",
    "Example 1:\n",
    "Input: nums = [1,3,2,2,5,2,3,7]\n",
    "Output: 5\n",
    "\n",
    "Explanation: The longest harmonious subsequence is [3,2,2,2,3]."
   ]
  },
  {
   "cell_type": "code",
   "execution_count": 13,
   "id": "2210d381-43e7-4108-8fc1-c3ac5d9482fe",
   "metadata": {},
   "outputs": [
    {
     "name": "stdout",
     "output_type": "stream",
     "text": [
      "5\n"
     ]
    }
   ],
   "source": [
    "def findLHS(nums):\n",
    "    num_count = {}  # Step 1: Count the frequency of each number\n",
    "\n",
    "    for num in nums:\n",
    "        num_count[num] = num_count.get(num, 0) + 1\n",
    "\n",
    "    max_length = 0  # Step 2: Initialize the maximum length\n",
    "\n",
    "    for num in set(nums):  # Step 3: Iterate over unique numbers\n",
    "        if num + 1 in num_count:  # Step 4: Check if num + 1 exists\n",
    "            length = num_count[num] + num_count[num + 1]  # Step 5: Calculate the length of the harmonious subsequence\n",
    "            max_length = max(max_length, length)  # Step 6: Update max_length\n",
    "\n",
    "    return max_length  # Step 8: Return the result\n",
    "\n",
    "nums = [1, 3, 2, 2, 5, 2, 3, 7]\n",
    "print(findLHS(nums))"
   ]
  },
  {
   "cell_type": "markdown",
   "id": "68b03023-2d4a-4ab2-a9d2-1d1a45f38841",
   "metadata": {},
   "source": [
    "##### Question 4\n",
    "You have a long flowerbed in which some of the plots are planted, and some are not.\n",
    "However, flowers cannot be planted in adjacent plots.\n",
    "Given an integer array flowerbed containing 0's and 1's, where 0 means empty and 1 means not empty, and an integer n, return true if n new flowers can be planted in the flowerbed without violating the no-adjacent-flowers rule and false otherwise.\n",
    "\n",
    "Example 1:\n",
    "Input: flowerbed = [1,0,0,0,1], n = 1\n",
    "Output: trueQuestion 4\n",
    "You have a long flowerbed in which some of the plots are planted, and some are not.\n",
    "However, flowers cannot be planted in adjacent plots.\n",
    "Given an integer array flowerbed containing 0's and 1's, where 0 means empty and 1 means not empty, and an integer n, return true if n new flowers can be planted in the flowerbed without violating the no-adjacent-flowers rule and false otherwise.\n",
    "\n",
    "Example 1:\n",
    "Input: flowerbed = [1,0,0,0,1], n = 1\n",
    "Output: true"
   ]
  },
  {
   "cell_type": "code",
   "execution_count": 14,
   "id": "06d0268a-512a-4a0a-abab-2f7d465f21cc",
   "metadata": {},
   "outputs": [
    {
     "name": "stdout",
     "output_type": "stream",
     "text": [
      "True\n"
     ]
    }
   ],
   "source": [
    "def canPlaceFlowers(flowerbed, n):\n",
    "    count = 0  # Step 1: Initialize count\n",
    "\n",
    "    for i in range(len(flowerbed)):  # Step 2: Iterate over flowerbed\n",
    "        if flowerbed[i] == 0 and (i == 0 or flowerbed[i - 1] == 0) and (i == len(flowerbed) - 1 or flowerbed[i + 1] == 0):\n",
    "            # Step 3: Check if current plot and adjacent plots are empty\n",
    "            count += 1  # Step 4: Increment count\n",
    "            flowerbed[i] = 1  # Mark current plot as planted\n",
    "\n",
    "        if count >= n:  # Step 5: Check if count is greater than or equal to n\n",
    "            return True\n",
    "\n",
    "    return False  # Step 7: Return False if n flowers cannot be planted\n",
    "\n",
    "flowerbed = [1, 0, 0, 0, 1]\n",
    "n = 1\n",
    "print(canPlaceFlowers(flowerbed, n))"
   ]
  },
  {
   "cell_type": "markdown",
   "id": "0081d846-58fa-4bff-ae66-cf96a64c4308",
   "metadata": {},
   "source": [
    "##### Question 5\n",
    "Given an integer array nums, find three numbers whose product is maximum and return the maximum product.\n",
    "\n",
    "Example 1:\n",
    "Input: nums = [1,2,3]\n",
    "Output: 6Question 5\n",
    "Given an integer array nums, find three numbers whose product is maximum and return the maximum product.\n",
    "\n",
    "Example 1:\n",
    "Input: nums = [1,2,3]\n",
    "Output: 6"
   ]
  },
  {
   "cell_type": "code",
   "execution_count": 15,
   "id": "3c516a44-7bf3-430e-8501-1aadda977e86",
   "metadata": {},
   "outputs": [
    {
     "name": "stdout",
     "output_type": "stream",
     "text": [
      "6\n"
     ]
    }
   ],
   "source": [
    "def maximumProduct(nums):\n",
    "    nums.sort()  # Step 1: Sort the array\n",
    "\n",
    "    # Calculate the product of the last three elements and the first two elements with the last element\n",
    "    product1 = nums[-1] * nums[-2] * nums[-3]\n",
    "    product2 = nums[0] * nums[1] * nums[-1]\n",
    "\n",
    "    return max(product1, product2)  # Step 4: Return the maximum product\n",
    "\n",
    "nums = [1, 2, 3]\n",
    "print(maximumProduct(nums))"
   ]
  },
  {
   "cell_type": "markdown",
   "id": "e6616c5d-e689-4731-aefb-4ef2a1922261",
   "metadata": {},
   "source": [
    "##### Question 6\n",
    "Given an array of integers nums which is sorted in ascending order, and an integer target,\n",
    "write a function to search target in nums. If target exists, then return its index. Otherwise,\n",
    "return -1.\n",
    "\n",
    "You must write an algorithm with O(log n) runtime complexity.\n",
    "\n",
    "Input: nums = [-1,0,3,5,9,12], target = 9\n",
    "Output: 4\n",
    "\n",
    "Explanation: 9 exists in nums and its index is 4Question 6\n",
    "Given an array of integers nums which is sorted in ascending order, and an integer target,\n",
    "write a function to search target in nums. If target exists, then return its index. Otherwise,\n",
    "return -1.\n",
    "\n",
    "You must write an algorithm with O(log n) runtime complexity.\n",
    "\n",
    "Input: nums = [-1,0,3,5,9,12], target = 9\n",
    "Output: 4\n",
    "\n",
    "Explanation: 9 exists in nums and its index is 4"
   ]
  },
  {
   "cell_type": "code",
   "execution_count": 16,
   "id": "a8a68a31-5def-487d-a02c-a1181274cac0",
   "metadata": {},
   "outputs": [
    {
     "name": "stdout",
     "output_type": "stream",
     "text": [
      "4\n"
     ]
    }
   ],
   "source": [
    "def search(nums, target):\n",
    "    left, right = 0, len(nums) - 1  # Step 1: Initialize the pointers\n",
    "\n",
    "    while left <= right:  # Step 2: Perform binary search\n",
    "        mid = left + (right - left) // 2  # Calculate middle index\n",
    "\n",
    "        if nums[mid] == target:  # Target found\n",
    "            return mid\n",
    "        elif nums[mid] < target:  # Target is in the right half\n",
    "            left = mid + 1\n",
    "        else:  # Target is in the left half\n",
    "            right = mid - 1\n",
    "\n",
    "    return -1  # Step 3: Target not found\n",
    "\n",
    "nums = [-1, 0, 3, 5, 9, 12]\n",
    "target = 9\n",
    "print(search(nums, target))"
   ]
  },
  {
   "cell_type": "markdown",
   "id": "217d0e37-d17d-42ae-b77f-ccbcabe66520",
   "metadata": {},
   "source": [
    "##### Question 7\n",
    "An array is monotonic if it is either monotone increasing or monotone decreasing.\n",
    "\n",
    "An array nums is monotone increasing if for all i <= j, nums[i] <= nums[j]. An array nums is\n",
    "monotone decreasing if for all i <= j, nums[i] >= nums[j].\n",
    "\n",
    "Given an integer array nums, return true if the given array is monotonic, or false otherwise.\n",
    "\n",
    "Example 1:\n",
    "Input: nums = [1,2,2,3]\n",
    "Output: trueQuestion 7\n",
    "An array is monotonic if it is either monotone increasing or monotone decreasing.\n",
    "\n",
    "An array nums is monotone increasing if for all i <= j, nums[i] <= nums[j]. An array nums is\n",
    "monotone decreasing if for all i <= j, nums[i] >= nums[j].\n",
    "\n",
    "Given an integer array nums, return true if the given array is monotonic, or false otherwise.\n",
    "\n",
    "Example 1:\n",
    "Input: nums = [1,2,2,3]\n",
    "Output: true"
   ]
  },
  {
   "cell_type": "code",
   "execution_count": 17,
   "id": "0fc3b42e-38e3-4c8a-9230-335a5370a075",
   "metadata": {},
   "outputs": [
    {
     "name": "stdout",
     "output_type": "stream",
     "text": [
      "True\n"
     ]
    }
   ],
   "source": [
    "def isMonotonic(nums):\n",
    "    isIncreasing = True\n",
    "    isDecreasing = True\n",
    "\n",
    "    for i in range(1, len(nums)):\n",
    "        if nums[i] < nums[i-1]:\n",
    "            isIncreasing = False\n",
    "        if nums[i] > nums[i-1]:\n",
    "            isDecreasing = False\n",
    "        if not isIncreasing and not isDecreasing:\n",
    "            return False\n",
    "\n",
    "    return True\n",
    "\n",
    "nums = [1, 2, 2, 3]\n",
    "print(isMonotonic(nums))"
   ]
  },
  {
   "cell_type": "markdown",
   "id": "7ebf4047-3952-4aea-9dba-4eb0f5f26eba",
   "metadata": {},
   "source": [
    "##### Question 8\n",
    "You are given an integer array nums and an integer k.\n",
    "\n",
    "In one operation, you can choose any index i where 0 <= i < nums.length and change nums[i] to nums[i] + x where x is an integer from the range [-k, k]. You can apply this operation at most once for each index i.\n",
    "\n",
    "The score of nums is the difference between the maximum and minimum elements in nums.\n",
    "\n",
    "Return the minimum score of nums after applying the mentioned operation at most once for each index in it.\n",
    "\n",
    "Example 1:\n",
    "Input: nums = [1], k = 0\n",
    "Output: 0\n",
    "\n",
    "Explanation: The score is max(nums) - min(nums) = 1 - 1 = 0.Question 8\n",
    "You are given an integer array nums and an integer k.\n",
    "\n",
    "In one operation, you can choose any index i where 0 <= i < nums.length and change nums[i] to nums[i] + x where x is an integer from the range [-k, k]. You can apply this operation at most once for each index i.\n",
    "\n",
    "The score of nums is the difference between the maximum and minimum elements in nums.\n",
    "\n",
    "Return the minimum score of nums after applying the mentioned operation at most once for each index in it.\n",
    "\n",
    "Example 1:\n",
    "Input: nums = [1], k = 0\n",
    "Output: 0\n",
    "\n",
    "Explanation: The score is max(nums) - min(nums) = 1 - 1 = 0."
   ]
  },
  {
   "cell_type": "code",
   "execution_count": 18,
   "id": "88455842-730f-478c-9159-864a60c541db",
   "metadata": {},
   "outputs": [
    {
     "name": "stdout",
     "output_type": "stream",
     "text": [
      "0\n"
     ]
    }
   ],
   "source": [
    "def minimumScore(nums, k):\n",
    "    min_val = min(nums)  # Step 1: Find the minimum value\n",
    "    max_val = max(nums)  # Step 1: Find the maximum value\n",
    "\n",
    "    if max_val - min_val <= 2*k:  # Step 2: Check if no operation is needed\n",
    "        return 0\n",
    "\n",
    "    potential_min = min_val + k  # Step 3: Calculate potential minimum value\n",
    "    potential_max = max_val - k  # Step 3: Calculate potential maximum value\n",
    "\n",
    "    return potential_max - potential_min  # Step 4: Return the minimum score\n",
    "\n",
    "nums = [1]\n",
    "k = 0\n",
    "print(minimumScore(nums, k))"
   ]
  }
 ],
 "metadata": {
  "kernelspec": {
   "display_name": "Python 3 (ipykernel)",
   "language": "python",
   "name": "python3"
  },
  "language_info": {
   "codemirror_mode": {
    "name": "ipython",
    "version": 3
   },
   "file_extension": ".py",
   "mimetype": "text/x-python",
   "name": "python",
   "nbconvert_exporter": "python",
   "pygments_lexer": "ipython3",
   "version": "3.9.9"
  }
 },
 "nbformat": 4,
 "nbformat_minor": 5
}
