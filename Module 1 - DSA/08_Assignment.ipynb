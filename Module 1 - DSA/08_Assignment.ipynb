{
 "cells": [
  {
   "cell_type": "markdown",
   "id": "1effa021-d93a-463b-a4c6-b3489dc61944",
   "metadata": {},
   "source": [
    "## Question 1"
   ]
  },
  {
   "cell_type": "code",
   "execution_count": 1,
   "id": "03f5773b-bc70-4ba9-92b1-c6a8e8fb7603",
   "metadata": {},
   "outputs": [
    {
     "name": "stdout",
     "output_type": "stream",
     "text": [
      "-1\n"
     ]
    }
   ],
   "source": [
    "def minimumDeleteSum(s1, s2):\n",
    "    m, n = len(s1), len(s2)\n",
    "    dp = [[0] * (n+1) for _ in range(m+1)]\n",
    "\n",
    "    for i in range(1, m+1):\n",
    "        dp[i][0] = dp[i-1][0] + ord(s1[i-1])\n",
    "\n",
    "    for j in range(1, n+1):\n",
    "        dp[0][j] = dp[0][j-1] + ord(s2[j-1])\n",
    "\n",
    "    for i in range(1, m+1):\n",
    "        for j in range(1, n+1):\n",
    "            if s1[i-1] == s2[j-1]:\n",
    "                dp[i][j] = dp[i-1][j-1]\n",
    "            else:\n",
    "                dp[i][j] = max(dp[i-1][j], dp[i][j-1])\n",
    "\n",
    "    return sum(ord(char) for char in s1 + s2) - 2 * dp[m][n]\n",
    "\n",
    "s1 = \"sea\"\n",
    "s2 = \"eat\"\n",
    "print(minimumDeleteSum(s1, s2))  "
   ]
  },
  {
   "cell_type": "markdown",
   "id": "8b26007b-0b4f-4bc4-a191-1fc79d6eb928",
   "metadata": {},
   "source": [
    "## Question 2"
   ]
  },
  {
   "cell_type": "code",
   "execution_count": 2,
   "id": "9611b090-3d46-4711-86b8-dae460d96921",
   "metadata": {},
   "outputs": [
    {
     "name": "stdout",
     "output_type": "stream",
     "text": [
      "True\n"
     ]
    }
   ],
   "source": [
    "def checkValidString(s):\n",
    "    paren_stack = []\n",
    "\n",
    "    for c in s:\n",
    "        if c == '(' or c == '*':\n",
    "            paren_stack.append(c)\n",
    "        elif c == ')':\n",
    "            if paren_stack and paren_stack[-1] == '(':\n",
    "                paren_stack.pop()\n",
    "            elif paren_stack and paren_stack[-1] == '*':\n",
    "                paren_stack.pop()\n",
    "            else:\n",
    "                return False\n",
    "\n",
    "    while paren_stack:\n",
    "        if paren_stack[-1] == '(':\n",
    "            return False\n",
    "        paren_stack.pop()\n",
    "\n",
    "    return True\n",
    "s = \"()\"\n",
    "print(checkValidString(s)) "
   ]
  },
  {
   "cell_type": "markdown",
   "id": "e1c5b44d-77c0-4ac5-8f1a-c00b9963fd22",
   "metadata": {},
   "source": [
    "## Question 3"
   ]
  },
  {
   "cell_type": "code",
   "execution_count": 3,
   "id": "c6861855-339e-4185-986a-02d2aad2792a",
   "metadata": {},
   "outputs": [
    {
     "name": "stdout",
     "output_type": "stream",
     "text": [
      "2\n"
     ]
    }
   ],
   "source": [
    "def minDistance(word1, word2):\n",
    "    m, n = len(word1), len(word2)\n",
    "    dp = [[0] * (n+1) for _ in range(m+1)]\n",
    "\n",
    "    for i in range(1, m+1):\n",
    "        for j in range(1, n+1):\n",
    "            if word1[i-1] == word2[j-1]:\n",
    "                dp[i][j] = dp[i-1][j-1] + 1\n",
    "            else:\n",
    "                dp[i][j] = max(dp[i-1][j], dp[i][j-1])\n",
    "\n",
    "    return (m + n) - 2 * dp[m][n]\n",
    "word1 = \"sea\"\n",
    "word2 = \"eat\"\n",
    "print(minDistance(word1, word2))  "
   ]
  },
  {
   "cell_type": "markdown",
   "id": "3687f3f3-bfb5-4229-b7ad-71bd59c909e3",
   "metadata": {},
   "source": [
    "## Question 4"
   ]
  },
  {
   "cell_type": "code",
   "execution_count": 4,
   "id": "25165e0f-0cbb-4e44-9f8a-3a956489496f",
   "metadata": {},
   "outputs": [
    {
     "name": "stdout",
     "output_type": "stream",
     "text": [
      "[3, 2, 1, 4, 5, 6]\n"
     ]
    }
   ],
   "source": [
    "class TreeNode:\n",
    "    def __init__(self, value):\n",
    "        self.val = value\n",
    "        self.left = None\n",
    "        self.right = None\n",
    "\n",
    "def constructTree(s):\n",
    "    if not s:\n",
    "        return None\n",
    "\n",
    "    root_val = \"\"\n",
    "    i = 0\n",
    "    while i < len(s) and s[i] != \"(\":\n",
    "        root_val += s[i]\n",
    "        i += 1\n",
    "\n",
    "    root = TreeNode(int(root_val))\n",
    "\n",
    "    if i < len(s):\n",
    "        count = 0\n",
    "        j = i\n",
    "        while j < len(s):\n",
    "            if s[j] == \"(\":\n",
    "                count += 1\n",
    "            elif s[j] == \")\":\n",
    "                count -= 1\n",
    "\n",
    "            if count == 0:\n",
    "                break\n",
    "            j += 1\n",
    "\n",
    "        left_subtree = s[i+1:j]\n",
    "        right_subtree = s[j+2:-1]\n",
    "\n",
    "        root.left = constructTree(left_subtree)\n",
    "        root.right = constructTree(right_subtree)\n",
    "\n",
    "    return root\n",
    "\n",
    "def inorderTraversal(root):\n",
    "    result = []\n",
    "    if root:\n",
    "        result.extend(inorderTraversal(root.left))\n",
    "        result.append(root.val)\n",
    "        result.extend(inorderTraversal(root.right))\n",
    "    return result\n",
    "\n",
    "def constructBinaryTree(s):\n",
    "    root = constructTree(s)\n",
    "    values = inorderTraversal(root)\n",
    "    return values\n",
    "\n",
    "s = \"4(2(3)(1))(6(5))\"\n",
    "print(constructBinaryTree(s))  "
   ]
  },
  {
   "cell_type": "markdown",
   "id": "dffc2624-ba6f-44f3-bec0-f54a41a96b42",
   "metadata": {},
   "source": [
    "## Question 5"
   ]
  },
  {
   "cell_type": "code",
   "execution_count": 5,
   "id": "ae968418-11ff-4280-a055-80002c080b60",
   "metadata": {},
   "outputs": [
    {
     "name": "stdout",
     "output_type": "stream",
     "text": [
      "6\n"
     ]
    }
   ],
   "source": [
    "def compress(chars):\n",
    "    read, write = 0, 0\n",
    "    count = 1\n",
    "\n",
    "    for i in range(1, len(chars)):\n",
    "        if chars[i] == chars[i-1]:\n",
    "            count += 1\n",
    "        else:\n",
    "            chars[write] = chars[read]\n",
    "            write += 1\n",
    "            if count > 1:\n",
    "                count_str = str(count)\n",
    "                for digit in count_str:\n",
    "                    chars[write] = digit\n",
    "                    write += 1\n",
    "            count = 1\n",
    "            read = i\n",
    "\n",
    "    chars[write] = chars[read]\n",
    "    write += 1\n",
    "    if count > 1:\n",
    "        count_str = str(count)\n",
    "        for digit in count_str:\n",
    "            chars[write] = digit\n",
    "            write += 1\n",
    "\n",
    "    return write\n",
    "chars = [\"a\", \"a\", \"b\", \"b\", \"c\", \"c\", \"c\"]\n",
    "print(compress(chars)) "
   ]
  },
  {
   "cell_type": "markdown",
   "id": "a3dc190c-0e9d-48b6-8d8c-36e0de300a9b",
   "metadata": {},
   "source": [
    "## Question 6"
   ]
  },
  {
   "cell_type": "code",
   "execution_count": 6,
   "id": "f7d0e365-c47c-47bc-adb4-c40ecf37b720",
   "metadata": {},
   "outputs": [
    {
     "name": "stdout",
     "output_type": "stream",
     "text": [
      "[0, 6]\n"
     ]
    }
   ],
   "source": [
    "from collections import Counter\n",
    "\n",
    "def findAnagrams(s, p):\n",
    "    target_freq = Counter(p)\n",
    "    window_freq = Counter()\n",
    "    left = 0\n",
    "    matched = 0\n",
    "    result = []\n",
    "\n",
    "    for right in range(len(s)):\n",
    "        char = s[right]\n",
    "        window_freq[char] += 1\n",
    "\n",
    "        if window_freq[char] == target_freq[char]:\n",
    "            matched += 1\n",
    "\n",
    "        if right - left + 1 > len(p):\n",
    "            left_char = s[left]\n",
    "            if window_freq[left_char] == target_freq[left_char]:\n",
    "                matched -= 1\n",
    "            window_freq[left_char] -= 1\n",
    "            left += 1\n",
    "\n",
    "        if matched == len(target_freq):\n",
    "            result.append(left)\n",
    "\n",
    "    return result\n",
    "s = \"cbaebabacd\"\n",
    "p = \"abc\"\n",
    "print(findAnagrams(s, p))  "
   ]
  },
  {
   "cell_type": "markdown",
   "id": "5a7ba255-6269-47c4-a1bd-f1522846d281",
   "metadata": {},
   "source": [
    "## Question 7"
   ]
  },
  {
   "cell_type": "code",
   "execution_count": 7,
   "id": "fc7b08af-00a6-41a5-a8a1-9a69c4206668",
   "metadata": {},
   "outputs": [
    {
     "name": "stdout",
     "output_type": "stream",
     "text": [
      "aaabcbc\n"
     ]
    }
   ],
   "source": [
    "def decodeString(s):\n",
    "    stack = []\n",
    "    current_string = \"\"\n",
    "    multiplier = 0\n",
    "\n",
    "    for c in s:\n",
    "        if c.isdigit():\n",
    "            multiplier = multiplier * 10 + int(c)\n",
    "        elif c == '[':\n",
    "            stack.append((current_string, multiplier))\n",
    "            current_string = \"\"\n",
    "            multiplier = 0\n",
    "        elif c == ']':\n",
    "            prev_string, prev_multiplier = stack.pop()\n",
    "            current_string = prev_string + current_string * prev_multiplier\n",
    "        else:\n",
    "            current_string += c\n",
    "\n",
    "    return current_string\n",
    "\n",
    "s = \"3[a]2[bc]\"\n",
    "print(decodeString(s))  "
   ]
  },
  {
   "cell_type": "markdown",
   "id": "8dcec161-f2c5-46ee-9f8d-fa565bad3d64",
   "metadata": {},
   "source": [
    "## Question 8"
   ]
  },
  {
   "cell_type": "code",
   "execution_count": 8,
   "id": "90b68131-000b-48e0-9582-aef9ab2ddad1",
   "metadata": {},
   "outputs": [
    {
     "name": "stdout",
     "output_type": "stream",
     "text": [
      "True\n"
     ]
    }
   ],
   "source": [
    "def buddyStrings(s, goal):\n",
    "    if len(s) != len(goal):\n",
    "        return False\n",
    "\n",
    "    diff_indices = []\n",
    "    diff_chars = []\n",
    "\n",
    "    for i, (c1, c2) in enumerate(zip(s, goal)):\n",
    "        if c1 != c2:\n",
    "            diff_indices.append(i)\n",
    "            diff_chars.append(c1)\n",
    "\n",
    "    if len(diff_indices) != 2:\n",
    "        return False\n",
    "\n",
    "    return s[diff_indices[0]] == goal[diff_indices[1]] and s[diff_indices[1]] == goal[diff_indices[0]]\n",
    "s = \"ab\"\n",
    "goal = \"ba\"\n",
    "print(buddyStrings(s, goal))  "
   ]
  }
 ],
 "metadata": {
  "kernelspec": {
   "display_name": "Python 3 (ipykernel)",
   "language": "python",
   "name": "python3"
  },
  "language_info": {
   "codemirror_mode": {
    "name": "ipython",
    "version": 3
   },
   "file_extension": ".py",
   "mimetype": "text/x-python",
   "name": "python",
   "nbconvert_exporter": "python",
   "pygments_lexer": "ipython3",
   "version": "3.9.9"
  }
 },
 "nbformat": 4,
 "nbformat_minor": 5
}
