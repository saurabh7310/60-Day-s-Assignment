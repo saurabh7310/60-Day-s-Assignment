{
 "cells": [
  {
   "cell_type": "markdown",
   "id": "e8e5d69b-d82d-49c8-bb0d-ef10e5545db9",
   "metadata": {},
   "source": [
    "## Question 1"
   ]
  },
  {
   "cell_type": "code",
   "execution_count": 1,
   "id": "7f780df0-388b-4208-a022-8ba8d3134030",
   "metadata": {},
   "outputs": [
    {
     "name": "stdout",
     "output_type": "stream",
     "text": [
      "[[1, 6], [8, 10], [15, 18]]\n",
      "[[1, 5]]\n"
     ]
    }
   ],
   "source": [
    "def merge_intervals(intervals):\n",
    "    if not intervals:\n",
    "        return []\n",
    "    \n",
    "    intervals.sort(key=lambda x: x[0])  # Sort intervals based on start times\n",
    "    merged = [intervals[0]]  # Initialize result list with the first interval\n",
    "    \n",
    "    for interval in intervals[1:]:\n",
    "        if interval[0] <= merged[-1][1]:  # Overlapping intervals\n",
    "            merged[-1][1] = max(merged[-1][1], interval[1])  # Merge by updating the end time\n",
    "        else:\n",
    "            merged.append(interval)  # Non-overlapping interval, add it to the result list\n",
    "    \n",
    "    return merged\n",
    "\n",
    "# Example usage\n",
    "intervals = [[1, 3], [2, 6], [8, 10], [15, 18]]\n",
    "merged_intervals = merge_intervals(intervals)\n",
    "print(merged_intervals)  # Output: [[1, 6], [8, 10], [15, 18]]\n",
    "\n",
    "intervals = [[1, 4], [4, 5]]\n",
    "merged_intervals = merge_intervals(intervals)\n",
    "print(merged_intervals)  # Output: [[1, 5]]\n"
   ]
  },
  {
   "cell_type": "markdown",
   "id": "04eb04e1-a13e-4295-8b58-5e865abd5deb",
   "metadata": {},
   "source": [
    "## Question 2"
   ]
  },
  {
   "cell_type": "code",
   "execution_count": 2,
   "id": "d5adf801-6fba-4989-83dc-af987c50fb1b",
   "metadata": {},
   "outputs": [
    {
     "name": "stdout",
     "output_type": "stream",
     "text": [
      "[0, 0, 1, 1, 2, 2]\n",
      "[0, 1, 2]\n"
     ]
    }
   ],
   "source": [
    "def sortColors(nums):\n",
    "    left, mid, right = 0, 0, len(nums) - 1\n",
    "    \n",
    "    while mid <= right:\n",
    "        if nums[mid] == 0:\n",
    "            nums[left], nums[mid] = nums[mid], nums[left]\n",
    "            left += 1\n",
    "            mid += 1\n",
    "        elif nums[mid] == 1:\n",
    "            mid += 1\n",
    "        else:  # nums[mid] == 2\n",
    "            nums[mid], nums[right] = nums[right], nums[mid]\n",
    "            right -= 1\n",
    "    \n",
    "    return nums\n",
    "nums = [2, 0, 2, 1, 1, 0]\n",
    "sorted_nums = sortColors(nums)\n",
    "print(sorted_nums)  # Output: [0, 0, 1, 1, 2, 2]\n",
    "\n",
    "nums = [2, 0, 1]\n",
    "sorted_nums = sortColors(nums)\n",
    "print(sorted_nums)  # Output: [0, 1, 2]\n"
   ]
  },
  {
   "cell_type": "markdown",
   "id": "a4616df1-dfed-445a-a9d4-c9d3ddf9a1be",
   "metadata": {},
   "source": [
    "## Question 3"
   ]
  },
  {
   "cell_type": "code",
   "execution_count": null,
   "id": "4035f2f6-7c32-4ba8-9dbe-a65509aa961e",
   "metadata": {},
   "outputs": [],
   "source": [
    "def firstBadVersion(n):\n",
    "    left, right = 1, n\n",
    "\n",
    "    while left < right:\n",
    "        mid = left + (right - left) // 2\n",
    "        if isBadVersion(mid):\n",
    "            right = mid\n",
    "        else:\n",
    "            left = mid + 1\n",
    "\n",
    "    return left\n",
    "n = 5\n",
    "bad = 4\n",
    "first_bad = firstBadVersion(n)\n",
    "print(first_bad)  # Output: 4\n",
    "\n",
    "n = 1\n",
    "bad = 1\n",
    "first_bad = firstBadVersion(n)\n",
    "print(first_bad)  # Output: 1\n"
   ]
  },
  {
   "cell_type": "markdown",
   "id": "14c79809-83f7-49d2-a367-0ae6d0758413",
   "metadata": {},
   "source": [
    "## Question 4"
   ]
  },
  {
   "cell_type": "code",
   "execution_count": 4,
   "id": "6efcfe4b-bd2d-41fa-a5c2-18b836d1c7f8",
   "metadata": {},
   "outputs": [
    {
     "name": "stdout",
     "output_type": "stream",
     "text": [
      "3\n",
      "0\n"
     ]
    }
   ],
   "source": [
    "def maximumGap(nums):\n",
    "    if len(nums) < 2:\n",
    "        return 0\n",
    "\n",
    "    max_num = max(nums)\n",
    "    exp = 1\n",
    "    output = [0] * len(nums)\n",
    "\n",
    "    while max_num // exp > 0:\n",
    "        count = [0] * 10\n",
    "\n",
    "        for num in nums:\n",
    "            digit = (num // exp) % 10\n",
    "            count[digit] += 1\n",
    "\n",
    "        cum_count = [0] * 10\n",
    "        for i in range(1, 10):\n",
    "            cum_count[i] = cum_count[i - 1] + count[i - 1]\n",
    "\n",
    "        for i in range(len(nums) - 1, -1, -1):\n",
    "            num = nums[i]\n",
    "            digit = (num // exp) % 10\n",
    "            output[cum_count[digit]] = num\n",
    "            cum_count[digit] += 1\n",
    "\n",
    "        nums = output.copy()\n",
    "        exp *= 10\n",
    "\n",
    "    max_diff = 0\n",
    "    for i in range(1, len(nums)):\n",
    "        diff = nums[i] - nums[i - 1]\n",
    "        max_diff = max(max_diff, diff)\n",
    "\n",
    "    return max_diff\n",
    "nums = [3, 6, 9, 1]\n",
    "max_gap = maximumGap(nums)\n",
    "print(max_gap)  # Output: 3\n",
    "\n",
    "nums = [10]\n",
    "max_gap = maximumGap(nums)\n",
    "print(max_gap)  # Output: 0\n"
   ]
  },
  {
   "cell_type": "markdown",
   "id": "c3f20bdf-f64c-4cc7-a0ac-9663ad18a9ec",
   "metadata": {},
   "source": [
    "## Question 5"
   ]
  },
  {
   "cell_type": "code",
   "execution_count": 5,
   "id": "eae5ca4e-838f-456b-9f36-28873d059449",
   "metadata": {},
   "outputs": [
    {
     "name": "stdout",
     "output_type": "stream",
     "text": [
      "True\n",
      "False\n",
      "True\n"
     ]
    }
   ],
   "source": [
    "def containsDuplicate(nums):\n",
    "    unique = set()\n",
    "\n",
    "    for num in nums:\n",
    "        if num in unique:\n",
    "            return True\n",
    "        unique.add(num)\n",
    "\n",
    "    return False\n",
    "nums = [1, 2, 3, 1]\n",
    "contains_dup = containsDuplicate(nums)\n",
    "print(contains_dup)  # Output: True\n",
    "\n",
    "nums = [1, 2, 3, 4]\n",
    "contains_dup = containsDuplicate(nums)\n",
    "print(contains_dup)  # Output: False\n",
    "\n",
    "nums = [1, 1, 1, 3, 3, 4, 3, 2, 4, 2]\n",
    "contains_dup = containsDuplicate(nums)\n",
    "print(contains_dup)  # Output: True\n"
   ]
  },
  {
   "cell_type": "markdown",
   "id": "79e98255-4a2a-41b6-89be-928d28f2d5ae",
   "metadata": {},
   "source": [
    "## Question 6"
   ]
  },
  {
   "cell_type": "code",
   "execution_count": 6,
   "id": "d40db5aa-7db6-45d0-a4dd-cf50fdffe136",
   "metadata": {},
   "outputs": [
    {
     "name": "stdout",
     "output_type": "stream",
     "text": [
      "2\n",
      "4\n"
     ]
    }
   ],
   "source": [
    "def findMinArrowShots(points):\n",
    "    if not points:\n",
    "        return 0\n",
    "\n",
    "    points.sort(key=lambda x: x[1])  # Sort based on ending position\n",
    "    end = points[0][1]\n",
    "    arrows = 1\n",
    "\n",
    "    for i in range(1, len(points)):\n",
    "        if points[i][0] > end:\n",
    "            arrows += 1\n",
    "            end = points[i][1]\n",
    "\n",
    "    return arrows\n",
    "points = [[10, 16], [2, 8], [1, 6], [7, 12]]\n",
    "min_arrows = findMinArrowShots(points)\n",
    "print(min_arrows)  # Output: 2\n",
    "\n",
    "points = [[1, 2], [3, 4], [5, 6], [7, 8]]\n",
    "min_arrows = findMinArrowShots(points)\n",
    "print(min_arrows)  # Output: 4\n"
   ]
  },
  {
   "cell_type": "markdown",
   "id": "74d2762f-b8cb-4ecc-a0d8-f8ad7efbf7ab",
   "metadata": {},
   "source": [
    "## Question 7"
   ]
  },
  {
   "cell_type": "code",
   "execution_count": 7,
   "id": "4b64c388-b867-47b9-997d-fb5f0bd61bc2",
   "metadata": {},
   "outputs": [
    {
     "name": "stdout",
     "output_type": "stream",
     "text": [
      "4\n",
      "4\n",
      "1\n"
     ]
    }
   ],
   "source": [
    "def lengthOfLIS(nums):\n",
    "    n = len(nums)\n",
    "    dp = [1] * n\n",
    "\n",
    "    for i in range(1, n):\n",
    "        for j in range(i):\n",
    "            if nums[i] > nums[j]:\n",
    "                dp[i] = max(dp[i], dp[j] + 1)\n",
    "\n",
    "    return max(dp)\n",
    "\n",
    "nums = [10, 9, 2, 5, 3, 7, 101, 18]\n",
    "length = lengthOfLIS(nums)\n",
    "print(length)  # Output: 4\n",
    "\n",
    "nums = [0, 1, 0, 3, 2, 3]\n",
    "length = lengthOfLIS(nums)\n",
    "print(length)  # Output: 4\n",
    "\n",
    "nums = [7, 7, 7, 7, 7, 7, 7]\n",
    "length = lengthOfLIS(nums)\n",
    "print(length)  # Output: 1\n"
   ]
  },
  {
   "cell_type": "markdown",
   "id": "88fc63c7-d909-4df3-92ad-e4399fe2b57d",
   "metadata": {},
   "source": [
    "## Question 8"
   ]
  },
  {
   "cell_type": "code",
   "execution_count": 8,
   "id": "933bdad4-ea73-45f2-919c-eb1af1be688a",
   "metadata": {},
   "outputs": [
    {
     "name": "stdout",
     "output_type": "stream",
     "text": [
      "True\n",
      "True\n",
      "True\n"
     ]
    }
   ],
   "source": [
    "def find132pattern(nums):\n",
    "    stack = []\n",
    "    max_2 = float('-inf')\n",
    "\n",
    "    for num in reversed(nums):\n",
    "        if num > max_2:\n",
    "            return True\n",
    "\n",
    "        while stack and stack[-1] < num:\n",
    "            max_2 = max(max_2, stack.pop())\n",
    "\n",
    "        stack.append(num)\n",
    "\n",
    "    return False\n",
    "nums = [1, 2, 3, 4]\n",
    "pattern_found = find132pattern(nums)\n",
    "print(pattern_found)  # Output: False\n",
    "\n",
    "nums = [3, 1, 4, 2]\n",
    "pattern_found = find132pattern(nums)\n",
    "print(pattern_found)  # Output: True\n",
    "\n",
    "nums = [-1, 3, 2, 0]\n",
    "pattern_found = find132pattern(nums)\n",
    "print(pattern_found)  # Output: True\n"
   ]
  }
 ],
 "metadata": {
  "kernelspec": {
   "display_name": "Python 3 (ipykernel)",
   "language": "python",
   "name": "python3"
  },
  "language_info": {
   "codemirror_mode": {
    "name": "ipython",
    "version": 3
   },
   "file_extension": ".py",
   "mimetype": "text/x-python",
   "name": "python",
   "nbconvert_exporter": "python",
   "pygments_lexer": "ipython3",
   "version": "3.9.9"
  }
 },
 "nbformat": 4,
 "nbformat_minor": 5
}
