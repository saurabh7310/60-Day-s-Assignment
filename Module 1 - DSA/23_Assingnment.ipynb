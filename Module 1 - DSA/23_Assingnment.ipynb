{
 "cells": [
  {
   "cell_type": "markdown",
   "id": "123990b7-96f8-4483-8798-534baf31fae5",
   "metadata": {},
   "source": [
    "## Question 1"
   ]
  },
  {
   "cell_type": "code",
   "execution_count": 1,
   "id": "5abef83f-38b9-45ab-839e-a81318518cef",
   "metadata": {},
   "outputs": [
    {
     "name": "stdout",
     "output_type": "stream",
     "text": [
      "Output:\n",
      "1\n"
     ]
    }
   ],
   "source": [
    "def calculate_depth(preorder):\n",
    "    if not preorder:\n",
    "        return 0\n",
    "\n",
    "    if preorder[0] == 'l':\n",
    "        return 0\n",
    "\n",
    "    left_subtree_depth = calculate_depth(preorder[1:])\n",
    "    right_subtree_depth = calculate_depth(preorder[1 + left_subtree_depth:])\n",
    "    return max(left_subtree_depth, right_subtree_depth) + 1\n",
    "\n",
    "\n",
    "# Example usage:\n",
    "preorder = 'nlnll'\n",
    "depth = calculate_depth(preorder)\n",
    "print(\"Output:\")\n",
    "print(depth)\n"
   ]
  },
  {
   "cell_type": "markdown",
   "id": "eba78140-2134-44da-b2bf-8fec3b44bed8",
   "metadata": {},
   "source": [
    "## Question 2"
   ]
  },
  {
   "cell_type": "code",
   "execution_count": 2,
   "id": "63a6fca6-201a-4591-be74-a8da3c29564f",
   "metadata": {},
   "outputs": [
    {
     "name": "stdout",
     "output_type": "stream",
     "text": [
      "Output:\n",
      "4 5 3 6 "
     ]
    }
   ],
   "source": [
    "from collections import deque\n",
    "\n",
    "\n",
    "class Node:\n",
    "    def __init__(self, value):\n",
    "        self.value = value\n",
    "        self.left = None\n",
    "        self.right = None\n",
    "\n",
    "\n",
    "def print_left_view(root):\n",
    "    if root is None:\n",
    "        return\n",
    "\n",
    "    queue = deque()\n",
    "    queue.append(root)\n",
    "\n",
    "    while queue:\n",
    "        level_size = len(queue)\n",
    "\n",
    "        print(queue[0].value, end=\" \")\n",
    "\n",
    "        for _ in range(level_size):\n",
    "            node = queue.popleft()\n",
    "\n",
    "            if node.left:\n",
    "                queue.append(node.left)\n",
    "            if node.right:\n",
    "                queue.append(node.right)\n",
    "\n",
    "\n",
    "# Example usage:\n",
    "# Constructing the binary tree from the example\n",
    "root = Node(4)\n",
    "root.left = Node(5)\n",
    "root.right = Node(2)\n",
    "root.right.left = Node(3)\n",
    "root.right.right = Node(1)\n",
    "root.right.left.left = Node(6)\n",
    "root.right.left.right = Node(7)\n",
    "\n",
    "# Print the left view of the binary tree\n",
    "print(\"Output:\")\n",
    "print_left_view(root)\n"
   ]
  },
  {
   "cell_type": "markdown",
   "id": "8fcdeb32-9b2d-4d7e-bc47-1886f98bf436",
   "metadata": {},
   "source": [
    "## Question 3"
   ]
  },
  {
   "cell_type": "code",
   "execution_count": 3,
   "id": "981f18c0-32c3-48e9-aa7f-282b8e02db70",
   "metadata": {},
   "outputs": [
    {
     "name": "stdout",
     "output_type": "stream",
     "text": [
      "Output:\n",
      "1 3 7 8 \n",
      "Right view of the tree is: 1 8 7 "
     ]
    }
   ],
   "source": [
    "from collections import deque\n",
    "\n",
    "\n",
    "class Node:\n",
    "    def __init__(self, value):\n",
    "        self.value = value\n",
    "        self.left = None\n",
    "        self.right = None\n",
    "\n",
    "\n",
    "def print_right_view(root):\n",
    "    if root is None:\n",
    "        return\n",
    "\n",
    "    queue = deque()\n",
    "    queue.append(root)\n",
    "\n",
    "    while queue:\n",
    "        level_size = len(queue)\n",
    "\n",
    "        for level_index in range(level_size):\n",
    "            node = queue.popleft()\n",
    "\n",
    "            if level_index == level_size - 1:\n",
    "                print(node.value, end=\" \")\n",
    "\n",
    "            if node.left:\n",
    "                queue.append(node.left)\n",
    "            if node.right:\n",
    "                queue.append(node.right)\n",
    "\n",
    "\n",
    "# Example usage:\n",
    "# Constructing the binary tree from the first example\n",
    "root = Node(1)\n",
    "root.left = Node(2)\n",
    "root.right = Node(3)\n",
    "root.left.left = Node(4)\n",
    "root.left.right = Node(5)\n",
    "root.right.left = Node(6)\n",
    "root.right.right = Node(7)\n",
    "root.right.right.right = Node(8)\n",
    "\n",
    "# Print the right view of the binary tree\n",
    "print(\"Output:\")\n",
    "print_right_view(root)\n",
    "\n",
    "# Constructing the binary tree from the second example\n",
    "root = Node(1)\n",
    "root.left = Node(8)\n",
    "root.left.left = Node(7)\n",
    "\n",
    "# Print the right view of the binary tree\n",
    "print(\"\\nRight view of the tree is:\", end=\" \")\n",
    "print_right_view(root)\n"
   ]
  },
  {
   "cell_type": "markdown",
   "id": "17d9ee12-3eb4-4157-b078-2d44592fa753",
   "metadata": {},
   "source": [
    "## Question 4"
   ]
  },
  {
   "cell_type": "code",
   "execution_count": 4,
   "id": "4c734cb0-b030-483c-8bbd-09e3a5e05dba",
   "metadata": {},
   "outputs": [
    {
     "name": "stdout",
     "output_type": "stream",
     "text": [
      "Output:\n",
      "Bottom view of the tree is: 5 10 3 14 25 \n",
      "\n",
      "Bottom view of the tree is: Bottom view of the tree is: 5 10 4 14 25 \n"
     ]
    }
   ],
   "source": [
    "from collections import deque\n",
    "\n",
    "\n",
    "class Node:\n",
    "    def __init__(self, value):\n",
    "        self.value = value\n",
    "        self.left = None\n",
    "        self.right = None\n",
    "\n",
    "\n",
    "class QueueNode:\n",
    "    def __init__(self, node, hd):\n",
    "        self.node = node\n",
    "        self.hd = hd\n",
    "\n",
    "\n",
    "def print_bottom_view(root):\n",
    "    if root is None:\n",
    "        return\n",
    "\n",
    "    queue = deque()\n",
    "    queue.append(QueueNode(root, 0))\n",
    "\n",
    "    bottom_view = {}\n",
    "\n",
    "    while queue:\n",
    "        qnode = queue.popleft()\n",
    "        node = qnode.node\n",
    "        hd = qnode.hd\n",
    "\n",
    "        bottom_view[hd] = node.value\n",
    "\n",
    "        if node.left:\n",
    "            queue.append(QueueNode(node.left, hd - 1))\n",
    "        if node.right:\n",
    "            queue.append(QueueNode(node.right, hd + 1))\n",
    "\n",
    "    sorted_hds = sorted(bottom_view.keys())\n",
    "\n",
    "    print(\"Bottom view of the tree is:\", end=\" \")\n",
    "    for hd in sorted_hds:\n",
    "        print(bottom_view[hd], end=\" \")\n",
    "    print()\n",
    "\n",
    "\n",
    "# Example usage:\n",
    "# Constructing the binary tree from the first example\n",
    "root = Node(20)\n",
    "root.left = Node(8)\n",
    "root.right = Node(22)\n",
    "root.left.left = Node(5)\n",
    "root.left.right = Node(3)\n",
    "root.right.right = Node(25)\n",
    "root.left.right.left = Node(10)\n",
    "root.left.right.right = Node(14)\n",
    "\n",
    "# Print the bottom view of the binary tree\n",
    "print(\"Output:\")\n",
    "print_bottom_view(root)\n",
    "\n",
    "# Constructing the binary tree from the second example\n",
    "root = Node(20)\n",
    "root.left = Node(8)\n",
    "root.right = Node(22)\n",
    "root.left.left = Node(5)\n",
    "root.left.right = Node(3)\n",
    "root.right.left = Node(4)\n",
    "root.right.right = Node(25)\n",
    "root.left.right.left = Node(10)\n",
    "root.left.right.right = Node(14)\n",
    "\n",
    "# Print the bottom view of the binary tree\n",
    "print(\"\\nBottom view of the tree is:\", end=\" \")\n",
    "print_bottom_view(root)\n"
   ]
  }
 ],
 "metadata": {
  "kernelspec": {
   "display_name": "Python 3 (ipykernel)",
   "language": "python",
   "name": "python3"
  },
  "language_info": {
   "codemirror_mode": {
    "name": "ipython",
    "version": 3
   },
   "file_extension": ".py",
   "mimetype": "text/x-python",
   "name": "python",
   "nbconvert_exporter": "python",
   "pygments_lexer": "ipython3",
   "version": "3.9.9"
  }
 },
 "nbformat": 4,
 "nbformat_minor": 5
}
