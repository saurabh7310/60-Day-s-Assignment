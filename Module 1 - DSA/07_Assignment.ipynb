{
 "cells": [
  {
   "cell_type": "markdown",
   "id": "d0d7b7ce-5db5-4d24-83ed-f721a1691118",
   "metadata": {},
   "source": [
    "## Question 1"
   ]
  },
  {
   "cell_type": "code",
   "execution_count": 1,
   "id": "37bf48da-070b-41f8-8b5e-1f1a9467fded",
   "metadata": {},
   "outputs": [
    {
     "name": "stdout",
     "output_type": "stream",
     "text": [
      "True\n"
     ]
    }
   ],
   "source": [
    "def isIsomorphic(s, t):\n",
    "    if len(s) != len(t):\n",
    "        return False\n",
    "\n",
    "    s_to_t = {}\n",
    "    t_to_s = {}\n",
    "\n",
    "    for c1, c2 in zip(s, t):\n",
    "        if (c1 in s_to_t and s_to_t[c1] != c2) or (c2 in t_to_s and t_to_s[c2] != c1):\n",
    "            return False\n",
    "\n",
    "        s_to_t[c1] = c2\n",
    "        t_to_s[c2] = c1\n",
    "\n",
    "    return True\n",
    "s = \"egg\"\n",
    "t = \"add\"\n",
    "print(isIsomorphic(s, t))"
   ]
  },
  {
   "cell_type": "markdown",
   "id": "652bad19-9d0d-4f87-ba3f-1c04bea946aa",
   "metadata": {},
   "source": [
    "## Question 2"
   ]
  },
  {
   "cell_type": "code",
   "execution_count": 2,
   "id": "a2e3e29e-c31b-4e55-b9eb-81230a60dc05",
   "metadata": {},
   "outputs": [
    {
     "name": "stdout",
     "output_type": "stream",
     "text": [
      "True\n"
     ]
    }
   ],
   "source": [
    "def isStrobogrammatic(num):\n",
    "    mapping = {'6': '9', '9': '6', '0': '0', '1': '1', '8': '8'}\n",
    "    left, right = 0, len(num) - 1\n",
    "\n",
    "    while left <= right:\n",
    "        if num[left] not in mapping or mapping[num[left]] != num[right]:\n",
    "            return False\n",
    "        left += 1\n",
    "        right -= 1\n",
    "\n",
    "    return True\n",
    "num = \"69\"\n",
    "print(isStrobogrammatic(num))  "
   ]
  },
  {
   "cell_type": "markdown",
   "id": "3d26cc74-a3df-4a8e-a453-f527c84c4fcb",
   "metadata": {},
   "source": [
    "## Question 3"
   ]
  },
  {
   "cell_type": "code",
   "execution_count": 3,
   "id": "01ab766b-448e-4422-b863-131d74147155",
   "metadata": {},
   "outputs": [
    {
     "name": "stdout",
     "output_type": "stream",
     "text": [
      "134\n"
     ]
    }
   ],
   "source": [
    "def addStrings(num1, num2):\n",
    "    result = \"\"\n",
    "    i, j = len(num1) - 1, len(num2) - 1\n",
    "    carry = 0\n",
    "\n",
    "    while i >= 0 or j >= 0:\n",
    "        digit1 = int(num1[i]) if i >= 0 else 0\n",
    "        digit2 = int(num2[j]) if j >= 0 else 0\n",
    "        current_sum = digit1 + digit2 + carry\n",
    "        result += str(current_sum % 10)\n",
    "        carry = current_sum // 10\n",
    "        i -= 1\n",
    "        j -= 1\n",
    "\n",
    "    if carry:\n",
    "        result += str(carry)\n",
    "\n",
    "    return result[::-1]\n",
    "num1 = \"11\"\n",
    "num2 = \"123\"\n",
    "print(addStrings(num1, num2))"
   ]
  },
  {
   "cell_type": "markdown",
   "id": "264b89ee-774a-418c-8f64-81aab7bf31e2",
   "metadata": {},
   "source": [
    "## Question 4"
   ]
  },
  {
   "cell_type": "code",
   "execution_count": 4,
   "id": "f6c9f4c3-5ca5-49ef-b6dd-99bc8e459b70",
   "metadata": {},
   "outputs": [
    {
     "name": "stdout",
     "output_type": "stream",
     "text": [
      "s'teL ekat edoCteeL tsetnoc\n"
     ]
    }
   ],
   "source": [
    "def reverseWords(s):\n",
    "    words = s.split(\" \")\n",
    "\n",
    "    for i in range(len(words)):\n",
    "        words[i] = words[i][::-1]\n",
    "\n",
    "    return \" \".join(words)\n",
    "s = \"Let's take LeetCode contest\"\n",
    "print(reverseWords(s))  "
   ]
  },
  {
   "cell_type": "markdown",
   "id": "8cb40d93-902c-406a-adf9-1b1a68091062",
   "metadata": {},
   "source": [
    "## Question 5"
   ]
  },
  {
   "cell_type": "code",
   "execution_count": 5,
   "id": "dcf72f0f-a645-465c-a4dd-e6891ec08b62",
   "metadata": {},
   "outputs": [
    {
     "name": "stdout",
     "output_type": "stream",
     "text": [
      "bacdfeg\n"
     ]
    }
   ],
   "source": [
    "def reverseStr(s, k):\n",
    "    result = \"\"\n",
    "\n",
    "    for i in range(0, len(s), 2*k):\n",
    "        result += s[i:i+k][::-1]\n",
    "        result += s[i+k:i+2*k]\n",
    "\n",
    "    return result\n",
    "s = \"abcdefg\"\n",
    "k = 2\n",
    "print(reverseStr(s, k))  "
   ]
  },
  {
   "cell_type": "markdown",
   "id": "b375e6a3-35aa-42c8-ac35-1c09267a2529",
   "metadata": {},
   "source": [
    "## Question 6"
   ]
  },
  {
   "cell_type": "code",
   "execution_count": 6,
   "id": "a47fb7a3-565e-41a9-a8fb-0e557cd1dd68",
   "metadata": {},
   "outputs": [
    {
     "name": "stdout",
     "output_type": "stream",
     "text": [
      "True\n"
     ]
    }
   ],
   "source": [
    "def rotateString(s, goal):\n",
    "    if len(s) != len(goal):\n",
    "        return False\n",
    "\n",
    "    s_concat = s + s\n",
    "    if goal in s_concat:\n",
    "        return True\n",
    "\n",
    "    return False\n",
    "s = \"abcde\"\n",
    "goal = \"cdeab\"\n",
    "print(rotateString(s, goal))  "
   ]
  },
  {
   "cell_type": "markdown",
   "id": "67f51310-8422-4ee3-b823-64c608f30c97",
   "metadata": {},
   "source": [
    "## Question 7"
   ]
  },
  {
   "cell_type": "code",
   "execution_count": 7,
   "id": "b574b7a9-4ffb-497a-b410-9cefa6b52b58",
   "metadata": {},
   "outputs": [
    {
     "name": "stdout",
     "output_type": "stream",
     "text": [
      "True\n"
     ]
    }
   ],
   "source": [
    "def backspaceCompare(s, t):\n",
    "    stack_s = []\n",
    "    stack_t = []\n",
    "\n",
    "    for char in s:\n",
    "        if char != '#':\n",
    "            stack_s.append(char)\n",
    "        elif stack_s:\n",
    "            stack_s.pop()\n",
    "\n",
    "    for char in t:\n",
    "        if char != '#':\n",
    "            stack_t.append(char)\n",
    "        elif stack_t:\n",
    "            stack_t.pop()\n",
    "\n",
    "    return stack_s == stack_t\n",
    "s = \"ab#c\"\n",
    "t = \"ad#c\"\n",
    "print(backspaceCompare(s, t))  "
   ]
  },
  {
   "cell_type": "markdown",
   "id": "7c2f166a-2ae5-4d24-822e-c2a6c91ca376",
   "metadata": {},
   "source": [
    "## Question 8"
   ]
  },
  {
   "cell_type": "code",
   "execution_count": 8,
   "id": "17915f9e-f3bd-4b18-88e8-aeefe9a37372",
   "metadata": {},
   "outputs": [
    {
     "name": "stdout",
     "output_type": "stream",
     "text": [
      "True\n"
     ]
    }
   ],
   "source": [
    "def checkStraightLine(coordinates):\n",
    "    x_diff = coordinates[1][0] - coordinates[0][0]\n",
    "    y_diff = coordinates[1][1] - coordinates[0][1]\n",
    "\n",
    "    for i in range(2, len(coordinates)):\n",
    "        curr_x_diff = coordinates[i][0] - coordinates[i-1][0]\n",
    "        curr_y_diff = coordinates[i][1] - coordinates[i-1][1]\n",
    "\n",
    "        if x_diff * curr_y_diff != y_diff * curr_x_diff:\n",
    "            return False\n",
    "\n",
    "    return True\n",
    "coordinates = [[1, 2], [2, 3], [3, 4], [4, 5], [5, 6], [6, 7]]\n",
    "print(checkStraightLine(coordinates)) "
   ]
  },
  {
   "cell_type": "code",
   "execution_count": null,
   "id": "004e7a10-33bc-4903-ba6f-2dc614a11a70",
   "metadata": {},
   "outputs": [],
   "source": []
  }
 ],
 "metadata": {
  "kernelspec": {
   "display_name": "Python 3 (ipykernel)",
   "language": "python",
   "name": "python3"
  },
  "language_info": {
   "codemirror_mode": {
    "name": "ipython",
    "version": 3
   },
   "file_extension": ".py",
   "mimetype": "text/x-python",
   "name": "python",
   "nbconvert_exporter": "python",
   "pygments_lexer": "ipython3",
   "version": "3.9.9"
  }
 },
 "nbformat": 4,
 "nbformat_minor": 5
}
