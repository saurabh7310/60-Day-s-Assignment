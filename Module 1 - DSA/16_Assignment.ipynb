{
 "cells": [
  {
   "cell_type": "markdown",
   "id": "c2f829fe-6df3-4eb0-94a0-18ea30d6484e",
   "metadata": {},
   "source": [
    "## Question 1"
   ]
  },
  {
   "cell_type": "code",
   "execution_count": 1,
   "id": "a5ad2d70-25d7-41f9-a925-bef9c0c16fa8",
   "metadata": {},
   "outputs": [
    {
     "name": "stdout",
     "output_type": "stream",
     "text": [
      "[-1, -1, 1, 2, 2, 1, -1]\n"
     ]
    }
   ],
   "source": [
    "def nearestGreaterFrequency(arr):\n",
    "    # Calculate the frequency of each element in the array\n",
    "    frequency = {}\n",
    "    for num in arr:\n",
    "        frequency[num] = frequency.get(num, 0) + 1\n",
    "\n",
    "    stack = []\n",
    "    result = [-1] * len(arr)\n",
    "\n",
    "    for i in range(len(arr) - 1, -1, -1):\n",
    "        while stack and frequency[arr[i]] >= frequency[stack[-1]]:\n",
    "            stack.pop()\n",
    "\n",
    "        if stack:\n",
    "            result[i] = stack[-1]\n",
    "\n",
    "        stack.append(arr[i])\n",
    "\n",
    "    return result\n",
    "\n",
    "# Example usage\n",
    "arr = [1, 1, 2, 3, 4, 2, 1]\n",
    "print(nearestGreaterFrequency(arr))\n",
    "# Output: [-1, -1, 1, 2, 2, 1, -1]\n"
   ]
  },
  {
   "cell_type": "markdown",
   "id": "66866cee-628d-49bd-9bc4-1f57589b53ba",
   "metadata": {},
   "source": [
    "## Question 2"
   ]
  },
  {
   "cell_type": "code",
   "execution_count": 2,
   "id": "c7bbdad3-4b2b-49b1-8676-f82ebf936d9c",
   "metadata": {},
   "outputs": [
    {
     "name": "stdout",
     "output_type": "stream",
     "text": [
      "[98, 92, 34, 31, 23, 3]\n"
     ]
    }
   ],
   "source": [
    "def sortStack(stack):\n",
    "    tempStack = []\n",
    "\n",
    "    while stack:\n",
    "        temp = stack.pop()\n",
    "\n",
    "        while tempStack and tempStack[-1] > temp:\n",
    "            stack.append(tempStack.pop())\n",
    "\n",
    "        tempStack.append(temp)\n",
    "\n",
    "    while tempStack:\n",
    "        stack.append(tempStack.pop())\n",
    "\n",
    "# Example usage\n",
    "stack = [34, 3, 31, 98, 92, 23]\n",
    "sortStack(stack)\n",
    "print(stack)\n",
    "# Output: [3, 23, 31, 34, 92, 98]\n"
   ]
  },
  {
   "cell_type": "markdown",
   "id": "3fa6b5d6-99b7-40ff-b819-c0cd535e575e",
   "metadata": {},
   "source": [
    "## Question 3"
   ]
  },
  {
   "cell_type": "code",
   "execution_count": 3,
   "id": "67c82880-57a3-41c4-8657-f41e39c0d3bf",
   "metadata": {},
   "outputs": [
    {
     "name": "stdout",
     "output_type": "stream",
     "text": [
      "[1, 2, 4, 5]\n",
      "[1, 2, 3, 5, 6]\n"
     ]
    }
   ],
   "source": [
    "def deleteMiddle(stack):\n",
    "    size = len(stack)\n",
    "    mid = (size + 1) // 2\n",
    "\n",
    "    tempStack = []\n",
    "    for _ in range(mid - 1):\n",
    "        tempStack.append(stack.pop())\n",
    "\n",
    "    stack.pop()\n",
    "\n",
    "    while tempStack:\n",
    "        stack.append(tempStack.pop())\n",
    "\n",
    "# Example usage\n",
    "stack = [1, 2, 3, 4, 5]\n",
    "deleteMiddle(stack)\n",
    "print(stack)\n",
    "# Output: [1, 2, 4, 5]\n",
    "\n",
    "stack = [1, 2, 3, 4, 5, 6]\n",
    "deleteMiddle(stack)\n",
    "print(stack)\n",
    "# Output: [1, 2, 4, 5, 6]\n"
   ]
  },
  {
   "cell_type": "markdown",
   "id": "59d99034-d4fb-4975-bba6-c238fd7a5028",
   "metadata": {},
   "source": [
    "## Question 4"
   ]
  },
  {
   "cell_type": "code",
   "execution_count": 4,
   "id": "c8102dcd-c4ef-40ec-bc8e-c11ae3216dd6",
   "metadata": {},
   "outputs": [
    {
     "name": "stdout",
     "output_type": "stream",
     "text": [
      "Yes\n",
      "Yes\n"
     ]
    }
   ],
   "source": [
    "def checkQueue(arr):\n",
    "    stack = []\n",
    "    secondQueue = []\n",
    "\n",
    "    for element in arr:\n",
    "        while stack and stack[-1] < element:\n",
    "            secondQueue.append(stack.pop())\n",
    "        secondQueue.append(element)\n",
    "\n",
    "    while stack:\n",
    "        if stack[-1] > secondQueue[-1]:\n",
    "            return \"No\"\n",
    "        secondQueue.append(stack.pop())\n",
    "\n",
    "    return \"Yes\"\n",
    "\n",
    "# Example usage\n",
    "queue = [5, 1, 2, 3, 4]\n",
    "result = checkQueue(queue)\n",
    "print(result)\n",
    "# Output: Yes\n",
    "\n",
    "queue = [5, 1, 2, 6, 3, 4]\n",
    "result = checkQueue(queue)\n",
    "print(result)\n",
    "# Output: No\n"
   ]
  },
  {
   "cell_type": "markdown",
   "id": "5e45ec6a-bf0d-4b04-acd1-f47c3ba3b675",
   "metadata": {},
   "source": [
    "## Question 5"
   ]
  },
  {
   "cell_type": "code",
   "execution_count": 5,
   "id": "0941ba3f-f238-47d1-8236-a3df917e7608",
   "metadata": {},
   "outputs": [
    {
     "name": "stdout",
     "output_type": "stream",
     "text": [
      "563\n",
      "9986\n"
     ]
    }
   ],
   "source": [
    "def reverseNumber(num):\n",
    "    num_str = str(num)\n",
    "    stack = []\n",
    "    \n",
    "    for digit in num_str:\n",
    "        stack.append(digit)\n",
    "    \n",
    "    reversed_num_str = ''\n",
    "    \n",
    "    while stack:\n",
    "        reversed_num_str += stack.pop()\n",
    "    \n",
    "    reversed_num = int(reversed_num_str)\n",
    "    \n",
    "    return reversed_num\n",
    "\n",
    "# Example usage\n",
    "number = 365\n",
    "reversed_number = reverseNumber(number)\n",
    "print(reversed_number)\n",
    "# Output: 563\n",
    "\n",
    "number = 6899\n",
    "reversed_number = reverseNumber(number)\n",
    "print(reversed_number)\n",
    "# Output: 9986\n"
   ]
  },
  {
   "cell_type": "markdown",
   "id": "a0747551-c110-4d70-8785-e18623dca516",
   "metadata": {},
   "source": [
    "## Question 6"
   ]
  },
  {
   "cell_type": "code",
   "execution_count": null,
   "id": "51913129-905f-4375-b9d0-229c3178a2f1",
   "metadata": {},
   "outputs": [],
   "source": [
    "from queue import Queue\n",
    "\n",
    "def reverseKElements(queue, k):\n",
    "    stack = []\n",
    "    \n",
    "    # Dequeue the first k elements and push them onto the stack\n",
    "    for _ in range(k):\n",
    "        stack.append(queue.get())\n",
    "    \n",
    "    # Dequeue all remaining elements and enqueue them back into the queue\n",
    "    while not queue.empty():\n",
    "        queue.put(queue.get())\n",
    "    \n",
    "    # Enqueue the elements from the stack back into the queue\n",
    "    while stack:\n",
    "        queue.put(stack.pop())\n",
    "    \n",
    "    return queue\n",
    "\n",
    "# Example usage\n",
    "queue = Queue()\n",
    "queue.put(1)\n",
    "queue.put(2)\n",
    "queue.put(3)\n",
    "queue.put(4)\n",
    "queue.put(5)\n",
    "\n",
    "k = 3\n",
    "reversed_queue = reverseKElements(queue, k)\n",
    "\n",
    "# Print the reversed queue\n",
    "while not reversed_queue.empty():\n",
    "    print(reversed_queue.get(), end=' ')\n",
    "# Output: 3 2 1 4 5\n"
   ]
  },
  {
   "cell_type": "markdown",
   "id": "9b578de3-e2e5-47b6-89dd-8d271b5b433c",
   "metadata": {},
   "source": [
    "## Question 7"
   ]
  },
  {
   "cell_type": "code",
   "execution_count": null,
   "id": "df211afc-bc5a-4f0e-a715-6fba41187a13",
   "metadata": {},
   "outputs": [],
   "source": [
    "def countRemainingWords(sequence):\n",
    "    stack = []\n",
    "    \n",
    "    for word in sequence:\n",
    "        if stack and word == stack[-1]:\n",
    "            stack.pop()\n",
    "        else:\n",
    "            stack.append(word)\n",
    "    \n",
    "    return len(stack)\n",
    "\n",
    "# Example usage\n",
    "sequence = [\"ab\", \"aa\", \"aa\", \"bcd\", \"ab\"]\n",
    "remaining_words = countRemainingWords(sequence)\n",
    "print(remaining_words)\n",
    "# Output: 3\n",
    "\n",
    "sequence = [\"tom\", \"jerry\", \"jerry\", \"tom\"]\n",
    "remaining_words = countRemainingWords(sequence)\n",
    "print(remaining_words)\n",
    "# Output: 0\n"
   ]
  },
  {
   "cell_type": "markdown",
   "id": "1adddcb3-1c2d-4c12-951f-21394f396dc9",
   "metadata": {},
   "source": [
    "## Question 8"
   ]
  },
  {
   "cell_type": "code",
   "execution_count": null,
   "id": "71a25f82-bd35-4140-9a04-48904bfcbbf3",
   "metadata": {},
   "outputs": [],
   "source": [
    "def maxAbsDiffNearestSmaller(arr):\n",
    "    n = len(arr)\n",
    "    leftStack = []\n",
    "    rightStack = []\n",
    "    LSResult = [0] * n\n",
    "    RSResult = [0] * n\n",
    "\n",
    "    for i in range(n):\n",
    "        while leftStack and leftStack[-1] >= arr[i]:\n",
    "            leftStack.pop()\n",
    "        if not leftStack:\n",
    "            LSResult[i] = 0\n",
    "        else:\n",
    "            LSResult[i] = leftStack[-1]\n",
    "        leftStack.append(arr[i])\n",
    "\n",
    "    for i in range(n - 1, -1, -1):\n",
    "        while rightStack and rightStack[-1] >= arr[i]:\n",
    "            rightStack.pop()\n",
    "        if not rightStack:\n",
    "            RSResult[i] = 0\n",
    "        else:\n",
    "            RSResult[i] = rightStack[-1]\n",
    "        rightStack.append(arr[i])\n",
    "\n",
    "    maxDiff = 0\n",
    "    for i in range(n):\n",
    "        diff = abs(LSResult[i] - RSResult[i])\n",
    "        maxDiff = max(maxDiff, diff)\n",
    "\n",
    "    return maxDiff\n",
    "\n",
    "# Example usage\n",
    "arr = [2, 1, 8]\n",
    "output = maxAbsDiffNearestSmaller(arr)\n",
    "print(output)\n",
    "# Output: 1\n",
    "\n",
    "arr = [2, 4, 8, 7, 7, 9, 3]\n",
    "output = maxAbsDiffNearestSmaller(arr)\n",
    "print(output)\n",
    "# Output: 4\n",
    "\n",
    "arr = [5, 1, 9, 2, 5, 1, 7]\n",
    "output = maxAbsDiffNearestSmaller(arr)\n",
    "print(output)\n",
    "# Output: 1\n"
   ]
  }
 ],
 "metadata": {
  "kernelspec": {
   "display_name": "Python 3 (ipykernel)",
   "language": "python",
   "name": "python3"
  },
  "language_info": {
   "codemirror_mode": {
    "name": "ipython",
    "version": 3
   },
   "file_extension": ".py",
   "mimetype": "text/x-python",
   "name": "python",
   "nbconvert_exporter": "python",
   "pygments_lexer": "ipython3",
   "version": "3.9.9"
  }
 },
 "nbformat": 4,
 "nbformat_minor": 5
}
