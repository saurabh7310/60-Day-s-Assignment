{
 "cells": [
  {
   "cell_type": "markdown",
   "id": "eb86f63b-8b97-4e05-8074-03130836f703",
   "metadata": {},
   "source": [
    "## Question 1"
   ]
  },
  {
   "cell_type": "code",
   "execution_count": 1,
   "id": "e4afa0d3-a00b-4461-9d3b-4da9f9778932",
   "metadata": {},
   "outputs": [
    {
     "name": "stdout",
     "output_type": "stream",
     "text": [
      "3 4 4 -1 "
     ]
    }
   ],
   "source": [
    "def nextGreaterElement(arr):\n",
    "    stack = []\n",
    "    result = [-1] * len(arr)\n",
    "\n",
    "    for i in range(len(arr)-1, -1, -1):\n",
    "        while stack and stack[-1] <= arr[i]:\n",
    "            stack.pop()\n",
    "\n",
    "        if stack:\n",
    "            result[i] = stack[-1]\n",
    "\n",
    "        stack.append(arr[i])\n",
    "\n",
    "    return result\n",
    "arr = [1, 3, 2, 4]\n",
    "result = nextGreaterElement(arr)\n",
    "\n",
    "# Print the result\n",
    "for value in result:\n",
    "    print(value, end=\" \")\n",
    "# Output: 3 4 4 -1\n"
   ]
  },
  {
   "cell_type": "markdown",
   "id": "d3e52542-9844-4906-b314-3cd644604581",
   "metadata": {},
   "source": [
    "## Question 2"
   ]
  },
  {
   "cell_type": "code",
   "execution_count": 2,
   "id": "c31ef42c-c3d4-4ec0-a4f6-4669deba468c",
   "metadata": {},
   "outputs": [
    {
     "name": "stdout",
     "output_type": "stream",
     "text": [
      "-1 1 1 "
     ]
    }
   ],
   "source": [
    "def nearestSmallerNumber(arr):\n",
    "    stack = []\n",
    "    result = []\n",
    "\n",
    "    for num in arr:\n",
    "        while stack and stack[-1] >= num:\n",
    "            stack.pop()\n",
    "\n",
    "        if stack:\n",
    "            result.append(stack[-1])\n",
    "        else:\n",
    "            result.append(-1)\n",
    "\n",
    "        stack.append(num)\n",
    "\n",
    "    return result\n",
    "arr = [1, 6, 2]\n",
    "result = nearestSmallerNumber(arr)\n",
    "\n",
    "# Print the result\n",
    "for value in result:\n",
    "    print(value, end=\" \")\n",
    "# Output: -1 1 1\n"
   ]
  },
  {
   "cell_type": "markdown",
   "id": "7ca68e9c-49a9-475a-afaf-2869524fc0ca",
   "metadata": {},
   "source": [
    "## Question 3"
   ]
  },
  {
   "cell_type": "code",
   "execution_count": 3,
   "id": "bc01e0eb-6e62-4b20-90a9-b4e1fb4223bb",
   "metadata": {},
   "outputs": [
    {
     "name": "stdout",
     "output_type": "stream",
     "text": [
      "3\n",
      "4\n"
     ]
    }
   ],
   "source": [
    "from collections import deque\n",
    "\n",
    "class Stack:\n",
    "    def __init__(self):\n",
    "        self.q1 = deque()\n",
    "        self.q2 = deque()\n",
    "    \n",
    "    def push(self, value):\n",
    "        self.q1.append(value)\n",
    "    \n",
    "    def pop(self):\n",
    "        if not self.q1:\n",
    "            return None\n",
    "        \n",
    "        # Move elements from q1 to q2, except the last element\n",
    "        while len(self.q1) > 1:\n",
    "            self.q2.append(self.q1.popleft())\n",
    "        \n",
    "        # Remove the last element from q1\n",
    "        popped_element = self.q1.popleft()\n",
    "        \n",
    "        # Swap q1 and q2\n",
    "        self.q1, self.q2 = self.q2, self.q1\n",
    "        \n",
    "        return popped_element\n",
    "\n",
    "# Example usage\n",
    "stack = Stack()\n",
    "stack.push(2)\n",
    "stack.push(3)\n",
    "print(stack.pop())  # Output: 3\n",
    "stack.push(4)\n",
    "print(stack.pop())  # Output: 4\n"
   ]
  },
  {
   "cell_type": "markdown",
   "id": "6a140a8b-486e-433f-abe2-996ea54b8e60",
   "metadata": {},
   "source": [
    "## Question 4"
   ]
  },
  {
   "cell_type": "code",
   "execution_count": 4,
   "id": "b15bbe1c-7811-4740-83ca-27096c1d9248",
   "metadata": {},
   "outputs": [
    {
     "name": "stdout",
     "output_type": "stream",
     "text": [
      "3 2 1 7 6 "
     ]
    }
   ],
   "source": [
    "class Stack:\n",
    "    def __init__(self):\n",
    "        self.stack = []\n",
    "    \n",
    "    def push(self, value):\n",
    "        self.stack.append(value)\n",
    "    \n",
    "    def pop(self):\n",
    "        if not self.is_empty():\n",
    "            return self.stack.pop()\n",
    "    \n",
    "    def is_empty(self):\n",
    "        return len(self.stack) == 0\n",
    "    \n",
    "    def reverse(self):\n",
    "        if not self.is_empty():\n",
    "            # Get the top element\n",
    "            top = self.pop()\n",
    "            \n",
    "            # Reverse the remaining stack\n",
    "            self.reverse()\n",
    "            \n",
    "            # Insert the top element at the bottom of the reversed stack\n",
    "            self.insert_at_bottom(top)\n",
    "    \n",
    "    def insert_at_bottom(self, value):\n",
    "        if self.is_empty():\n",
    "            self.push(value)\n",
    "        else:\n",
    "            # Get the top element\n",
    "            top = self.pop()\n",
    "            \n",
    "            # Insert the value at the bottom of the stack\n",
    "            self.insert_at_bottom(value)\n",
    "            \n",
    "            # Push the top element back to the stack\n",
    "            self.push(top)\n",
    "\n",
    "# Example usage\n",
    "stack = Stack()\n",
    "stack.push(3)\n",
    "stack.push(2)\n",
    "stack.push(1)\n",
    "stack.push(7)\n",
    "stack.push(6)\n",
    "stack.reverse()\n",
    "\n",
    "# Print the reversed stack\n",
    "while not stack.is_empty():\n",
    "    print(stack.pop(), end=\" \")\n",
    "# Output: 6 7 1 2 3\n"
   ]
  },
  {
   "cell_type": "markdown",
   "id": "6e35f717-ff00-4765-9e6b-0410d12ccd38",
   "metadata": {},
   "source": [
    "## Question 5"
   ]
  },
  {
   "cell_type": "code",
   "execution_count": 5,
   "id": "01df1378-587a-4c0b-b146-37a511805b81",
   "metadata": {},
   "outputs": [
    {
     "name": "stdout",
     "output_type": "stream",
     "text": [
      "skeeGrofskeeG\n"
     ]
    }
   ],
   "source": [
    "class Stack:\n",
    "    def __init__(self):\n",
    "        self.stack = []\n",
    "    \n",
    "    def push(self, char):\n",
    "        self.stack.append(char)\n",
    "    \n",
    "    def pop(self):\n",
    "        if not self.is_empty():\n",
    "            return self.stack.pop()\n",
    "    \n",
    "    def is_empty(self):\n",
    "        return len(self.stack) == 0\n",
    "    \n",
    "    def reverse_string(self, string):\n",
    "        # Push each character of the string onto the stack\n",
    "        for char in string:\n",
    "            self.push(char)\n",
    "        \n",
    "        reversed_string = \"\"\n",
    "        \n",
    "        # Pop the characters from the stack to get the reversed string\n",
    "        while not self.is_empty():\n",
    "            reversed_string += self.pop()\n",
    "        \n",
    "        return reversed_string\n",
    "\n",
    "# Example usage\n",
    "stack = Stack()\n",
    "string = \"GeeksforGeeks\"\n",
    "reversed_string = stack.reverse_string(string)\n",
    "print(reversed_string)\n",
    "# Output: skeeGrofskeeG\n"
   ]
  },
  {
   "cell_type": "markdown",
   "id": "7281d2a9-7e7a-4f27-b3ff-97359cfb7082",
   "metadata": {},
   "source": [
    "## Question 6"
   ]
  },
  {
   "cell_type": "code",
   "execution_count": 6,
   "id": "9dc27bf7-6fb6-4f06-aed6-24762ecd089d",
   "metadata": {},
   "outputs": [
    {
     "name": "stdout",
     "output_type": "stream",
     "text": [
      "-4\n"
     ]
    }
   ],
   "source": [
    "class Stack:\n",
    "    def __init__(self):\n",
    "        self.stack = []\n",
    "    \n",
    "    def push(self, value):\n",
    "        self.stack.append(value)\n",
    "    \n",
    "    def pop(self):\n",
    "        if not self.is_empty():\n",
    "            return self.stack.pop()\n",
    "    \n",
    "    def is_empty(self):\n",
    "        return len(self.stack) == 0\n",
    "\n",
    "def evaluate_postfix(expression):\n",
    "    stack = Stack()\n",
    "\n",
    "    for char in expression:\n",
    "        if char.isdigit():\n",
    "            stack.push(int(char))\n",
    "        else:\n",
    "            operand2 = stack.pop()\n",
    "            operand1 = stack.pop()\n",
    "            result = perform_operation(operand1, operand2, char)\n",
    "            stack.push(result)\n",
    "\n",
    "    return stack.pop()\n",
    "\n",
    "def perform_operation(operand1, operand2, operator):\n",
    "    if operator == '+':\n",
    "        return operand1 + operand2\n",
    "    elif operator == '-':\n",
    "        return operand1 - operand2\n",
    "    elif operator == '*':\n",
    "        return operand1 * operand2\n",
    "    elif operator == '/':\n",
    "        return operand1 / operand2\n",
    "\n",
    "# Example usage\n",
    "expression = \"231*+9-\"\n",
    "result = evaluate_postfix(expression)\n",
    "print(result)\n",
    "# Output: -4\n"
   ]
  },
  {
   "cell_type": "markdown",
   "id": "5a000ee2-a402-46f1-ae59-374b758f1448",
   "metadata": {},
   "source": [
    "## Question 7"
   ]
  },
  {
   "cell_type": "code",
   "execution_count": 7,
   "id": "c6e6e8dd-82d8-447a-a27f-10dc22064973",
   "metadata": {},
   "outputs": [
    {
     "name": "stdout",
     "output_type": "stream",
     "text": [
      "-3\n",
      "0\n",
      "-2\n"
     ]
    }
   ],
   "source": [
    "class MinStack:\n",
    "    def __init__(self):\n",
    "        self.stack = []\n",
    "        self.min_stack = []\n",
    "    \n",
    "    def push(self, val):\n",
    "        self.stack.append(val)\n",
    "        if not self.min_stack or val <= self.min_stack[-1]:\n",
    "            self.min_stack.append(val)\n",
    "    \n",
    "    def pop(self):\n",
    "        if self.stack:\n",
    "            popped_val = self.stack.pop()\n",
    "            if popped_val == self.min_stack[-1]:\n",
    "                self.min_stack.pop()\n",
    "    \n",
    "    def top(self):\n",
    "        if self.stack:\n",
    "            return self.stack[-1]\n",
    "    \n",
    "    def getMin(self):\n",
    "        if self.min_stack:\n",
    "            return self.min_stack[-1]\n",
    "\n",
    "# Example usage\n",
    "minStack = MinStack()\n",
    "minStack.push(-2)\n",
    "minStack.push(0)\n",
    "minStack.push(-3)\n",
    "print(minStack.getMin()) # Output: -3\n",
    "minStack.pop()\n",
    "print(minStack.top())    # Output: 0\n",
    "print(minStack.getMin()) # Output: -2\n"
   ]
  },
  {
   "cell_type": "markdown",
   "id": "8292406e-f822-4b60-831d-184890b27b3c",
   "metadata": {},
   "source": [
    "## Question 8"
   ]
  },
  {
   "cell_type": "code",
   "execution_count": 8,
   "id": "9958b72e-c527-461b-9ecf-a6ad9b71a40a",
   "metadata": {},
   "outputs": [
    {
     "name": "stdout",
     "output_type": "stream",
     "text": [
      "6\n"
     ]
    }
   ],
   "source": [
    "def trap(height):\n",
    "    n = len(height)\n",
    "    if n < 3:\n",
    "        return 0\n",
    "\n",
    "    left = 0\n",
    "    right = n - 1\n",
    "    left_max = height[left]\n",
    "    right_max = height[right]\n",
    "    water = 0\n",
    "\n",
    "    while left < right:\n",
    "        if height[left] < height[right]:\n",
    "            if height[left] > left_max:\n",
    "                left_max = height[left]\n",
    "            else:\n",
    "                water += left_max - height[left]\n",
    "            left += 1\n",
    "        else:\n",
    "            if height[right] > right_max:\n",
    "                right_max = height[right]\n",
    "            else:\n",
    "                water += right_max - height[right]\n",
    "            right -= 1\n",
    "\n",
    "    return water\n",
    "\n",
    "# Example usage\n",
    "height = [0,1,0,2,1,0,1,3,2,1,2,1]\n",
    "print(trap(height))\n",
    "# Output: 6\n"
   ]
  }
 ],
 "metadata": {
  "kernelspec": {
   "display_name": "Python 3 (ipykernel)",
   "language": "python",
   "name": "python3"
  },
  "language_info": {
   "codemirror_mode": {
    "name": "ipython",
    "version": 3
   },
   "file_extension": ".py",
   "mimetype": "text/x-python",
   "name": "python",
   "nbconvert_exporter": "python",
   "pygments_lexer": "ipython3",
   "version": "3.9.9"
  }
 },
 "nbformat": 4,
 "nbformat_minor": 5
}
