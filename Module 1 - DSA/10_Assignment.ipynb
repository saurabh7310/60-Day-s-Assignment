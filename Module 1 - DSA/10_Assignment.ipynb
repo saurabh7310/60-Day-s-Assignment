{
 "cells": [
  {
   "cell_type": "markdown",
   "id": "10cb8ebc-3b7c-46dc-bce4-01d6a7d80dfc",
   "metadata": {},
   "source": [
    "## Question 1"
   ]
  },
  {
   "cell_type": "code",
   "execution_count": 1,
   "id": "4161f15c-e23b-4d96-adee-06c194942892",
   "metadata": {},
   "outputs": [
    {
     "name": "stdout",
     "output_type": "stream",
     "text": [
      "True\n",
      "False\n",
      "False\n"
     ]
    }
   ],
   "source": [
    "import math\n",
    "\n",
    "def isPowerOfThree(n):\n",
    "    if n <= 0:\n",
    "        return False\n",
    "\n",
    "    highest_power = 3 ** int(math.log(n, 3))\n",
    "    return n == highest_power\n",
    "n = 27\n",
    "print(isPowerOfThree(n)) \n",
    "\n",
    "n = 0\n",
    "print(isPowerOfThree(n)) \n",
    "\n",
    "n = -1\n",
    "print(isPowerOfThree(n)) "
   ]
  },
  {
   "cell_type": "markdown",
   "id": "ba00ac24-3aa3-49ab-9f79-7cd305771b14",
   "metadata": {},
   "source": [
    "## Question 2"
   ]
  },
  {
   "cell_type": "code",
   "execution_count": 2,
   "id": "9efd0415-24d1-41f5-872e-114039bc40b5",
   "metadata": {},
   "outputs": [
    {
     "name": "stdout",
     "output_type": "stream",
     "text": [
      "1\n"
     ]
    }
   ],
   "source": [
    "def lastRemaining(n):\n",
    "    arr = list(range(1, n+1))\n",
    "    left_to_right = True\n",
    "\n",
    "    while len(arr) > 1:\n",
    "        if left_to_right:\n",
    "            arr = arr[1::2]\n",
    "        else:\n",
    "            arr = arr[-2::-2]\n",
    "        left_to_right = not left_to_right\n",
    "\n",
    "    return arr[0]\n",
    "\n",
    "n = 1\n",
    "print(lastRemaining(n))  "
   ]
  },
  {
   "cell_type": "markdown",
   "id": "036eda76-a786-4f8f-ad4c-811e3a14c513",
   "metadata": {},
   "source": [
    "## Question 3"
   ]
  },
  {
   "cell_type": "code",
   "execution_count": 3,
   "id": "15db7620-52c4-42f5-87df-5537043b2ef0",
   "metadata": {},
   "outputs": [
    {
     "name": "stdout",
     "output_type": "stream",
     "text": [
      "['abc', 'ab', 'ac', 'a', 'bc', 'b', 'c', '']\n",
      "['abcd', 'abc', 'abd', 'ab', 'acd', 'ac', 'ad', 'a', 'bcd', 'bc', 'bd', 'b', 'cd', 'c', 'd', '']\n"
     ]
    }
   ],
   "source": [
    "def subsets(set):\n",
    "    subsets = []\n",
    "\n",
    "    def generateSubsets(subset, remaining, index):\n",
    "        if index == len(remaining):\n",
    "            subsets.append(subset)\n",
    "            return\n",
    "\n",
    "        generateSubsets(subset + remaining[index], remaining, index + 1)\n",
    "        generateSubsets(subset, remaining, index + 1)\n",
    "\n",
    "    generateSubsets(\"\", set, 0)\n",
    "    return subsets\n",
    "set = \"abc\"\n",
    "print(subsets(set)) \n",
    "\n",
    "set = \"abcd\"\n",
    "print(subsets(set))  "
   ]
  },
  {
   "cell_type": "markdown",
   "id": "37f3d2c4-2327-40cb-ad47-72d2ddc483c2",
   "metadata": {},
   "source": [
    "## Question 4"
   ]
  },
  {
   "cell_type": "code",
   "execution_count": 4,
   "id": "1b016386-6cc8-4e04-931c-8be335cfde83",
   "metadata": {},
   "outputs": [
    {
     "name": "stdout",
     "output_type": "stream",
     "text": [
      "4\n",
      "13\n"
     ]
    }
   ],
   "source": [
    "def calculateLength(str):\n",
    "    if str == \"\":\n",
    "        return 0\n",
    "    return 1 + calculateLength(str[1:])\n",
    "str = \"abcd\"\n",
    "print(calculateLength(str))  \n",
    "\n",
    "str = \"GEEKSFORGEEKS\"\n",
    "print(calculateLength(str))  "
   ]
  },
  {
   "cell_type": "markdown",
   "id": "a6198558-cd9f-4366-9120-b066396a8f37",
   "metadata": {},
   "source": [
    "## Question 5"
   ]
  },
  {
   "cell_type": "code",
   "execution_count": 5,
   "id": "fd26566d-d7fb-41a4-8f7f-1e35b69a8c44",
   "metadata": {},
   "outputs": [
    {
     "name": "stdout",
     "output_type": "stream",
     "text": [
      "8\n",
      "3\n"
     ]
    }
   ],
   "source": [
    "def countSubstrings(S):\n",
    "    count = 0\n",
    "    for i in range(len(S)):\n",
    "        start = i\n",
    "        for j in range(i + 1, len(S)):\n",
    "            if S[j] == S[i]:\n",
    "                count += (j - start + 1)\n",
    "    return count\n",
    "S = \"abcab\"\n",
    "print(countSubstrings(S))  \n",
    "\n",
    "S = \"aba\"\n",
    "print(countSubstrings(S))  "
   ]
  },
  {
   "cell_type": "markdown",
   "id": "d4a498e5-2f6b-4815-af64-e81f84972ab1",
   "metadata": {},
   "source": [
    "## Question 6"
   ]
  },
  {
   "cell_type": "code",
   "execution_count": 6,
   "id": "7dd5ff14-741c-4e48-ba37-38e94cbd9071",
   "metadata": {},
   "outputs": [
    {
     "name": "stdout",
     "output_type": "stream",
     "text": [
      "move disk 1 from rod 1 to rod 2\n",
      "move disk 2 from rod 1 to rod 3\n",
      "move disk 1 from rod 2 to rod 3\n",
      "3\n",
      "move disk 1 from rod 1 to rod 3\n",
      "move disk 2 from rod 1 to rod 2\n",
      "move disk 1 from rod 3 to rod 2\n",
      "move disk 3 from rod 1 to rod 3\n",
      "move disk 1 from rod 2 to rod 1\n",
      "move disk 2 from rod 2 to rod 3\n",
      "move disk 1 from rod 1 to rod 3\n",
      "7\n"
     ]
    }
   ],
   "source": [
    "def towerOfHanoi(N, src, aux, dest):\n",
    "    if N == 1:\n",
    "        print(\"move disk 1 from rod\", src, \"to rod\", dest)\n",
    "        return 1\n",
    "\n",
    "    moves = towerOfHanoi(N-1, src, dest, aux)\n",
    "    print(\"move disk\", N, \"from rod\", src, \"to rod\", dest)\n",
    "    moves += towerOfHanoi(N-1, aux, src, dest)\n",
    "    return moves + 1\n",
    "N = 2\n",
    "total_moves = towerOfHanoi(N, 1, 2, 3)\n",
    "print(total_moves)  \n",
    "\n",
    "N = 3\n",
    "total_moves = towerOfHanoi(N, 1, 2, 3)\n",
    "print(total_moves)"
   ]
  },
  {
   "cell_type": "markdown",
   "id": "b28943c1-6d9c-4090-9589-258eb8d0b40d",
   "metadata": {},
   "source": [
    "## Question 7"
   ]
  },
  {
   "cell_type": "code",
   "execution_count": 7,
   "id": "4d158173-b4b0-46ad-bd4f-d1c88616d007",
   "metadata": {},
   "outputs": [
    {
     "name": "stdout",
     "output_type": "stream",
     "text": [
      "cd\n",
      "dc\n",
      "abb\n",
      "abb\n",
      "bab\n",
      "bba\n",
      "bab\n",
      "bba\n"
     ]
    }
   ],
   "source": [
    "def permute(str, prefix, remaining):\n",
    "    if len(remaining) == 0:\n",
    "        print(prefix)\n",
    "        return\n",
    "\n",
    "    for i in range(len(remaining)):\n",
    "        new_prefix = prefix + remaining[i]\n",
    "        new_remaining = remaining[:i] + remaining[i+1:]\n",
    "        permute(str, new_prefix, new_remaining)\n",
    "\n",
    "def printPermutations(str):\n",
    "    permute(str, \"\", str)\n",
    "str = \"cd\"\n",
    "printPermutations(str)  \n",
    "\n",
    "str = \"abb\"\n",
    "printPermutations(str)  "
   ]
  },
  {
   "cell_type": "markdown",
   "id": "cc02bf58-ca1a-4ecf-8931-bc2c089bbd49",
   "metadata": {},
   "source": [
    "## Question 8"
   ]
  },
  {
   "cell_type": "code",
   "execution_count": 8,
   "id": "0bb573c1-170f-426d-b846-0eb7a71370ce",
   "metadata": {},
   "outputs": [
    {
     "name": "stdout",
     "output_type": "stream",
     "text": [
      "3\n",
      "12\n"
     ]
    }
   ],
   "source": [
    "def countConsonants(str):\n",
    "    count = 0\n",
    "    vowels = ['a', 'e', 'i', 'o', 'u']\n",
    "    for ch in str.lower():\n",
    "        if ch.isalpha() and ch not in vowels:\n",
    "            count += 1\n",
    "    return count\n",
    "str = \"abc de\"\n",
    "print(countConsonants(str))  \n",
    "\n",
    "str = \"geeksforgeeks portal\"\n",
    "print(countConsonants(str)) "
   ]
  }
 ],
 "metadata": {
  "kernelspec": {
   "display_name": "Python 3 (ipykernel)",
   "language": "python",
   "name": "python3"
  },
  "language_info": {
   "codemirror_mode": {
    "name": "ipython",
    "version": 3
   },
   "file_extension": ".py",
   "mimetype": "text/x-python",
   "name": "python",
   "nbconvert_exporter": "python",
   "pygments_lexer": "ipython3",
   "version": "3.9.9"
  }
 },
 "nbformat": 4,
 "nbformat_minor": 5
}
