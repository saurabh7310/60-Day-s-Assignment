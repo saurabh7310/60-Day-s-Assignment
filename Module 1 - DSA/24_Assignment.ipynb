{
 "cells": [
  {
   "cell_type": "markdown",
   "id": "d2be8f71-daf5-4b1d-81e3-edbbf4c09516",
   "metadata": {},
   "source": [
    "## Question 1"
   ]
  },
  {
   "cell_type": "code",
   "execution_count": 2,
   "id": "76875e02-c9d2-4dd2-a590-478fe7ca0356",
   "metadata": {},
   "outputs": [
    {
     "name": "stdout",
     "output_type": "stream",
     "text": [
      "Output:\n",
      "3\n",
      "58\n"
     ]
    }
   ],
   "source": [
    "def roman_to_int(s):\n",
    "    roman_numerals = {\n",
    "        'I': 1,\n",
    "        'V': 5,\n",
    "        'X': 10,\n",
    "        'L': 50,\n",
    "        'C': 100,\n",
    "        'D': 500,\n",
    "        'M': 1000\n",
    "    }\n",
    "\n",
    "    result = 0\n",
    "    prev = 0\n",
    "\n",
    "    for symbol in reversed(s):\n",
    "        value = roman_numerals[symbol]\n",
    "\n",
    "        if value < prev:\n",
    "            result -= value\n",
    "        else:\n",
    "            result += value\n",
    "\n",
    "        prev = value\n",
    "\n",
    "    return result\n",
    "\n",
    "\n",
    "# Example usage:\n",
    "s = \"III\"\n",
    "integer_value = roman_to_int(s)\n",
    "print(\"Output:\")\n",
    "print(integer_value)\n",
    "\n",
    "s = \"LVIII\"\n",
    "integer_value = roman_to_int(s)\n",
    "print(integer_value)\n"
   ]
  },
  {
   "cell_type": "markdown",
   "id": "7563d29e-f854-42e2-8459-cd3ddad5c741",
   "metadata": {},
   "source": [
    "## Question 2"
   ]
  },
  {
   "cell_type": "code",
   "execution_count": 3,
   "id": "6424e0fe-c3bf-4d12-be9c-347b2d70cf56",
   "metadata": {},
   "outputs": [
    {
     "name": "stdout",
     "output_type": "stream",
     "text": [
      "Output:\n",
      "3\n",
      "1\n",
      "3\n"
     ]
    }
   ],
   "source": [
    "def length_of_longest_substring(s):\n",
    "    seen = set()\n",
    "    start = 0\n",
    "    end = 0\n",
    "    max_length = 0\n",
    "\n",
    "    while end < len(s):\n",
    "        if s[end] not in seen:\n",
    "            seen.add(s[end])\n",
    "            max_length = max(max_length, end - start + 1)\n",
    "            end += 1\n",
    "        else:\n",
    "            seen.remove(s[start])\n",
    "            start += 1\n",
    "\n",
    "    return max_length\n",
    "\n",
    "\n",
    "# Example usage:\n",
    "s = \"abcabcbb\"\n",
    "length = length_of_longest_substring(s)\n",
    "print(\"Output:\")\n",
    "print(length)\n",
    "\n",
    "s = \"bbbbb\"\n",
    "length = length_of_longest_substring(s)\n",
    "print(length)\n",
    "\n",
    "s = \"pwwkew\"\n",
    "length = length_of_longest_substring(s)\n",
    "print(length)\n"
   ]
  },
  {
   "cell_type": "markdown",
   "id": "c8b45c50-4670-4a6c-a5c1-ca16b36f6887",
   "metadata": {},
   "source": [
    "## Question 3"
   ]
  },
  {
   "cell_type": "code",
   "execution_count": 4,
   "id": "4a547f94-966e-4b7c-bc60-63d82fd874e8",
   "metadata": {},
   "outputs": [
    {
     "name": "stdout",
     "output_type": "stream",
     "text": [
      "Output:\n",
      "3\n",
      "2\n"
     ]
    }
   ],
   "source": [
    "def majority_element(nums):\n",
    "    count = 0\n",
    "    majority = None\n",
    "\n",
    "    for num in nums:\n",
    "        if count == 0:\n",
    "            majority = num\n",
    "            count += 1\n",
    "        elif num == majority:\n",
    "            count += 1\n",
    "        else:\n",
    "            count -= 1\n",
    "\n",
    "    return majority\n",
    "\n",
    "\n",
    "# Example usage:\n",
    "nums = [3, 2, 3]\n",
    "majority = majority_element(nums)\n",
    "print(\"Output:\")\n",
    "print(majority)\n",
    "\n",
    "nums = [2, 2, 1, 1, 1, 2, 2]\n",
    "majority = majority_element(nums)\n",
    "print(majority)\n"
   ]
  },
  {
   "cell_type": "markdown",
   "id": "2b382cee-2a17-43ed-9ac4-e7660de1a159",
   "metadata": {},
   "source": [
    "## Question 4"
   ]
  },
  {
   "cell_type": "code",
   "execution_count": 5,
   "id": "35365807-2045-47df-88cf-d5130958df89",
   "metadata": {},
   "outputs": [
    {
     "name": "stdout",
     "output_type": "stream",
     "text": [
      "Output:\n",
      "[['eat', 'tea', 'ate'], ['tan', 'nat'], ['bat']]\n"
     ]
    }
   ],
   "source": [
    "from collections import defaultdict\n",
    "\n",
    "\n",
    "def group_anagrams(strs):\n",
    "    anagram_groups = defaultdict(list)\n",
    "\n",
    "    for s in strs:\n",
    "        sorted_s = ''.join(sorted(s))\n",
    "        anagram_groups[sorted_s].append(s)\n",
    "\n",
    "    return list(anagram_groups.values())\n",
    "\n",
    "\n",
    "# Example usage:\n",
    "strs = [\"eat\", \"tea\", \"tan\", \"ate\", \"nat\", \"bat\"]\n",
    "anagram_groups = group_anagrams(strs)\n",
    "print(\"Output:\")\n",
    "print(anagram_groups)\n"
   ]
  },
  {
   "cell_type": "markdown",
   "id": "01cfebdf-9e72-4975-a947-c88e21acc993",
   "metadata": {},
   "source": [
    "## Question 5"
   ]
  },
  {
   "cell_type": "code",
   "execution_count": 6,
   "id": "15dd6c6b-1ce1-4944-bbd7-720cbe59afa7",
   "metadata": {},
   "outputs": [
    {
     "name": "stdout",
     "output_type": "stream",
     "text": [
      "Output:\n",
      "12\n",
      "1\n"
     ]
    }
   ],
   "source": [
    "def nth_ugly_number(n):\n",
    "    ugly = [0] * n\n",
    "    ugly[0] = 1\n",
    "\n",
    "    p2 = p3 = p5 = 0\n",
    "    next_multiple_of_2 = 2\n",
    "    next_multiple_of_3 = 3\n",
    "    next_multiple_of_5 = 5\n",
    "\n",
    "    for i in range(1, n):\n",
    "        ugly[i] = min(next_multiple_of_2, next_multiple_of_3, next_multiple_of_5)\n",
    "\n",
    "        if ugly[i] == next_multiple_of_2:\n",
    "            p2 += 1\n",
    "            next_multiple_of_2 = ugly[p2] * 2\n",
    "\n",
    "        if ugly[i] == next_multiple_of_3:\n",
    "            p3 += 1\n",
    "            next_multiple_of_3 = ugly[p3] * 3\n",
    "\n",
    "        if ugly[i] == next_multiple_of_5:\n",
    "            p5 += 1\n",
    "            next_multiple_of_5 = ugly[p5] * 5\n",
    "\n",
    "    return ugly[n - 1]\n",
    "\n",
    "\n",
    "# Example usage:\n",
    "n = 10\n",
    "ugly_number = nth_ugly_number(n)\n",
    "print(\"Output:\")\n",
    "print(ugly_number)\n",
    "\n",
    "n = 1\n",
    "ugly_number = nth_ugly_number(n)\n",
    "print(ugly_number)\n"
   ]
  },
  {
   "cell_type": "markdown",
   "id": "7d65bb46-7ac4-4263-bf6f-9ce761068a77",
   "metadata": {},
   "source": [
    "## Question 6"
   ]
  },
  {
   "cell_type": "code",
   "execution_count": 7,
   "id": "393486c9-3ef9-47d3-bfca-0c829a6c5872",
   "metadata": {},
   "outputs": [
    {
     "name": "stdout",
     "output_type": "stream",
     "text": [
      "Output:\n",
      "['i', 'love']\n",
      "['the', 'is', 'sunny', 'day']\n"
     ]
    }
   ],
   "source": [
    "from collections import Counter\n",
    "\n",
    "\n",
    "def top_k_frequent_words(words, k):\n",
    "    word_counts = Counter(words)\n",
    "\n",
    "    sorted_words = sorted(\n",
    "        word_counts.keys(),\n",
    "        key=lambda word: (-word_counts[word], word)\n",
    "    )\n",
    "\n",
    "    return sorted_words[:k]\n",
    "\n",
    "\n",
    "# Example usage:\n",
    "words = [\"i\", \"love\", \"leetcode\", \"i\", \"love\", \"coding\"]\n",
    "k = 2\n",
    "top_k = top_k_frequent_words(words, k)\n",
    "print(\"Output:\")\n",
    "print(top_k)\n",
    "\n",
    "words = [\"the\", \"day\", \"is\", \"sunny\", \"the\", \"the\", \"the\", \"sunny\", \"is\", \"is\"]\n",
    "k = 4\n",
    "top_k = top_k_frequent_words(words, k)\n",
    "print(top_k)\n"
   ]
  },
  {
   "cell_type": "markdown",
   "id": "59503f6d-5254-4c56-97f9-67d5b395999b",
   "metadata": {},
   "source": [
    "## Question 7"
   ]
  },
  {
   "cell_type": "code",
   "execution_count": 8,
   "id": "d102d920-bd91-4e96-8106-eb577b2b686d",
   "metadata": {},
   "outputs": [
    {
     "name": "stdout",
     "output_type": "stream",
     "text": [
      "Output:\n",
      "[3, 3, 5, 5, 6, 7]\n"
     ]
    }
   ],
   "source": [
    "from collections import deque\n",
    "\n",
    "\n",
    "def max_sliding_window(nums, k):\n",
    "    window = deque()\n",
    "    max_window = []\n",
    "\n",
    "    for i in range(len(nums)):\n",
    "        while window and nums[i] >= nums[window[-1]]:\n",
    "            window.pop()\n",
    "\n",
    "        window.append(i)\n",
    "\n",
    "        if window[0] <= i - k:\n",
    "            window.popleft()\n",
    "\n",
    "        if i >= k - 1:\n",
    "            max_window.append(nums[window[0]])\n",
    "\n",
    "    return max_window\n",
    "\n",
    "\n",
    "# Example usage:\n",
    "nums = [1, 3, -1, -3, 5, 3, 6, 7]\n",
    "k = 3\n",
    "max_window = max_sliding_window(nums, k)\n",
    "print(\"Output:\")\n",
    "print(max_window)\n"
   ]
  },
  {
   "cell_type": "markdown",
   "id": "74275b14-e638-40a0-ad3d-0e42a3e2166e",
   "metadata": {},
   "source": [
    "## Question 8"
   ]
  },
  {
   "cell_type": "code",
   "execution_count": 9,
   "id": "b20262e5-b81e-48cd-aae2-4366b41df31f",
   "metadata": {},
   "outputs": [
    {
     "name": "stdout",
     "output_type": "stream",
     "text": [
      "Output:\n",
      "[1, 2, 3, 4]\n"
     ]
    }
   ],
   "source": [
    "def find_closest_elements(arr, k, x):\n",
    "    left = 0\n",
    "    right = len(arr) - 1\n",
    "\n",
    "    while right - left >= k:\n",
    "        if abs(arr[left] - x) > abs(arr[right] - x):\n",
    "            left += 1\n",
    "        else:\n",
    "            right -= 1\n",
    "\n",
    "    return arr[left:right+1]\n",
    "\n",
    "\n",
    "# Example usage:\n",
    "arr = [1, 2, 3, 4, 5]\n",
    "k = 4\n",
    "x = 3\n",
    "closest_elements = find_closest_elements(arr, k, x)\n",
    "print(\"Output:\")\n",
    "print(closest_elements)\n"
   ]
  }
 ],
 "metadata": {
  "kernelspec": {
   "display_name": "Python 3 (ipykernel)",
   "language": "python",
   "name": "python3"
  },
  "language_info": {
   "codemirror_mode": {
    "name": "ipython",
    "version": 3
   },
   "file_extension": ".py",
   "mimetype": "text/x-python",
   "name": "python",
   "nbconvert_exporter": "python",
   "pygments_lexer": "ipython3",
   "version": "3.9.9"
  }
 },
 "nbformat": 4,
 "nbformat_minor": 5
}
