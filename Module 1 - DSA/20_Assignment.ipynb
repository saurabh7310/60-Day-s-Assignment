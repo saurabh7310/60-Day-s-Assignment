{
 "cells": [
  {
   "cell_type": "markdown",
   "id": "1c2b42ac-9f24-4be5-bd19-85aa9cb71b26",
   "metadata": {},
   "source": [
    "## Question 1"
   ]
  },
  {
   "cell_type": "code",
   "execution_count": 1,
   "id": "0a804ef4-8854-4294-8941-a5089ad6d0b9",
   "metadata": {},
   "outputs": [
    {
     "name": "stdout",
     "output_type": "stream",
     "text": [
      "Maximum subtree sum: 28\n"
     ]
    }
   ],
   "source": [
    "class Node:\n",
    "    def __init__(self, data):\n",
    "        self.data = data\n",
    "        self.left = None\n",
    "        self.right = None\n",
    "\n",
    "def max_subtree_sum(root):\n",
    "    if root is None:\n",
    "        return 0\n",
    "\n",
    "    # Recursive calls to calculate the sum of left and right subtrees\n",
    "    left_sum = max_subtree_sum(root.left)\n",
    "    right_sum = max_subtree_sum(root.right)\n",
    "\n",
    "    # Calculate the sum of the current subtree\n",
    "    subtree_sum = left_sum + right_sum + root.data\n",
    "\n",
    "    # Update the maximum subtree sum if necessary\n",
    "    if subtree_sum > max_subtree_sum.max_sum:\n",
    "        max_subtree_sum.max_sum = subtree_sum\n",
    "\n",
    "    # Return the sum of the current subtree\n",
    "    return subtree_sum\n",
    "\n",
    "def find_max_subtree_sum(root):\n",
    "    max_subtree_sum.max_sum = float(\"-inf\")  # Initialize the max sum as negative infinity\n",
    "    max_subtree_sum(root)\n",
    "    return max_subtree_sum.max_sum\n",
    "\n",
    "# Example usage:\n",
    "# Constructing the binary tree from the example\n",
    "root = Node(1)\n",
    "root.left = Node(2)\n",
    "root.right = Node(3)\n",
    "root.left.left = Node(4)\n",
    "root.left.right = Node(5)\n",
    "root.right.left = Node(6)\n",
    "root.right.right = Node(7)\n",
    "\n",
    "max_sum = find_max_subtree_sum(root)\n",
    "print(\"Maximum subtree sum:\", max_sum)\n"
   ]
  },
  {
   "cell_type": "markdown",
   "id": "22911fbe-0a94-4327-be97-281eeb81509c",
   "metadata": {},
   "source": [
    "## Question 2"
   ]
  },
  {
   "cell_type": "code",
   "execution_count": 2,
   "id": "984860a6-4c02-4a59-ad17-efc0aa6b005d",
   "metadata": {},
   "outputs": [
    {
     "name": "stdout",
     "output_type": "stream",
     "text": [
      "BST:\n",
      "1\n",
      "3\n",
      "4\n",
      "5\n",
      "6\n",
      "7\n",
      "8\n",
      "10\n",
      "12\n"
     ]
    }
   ],
   "source": [
    "class Node:\n",
    "    def __init__(self, data):\n",
    "        self.data = data\n",
    "        self.left = None\n",
    "        self.right = None\n",
    "\n",
    "\n",
    "def construct_bst(level_order):\n",
    "    if not level_order:\n",
    "        return None\n",
    "\n",
    "    root = Node(level_order[0])\n",
    "    for num in level_order[1:]:\n",
    "        current = root\n",
    "        while True:\n",
    "            if num < current.data:\n",
    "                if current.left is None:\n",
    "                    current.left = Node(num)\n",
    "                    break\n",
    "                else:\n",
    "                    current = current.left\n",
    "            elif num > current.data:\n",
    "                if current.right is None:\n",
    "                    current.right = Node(num)\n",
    "                    break\n",
    "                else:\n",
    "                    current = current.right\n",
    "\n",
    "    return root\n",
    "\n",
    "\n",
    "def inorder_traversal(root):\n",
    "    if root is None:\n",
    "        return []\n",
    "    return inorder_traversal(root.left) + [root.data] + inorder_traversal(root.right)\n",
    "\n",
    "\n",
    "# Example usage:\n",
    "level_order = [7, 4, 12, 3, 6, 8, 1, 5, 10]\n",
    "bst_root = construct_bst(level_order)\n",
    "\n",
    "print(\"BST:\")\n",
    "inorder = inorder_traversal(bst_root)\n",
    "for num in inorder:\n",
    "    print(num)\n"
   ]
  },
  {
   "cell_type": "markdown",
   "id": "f4a2e8ba-5bcb-4794-a77b-83b6b14e8f3e",
   "metadata": {},
   "source": [
    "## Question 3"
   ]
  },
  {
   "cell_type": "code",
   "execution_count": 3,
   "id": "36a04baf-f51a-46f6-9588-f9ecd0537cfb",
   "metadata": {},
   "outputs": [
    {
     "name": "stdout",
     "output_type": "stream",
     "text": [
      "Output1: No\n",
      "Output2: No\n"
     ]
    }
   ],
   "source": [
    "def is_level_order_bst(arr):\n",
    "    if not arr:\n",
    "        return True\n",
    "\n",
    "    stack = []\n",
    "    min_val = float(\"-inf\")\n",
    "\n",
    "    for num in arr:\n",
    "        if num < min_val:\n",
    "            return False\n",
    "\n",
    "        while stack and num > stack[-1]:\n",
    "            min_val = stack.pop()\n",
    "\n",
    "        stack.append(num)\n",
    "\n",
    "    while stack:\n",
    "        if stack.pop() < min_val:\n",
    "            return False\n",
    "\n",
    "    return True\n",
    "\n",
    "\n",
    "# Example usage:\n",
    "arr1 = [7, 4, 12, 3, 6, 8, 1, 5, 10]\n",
    "result1 = is_level_order_bst(arr1)\n",
    "print(\"Output1:\", \"Yes\" if result1 else \"No\")\n",
    "\n",
    "arr2 = [11, 6, 13, 5, 12, 10]\n",
    "result2 = is_level_order_bst(arr2)\n",
    "print(\"Output2:\", \"Yes\" if result2 else \"No\")\n"
   ]
  }
 ],
 "metadata": {
  "kernelspec": {
   "display_name": "Python 3 (ipykernel)",
   "language": "python",
   "name": "python3"
  },
  "language_info": {
   "codemirror_mode": {
    "name": "ipython",
    "version": 3
   },
   "file_extension": ".py",
   "mimetype": "text/x-python",
   "name": "python",
   "nbconvert_exporter": "python",
   "pygments_lexer": "ipython3",
   "version": "3.9.9"
  }
 },
 "nbformat": 4,
 "nbformat_minor": 5
}
